{
 "cells": [
  {
   "cell_type": "code",
   "execution_count": 7,
   "id": "0d74fc6c",
   "metadata": {},
   "outputs": [
    {
     "name": "stdout",
     "output_type": "stream",
     "text": [
      "The autoreload extension is already loaded. To reload it, use:\n",
      "  %reload_ext autoreload\n"
     ]
    }
   ],
   "source": [
    "# IPython magig  tools\n",
    "%load_ext autoreload\n",
    "%autoreload 2\n",
    "\n",
    "\n",
    "import sys\n",
    "sys.path.append('../src/')\n",
    "\n",
    "import os\n",
    "from os import PathLike\n",
    "from pathlib import Path\n",
    "\n",
    "import data_io\n",
    "\n",
    "from aind_vr_foraging_analysis.utils.parsing import parse, data_access\n",
    "import aind_vr_foraging_analysis.utils.plotting as plotting\n",
    "\n",
    "# Plotting libraries\n",
    "import matplotlib.pyplot as plt\n",
    "from matplotlib.backends.backend_pdf import PdfPages\n",
    "\n",
    "import seaborn as sns\n",
    "import pandas as pd\n",
    "import numpy as np\n",
    "from matplotlib.patches import Rectangle\n",
    "\n",
    "def format_func(value, tick_number):\n",
    "    return f\"{value:.0f}\"\n",
    "\n",
    "\n",
    "sns.set_context('talk')\n",
    "\n",
    "import warnings\n",
    "pd.options.mode.chained_assignment = None  # Ignore SettingWithCopyWarning\n",
    "warnings.simplefilter(action='ignore', category=FutureWarning)\n",
    "warnings.simplefilter(\"ignore\", UserWarning)\n",
    "warnings.filterwarnings(\"ignore\", category=RuntimeWarning)\n",
    "\n",
    "from typing import TYPE_CHECKING, Annotated, Any, Dict, List, Literal, Optional, Self, TextIO, Tuple, TypeAlias, Union\n",
    "\n",
    "import yaml"
   ]
  },
  {
   "cell_type": "code",
   "execution_count": null,
   "id": "044653c8",
   "metadata": {},
   "outputs": [],
   "source": [
    "case DeviceYmlByRegister0(register0_glob_pattern=glob_pattern):\n",
    "    # If we are allowed to infer the WhoAmI, we try to find it\n",
    "    _reg_0_hint: List[os.PathLike] = []\n",
    "    for pattern in glob_pattern:\n",
    "        _reg_0_hint.extend(Path(params.path).glob(pattern))\n",
    "    if len(_reg_0_hint) == 0:\n",
    "        raise FileNotFoundError(\n",
    "            \"File corresponding to WhoAmI register not found given the provided glob patterns.\"\n",
    "        )\n",
    "    device_hint = int(\n",
    "        harp.read(_reg_0_hint[0]).values[0][0]\n",
    "    )  # We read the first line of the file to get the WhoAmI value\n",
    "    _yml_stream = io.TextIOWrapper(fetch_yml_from_who_am_i(device_hint))"
   ]
  },
  {
   "cell_type": "code",
   "execution_count": 18,
   "id": "8e799a9b",
   "metadata": {},
   "outputs": [],
   "source": [
    "def fetch_who_am_i_list(\n",
    "    url: str = \"https://raw.githubusercontent.com/harp-tech/whoami/main/whoami.yml\",\n",
    ") -> Dict[int, Any]:\n",
    "    \"\"\"Fetch and parse the Harp WhoAmI registry.\n",
    "\n",
    "    Downloads and parses the WhoAmI registry YAML file from GitHub.\n",
    "    Results are cached for efficiency.\n",
    "\n",
    "    Args:\n",
    "        url: URL to the WhoAmI registry YAML file.\n",
    "\n",
    "    Returns:\n",
    "        Dict[int, Any]: Dictionary mapping WhoAmI identifiers to device information.\n",
    "    \"\"\"\n",
    "    response = requests.get(url, allow_redirects=True, timeout=5)\n",
    "    content = response.content.decode(\"utf-8\")\n",
    "    content = yaml.safe_load(content)\n",
    "    devices = content[\"devices\"]\n",
    "    return devices\n",
    "\n",
    "def fetch_yml_from_who_am_i(who_am_i: int, release: str = \"main\") -> io.BytesIO:\n",
    "    \"\"\"Fetch a device YAML file based on its WhoAmI identifier.\n",
    "\n",
    "    Looks up the device in the WhoAmI registry and downloads its YAML file.\n",
    "\n",
    "    Args:\n",
    "        who_am_i: WhoAmI identifier of the device.\n",
    "        release: Git branch or tag to use for fetching the YAML file.\n",
    "\n",
    "    Returns:\n",
    "        io.BytesIO: Memory buffer containing the device YAML content.\n",
    "\n",
    "    Raises:\n",
    "        KeyError: If the WhoAmI identifier is not found in the registry.\n",
    "        ValueError: If required repository information is missing or YAML file cannot be found.\n",
    "    \"\"\"\n",
    "    try:\n",
    "        device = fetch_who_am_i_list()[who_am_i]\n",
    "    except KeyError as e:\n",
    "        raise KeyError(f\"WhoAmI {who_am_i} not found in whoami.yml\") from e\n",
    "\n",
    "    repository_url = device.get(\"repositoryUrl\", None)\n",
    "\n",
    "    if repository_url is None:\n",
    "        raise ValueError(\"Device's repositoryUrl not found in whoami.yml\")\n",
    "\n",
    "    _repo_hint_paths = [\n",
    "        \"{repository_url}/{release}/device.yml\",\n",
    "        \"{repository_url}/{release}/software/bonsai/device.yml\",\n",
    "    ]\n",
    "\n",
    "    yml = None\n",
    "    for hint in _repo_hint_paths:\n",
    "        url = hint.format(repository_url=repository_url, release=release)\n",
    "        if \"github.com\" in url:\n",
    "            url = url.replace(\"github.com\", \"raw.githubusercontent.com\")\n",
    "        response = requests.get(url, allow_redirects=True, timeout=5)\n",
    "        if response.status_code == 200:\n",
    "            yml = io.BytesIO(response.content)\n",
    "            print(yml)\n",
    "            return yml\n",
    "\n",
    "    raise ValueError(\"device.yml not found in any repository\")\n"
   ]
  },
  {
   "cell_type": "code",
   "execution_count": 22,
   "id": "61620bac",
   "metadata": {},
   "outputs": [
    {
     "name": "stdout",
     "output_type": "stream",
     "text": [
      "<_io.BytesIO object at 0x0000022592C31DA0>\n"
     ]
    }
   ],
   "source": [
    "file = io.TextIOWrapper(fetch_yml_from_who_am_i(1140, \"fw1.3-harp1.13\"))"
   ]
  },
  {
   "cell_type": "code",
   "execution_count": 20,
   "id": "77b4b932",
   "metadata": {},
   "outputs": [
    {
     "data": {
      "text/plain": [
       "'%YAML 1.1\\n---\\n# yaml-language-server: $schema=https://raw.githubusercontent.com/harp-tech/reflex-generator/main/schema/device.json\\ndevice: Olfactometer\\nwhoAmI: 1140\\nfirmwareVersion: \"1.3\"\\nhardwareTargets: \"1.0\"\\nregisters:\\n  EnableFlow:\\n    address: 32\\n    access: Write\\n    type: U8\\n    maskType: EnableFlag\\n    description: Starts or stops the flow in all channels.\\n  Flowmeter:\\n    address: 33\\n    access: Event\\n    length: 5\\n    type: S16\\n    description: Value of single ADC read from all flowmeter channels.\\n    payloadSpec:\\n      Channel0:\\n        offset: 0\\n      Channel1:\\n        offset: 1\\n      Channel2:\\n        offset: 2\\n      Channel3:\\n        offset: 3\\n      Channel4:\\n        offset: 4\\n  DI0State:\\n    address: 34\\n    access: Event\\n    type: U8\\n    maskType: DigitalState\\n    description: State of the digital input pin 0.\\n  Channel0UserCalibration: &channel0UserCalibration\\n    address: 35\\n    access: Write\\n    length: 11\\n    type: U16\\n    description: Calibration values for a single channel [x0,...xn], where x= ADC raw value for 0:10:100 ml/min.\\n  Channel1UserCalibration:\\n    <<: *channel0UserCalibration\\n    address: 36\\n  Channel2UserCalibration:\\n    <<: *channel0UserCalibration\\n    address: 37\\n  Channel3UserCalibration:\\n    <<: *channel0UserCalibration\\n    address: 38\\n  Channel4UserCalibration:\\n    <<: *channel0UserCalibration\\n    description: Calibration values specific for channel 4 [x0,...xn], where x= ADC raw value for 0:100:1000 ml/min.\\n    address: 39\\n  Channel3UserCalibrationAux:\\n    <<: *channel0UserCalibration\\n    description: Calibration values specific for channel 3 if Channel3RangeConfig = FlowRate1000. [x0,...xn], where x= ADC raw value for 0:100:1000 ml/min.\\n    address: 40\\n  UserCalibrationEnable:\\n    address: 41\\n    access: Write\\n    type: U8\\n    maskType: EnableFlag\\n    description: Override the factory calibration values, replacing with CHX_USER_CALIBRATION.\\n  Channel0TargetFlow: &channel0TargetFlow\\n    address: 42\\n    access: Write\\n    type: Float\\n    minValue: 0\\n    maxValue: 100\\n    description: Sets the flow-rate rate for channel 0 [ml/min].\\n  Channel1TargetFlow:\\n    <<: *channel0TargetFlow\\n    address: 43\\n    description: Sets the flow-rate rate for channel 1 [ml/min].\\n  Channel2TargetFlow:\\n    <<: *channel0TargetFlow\\n    address: 44\\n    description: Sets the flow-rate rate for channel 2 [ml/min].\\n  Channel3TargetFlow:\\n    <<: *channel0TargetFlow\\n    address: 45\\n    minValue: 0\\n    maxValue: 1000\\n    description: Sets the flow-rate rate for channel 3 [ml/min].\\n  Channel4TargetFlow:\\n    <<: *channel0TargetFlow\\n    address: 46\\n    minValue: 0\\n    maxValue: 1000\\n    description: Sets the flow-rate rate for channel 4 [ml/min].\\n  ChannelsTargetFlow:\\n    address: 47\\n    access: Write\\n    length: 5\\n    type: Float\\n    description: Sets the flow-rate rate for all channels [ml/min].\\n    payloadSpec:\\n      Channel0:\\n        offset: 0\\n      Channel1:\\n        offset: 1\\n      Channel2:\\n        offset: 2\\n      Channel3:\\n        offset: 3\\n      Channel4:\\n        offset: 4\\n  Channel0ActualFlow: &actualFlow\\n    address: 48\\n    access: Event\\n    type: Float\\n    description: Actual flow-rate read for channel 0 - flowmeter 0 [ml/min].\\n  Channel1ActualFlow:\\n    <<: *actualFlow\\n    address: 49\\n    description: Actual flow-rate read for channel 1 - flowmeter 1 [ml/min].\\n  Channel2ActualFlow:\\n    <<: *actualFlow\\n    address: 50\\n    description: Actual flow-rate read for channel 2 - flowmeter 2 [ml/min].\\n  Channel3ActualFlow:\\n    <<: *actualFlow\\n    address: 51\\n    description: Actual flow-rate read for channel 3 - flowmeter 3 [ml/min].\\n  Channel4ActualFlow:\\n    <<: *actualFlow\\n    address: 52\\n    description: Actual flow-rate read for channel 4 - flowmeter 4 [ml/min].\\n  Channel0Frequency: &channelFrequency\\n    address: 53\\n    access: Write\\n    type: U16\\n    visibility: private\\n    description: Switching frequency for proportional valve 0 - DO NOT CHANGE [Hz].\\n  Channel1Frequency:\\n    <<: *channelFrequency\\n    address: 54\\n    description: Switching frequency for proportional valve 1 - DO NOT CHANGE [Hz].\\n  Channel2Frequency:\\n    <<: *channelFrequency\\n    address: 55\\n    description: Switching frequency for proportional valve 2 - DO NOT CHANGE [Hz].\\n  Channel3Frequency:\\n    <<: *channelFrequency\\n    address: 56\\n    description: Switching frequency for proportional valve 3 - DO NOT CHANGE [Hz].\\n  Channel4Frequency:\\n    <<: *channelFrequency\\n    address: 57\\n    description: Switching frequency for proportional valve 4 - DO NOT CHANGE [Hz].\\n  Channel0DutyCycle: &channel0DutyCycle\\n    address: 58\\n    access: Write\\n    type: Float\\n    minValue: 0.2\\n    maxValue: 99.9\\n    description: Duty cycle for proportional valve 0 [%].\\n  Channel1DutyCycle:\\n    <<: *channel0DutyCycle\\n    address: 59\\n    description: Duty cycle for proportional valve 1 [%].\\n  Channel2DutyCycle:\\n    <<: *channel0DutyCycle\\n    address: 60\\n    description: Duty cycle for proportional valve 2 [%].\\n  Channel3DutyCycle:\\n    <<: *channel0DutyCycle\\n    address: 61\\n    description: Duty cycle for proportional valve 3 [%].\\n  Channel4DutyCycle:\\n    <<: *channel0DutyCycle\\n    address: 62\\n    description: Duty cycle for proportional valve 4 [%].\\n  DigitalOutputSet: &outputs\\n    address: 63\\n    access: Write\\n    type: U8\\n    maskType: DigitalOutputs\\n    description: Set the specified digital output lines.\\n  DigitalOutputClear:\\n    <<: *outputs\\n    address: 64\\n    description: Clears the specified digital output lines.\\n  DigitalOutputToggle:\\n    <<: *outputs\\n    address: 65\\n    description: Toggles the specified digital output lines.\\n  DigitalOutputState:\\n    address: 66\\n    access: Write\\n    type: U8\\n    maskType: DigitalOutputs\\n    description: Write the state of all digital output lines.\\n  EnableValvePulse:\\n    address: 67\\n    access: Write\\n    type: U8\\n    maskType: Valves\\n    description: Enable pulse mode for valves.\\n  ValveSet:\\n    address: 68\\n    access: Write\\n    type: U8\\n    maskType: Valves\\n    description: Set the specified valve output lines.\\n  ValveClear:\\n    address: 69\\n    access: Write\\n    type: U8\\n    maskType: Valves\\n    description: Clears the specified valve output lines.\\n  ValveToggle:\\n    address: 70\\n    access: Write\\n    type: U8\\n    maskType: Valves\\n    description: Toggles the specified valve output lines.\\n  OdorValveState:\\n    address: 71\\n    access: Write\\n    type: U8\\n    maskType: OdorValves\\n    description: Write the state of all odor valve output lines.\\n  EndValveState:\\n    address: 72\\n    access: Write\\n    type: U8\\n    maskType: EndValves\\n    description: Write the state of all end valve output lines.\\n  Valve0PulseDuration: &valvePulseDuration\\n    address: 73\\n    access: Write\\n    type: U16\\n    minValue: 1\\n    maxValue: 65535\\n    description: Sets the pulse duration for Valve0.\\n  Valve1PulseDuration:\\n    <<: *valvePulseDuration\\n    address: 74\\n    description: Sets the pulse duration for Valve1.\\n  Valve2PulseDuration:\\n    <<: *valvePulseDuration\\n    address: 75\\n    description: Sets the pulse duration for Valve2.\\n  Valve3PulseDuration:\\n    <<: *valvePulseDuration\\n    address: 76\\n    description: Sets the pulse duration for Valve3.\\n  EndValve0PulseDuration:\\n    <<: *valvePulseDuration\\n    address: 77\\n    description: Sets the pulse duration for EndValve0.\\n  EndValve1PulseDuration:\\n    <<: *valvePulseDuration\\n    address: 78\\n    description: Sets the pulse duration for EndValve1.\\n  PulseDummyValve:\\n    <<: *valvePulseDuration\\n    address: 79\\n    access: Read\\n    visibility: private\\n    description: Dummy valve pulse duration [1:65535] ms.\\n  DO0Sync:\\n      address: 80\\n      access: Write\\n      type: U8\\n      maskType: DO0SyncConfig\\n      description: Configuration of the digital output 0 (DOUT0).\\n  DO1Sync:\\n      address: 81\\n      access: Write\\n      type: U8\\n      maskType: DO1SyncConfig\\n      description: Configuration of the digital output 1 (DOUT1).\\n  DI0Trigger:\\n      address: 82\\n      access: Write\\n      type: U8\\n      maskType: DI0TriggerConfig\\n      description: Configuration of the digital input pin 0 (DIN0).\\n  MimicValve0: &mimicValve\\n    address: 83\\n    access: Write\\n    type: U8\\n    maskType: MimicOutputs\\n    description: Mimic Valve0.\\n  MimicValve1:\\n    <<: *mimicValve\\n    address: 84\\n    description: Mimic Valve1.\\n  MimicValve2:\\n    <<: *mimicValve\\n    address: 85\\n    description: Mimic Valve2.\\n  MimicValve3:\\n    <<: *mimicValve\\n    address: 86\\n    description: Mimic Valve3.\\n  MimicEndValve0:\\n    <<: *mimicValve\\n    address: 87\\n    description: Mimic EndValve0.\\n  MimicEndValve1:\\n    <<: *mimicValve\\n    address: 88\\n    description: Mimic EndValve1.\\n  MimicDummyValve:\\n    <<: *mimicValve\\n    address: 89\\n    access: Read\\n    visibility: private\\n    description: Mimic DummyValve.\\n  EnableValveExternalControl:\\n    address: 90\\n    type: U8\\n    access: Write\\n    maskType: EnableFlag\\n    description: Enable the valves control via low-level IO screw terminals.\\n  Channel3Range:\\n    address: 91\\n    type: U8\\n    access: Write\\n    maskType: Channel3RangeConfig\\n    description: Selects the flow range for the channel 3.\\n  TemperatureValue: \\n    address: 92\\n    type: U8\\n    access: Read\\n    description: Temperature sensor reading value.\\n  EnableTemperatureCalibration:\\n    address: 93\\n    type: U8\\n    access: Write\\n    description: Enable flow adjustment based on the temperature calibration.\\n  TemperatureCalibrationValue:\\n    address: 94\\n    type: U8\\n    access: Write\\n    description: Temperature value measured during the device calibration.\\n  EnableEvents:\\n    address: 95\\n    access: Write\\n    type: U8\\n    maskType: OlfactometerEvents\\n    description: Specifies the active events in the device.\\nbitMasks:\\n  DigitalOutputs:\\n    description: Specifies the states of the digital outputs.\\n    bits:\\n      DO0: 0x1\\n      DO1: 0x2\\n  Valves:\\n    description: Specifies the states of the valves.\\n    bits:\\n      Valve0: 0x1\\n      Valve1: 0x2\\n      Valve2: 0x4\\n      Valve3: 0x8\\n      EndValve0: 0x10\\n      EndValve1: 0x20\\n      ValveDummy: 0x40\\n  OdorValves:\\n    description: Specifies the states of the odor valves.\\n    bits:\\n      Valve0: 0x1\\n      Valve1: 0x2\\n      Valve2: 0x4\\n      Valve3: 0x8\\n  EndValves:\\n    description: Specifies the states of the end valves.\\n    bits:\\n      EndValve0: 0x10\\n      EndValve1: 0x20\\n      ValveDummy: 0x40\\n  OlfactometerEvents:\\n    description: The events that can be enabled/disabled.\\n    bits:\\n      Flowmeter: 0x1\\n      DI0Trigger: 0x2\\n      ChannelActualFlow: 0x4\\ngroupMasks:\\n  DigitalState:\\n    description: The state of a digital pin.\\n    values:\\n      Low: 0\\n      High: 1\\n  DO0SyncConfig:\\n    description: Available configurations when using DO0 pin to report firmware events.\\n    values:\\n      None: 0x0\\n      MimicEnableFlow: 0x1\\n  DO1SyncConfig:\\n    description: Available configurations when using DO1 pin to report firmware events.\\n    values:\\n      None: 0x0\\n      MimicEnableFlow: 0x1\\n  DI0TriggerConfig:\\n    description: Specifies the configuration of the digital input 0 (DIN0).\\n    values:\\n      Sync: 0x0\\n      EnableFlowWhileHigh: 0x1\\n      ValveToggle: 0x2\\n  MimicOutputs:\\n    description: Specifies the target IO on which to mimic the specified register.\\n    values:\\n      None: 0x0\\n      DO0: 0x1\\n      DO1: 0x2\\n  Channel3RangeConfig:\\n    description: Available flow ranges for channel 3 (ml/min).\\n    values:\\n      FlowRate100: 0x0\\n      FlowRate1000: 0x1\\n\\n'"
      ]
     },
     "execution_count": 20,
     "metadata": {},
     "output_type": "execute_result"
    }
   ],
   "source": [
    "file.read()"
   ]
  }
 ],
 "metadata": {
  "kernelspec": {
   "display_name": "Aind.Behavior.VrForaging.Analysis",
   "language": "python",
   "name": "python3"
  },
  "language_info": {
   "codemirror_mode": {
    "name": "ipython",
    "version": 3
   },
   "file_extension": ".py",
   "mimetype": "text/x-python",
   "name": "python",
   "nbconvert_exporter": "python",
   "pygments_lexer": "ipython3",
   "version": "3.11.9"
  }
 },
 "nbformat": 4,
 "nbformat_minor": 5
}
