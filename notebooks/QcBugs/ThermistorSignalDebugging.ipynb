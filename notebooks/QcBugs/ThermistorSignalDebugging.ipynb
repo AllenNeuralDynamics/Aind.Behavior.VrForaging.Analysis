{
 "cells": [
  {
   "cell_type": "code",
   "execution_count": null,
   "metadata": {},
   "outputs": [],
   "source": [
    "import sys\n",
    "import os\n",
    "import pandas as pd\n",
    "import numpy as np\n",
    "import scipy\n",
    "from pathlib import Path\n",
    "from scipy.signal import lfilter, firwin\n",
    "\n",
    "sys.path.append('../../src/')\n",
    "from utils import analysis_utils as analysis\n",
    "from utils import plotting_utils as plotting\n",
    "import datetime\n",
    "## Data settings\n",
    "from statannot import add_stat_annotation\n",
    "\n",
    "## Plotting settings\n",
    "import matplotlib.patches as mpatches\n",
    "import seaborn as sns\n",
    "import matplotlib.pyplot as plt\n",
    "from matplotlib.patches import Rectangle\n",
    "\n",
    "plt.rcParams['font.sans-serif'] = \"Arial\"\n",
    "plt.rcParams['font.family'] = \"sans-serif\"\n",
    "\n",
    "sns.set_context(\"talk\")\n",
    "\n",
    "import ipywidgets as widgets\n",
    "from IPython.display import display\n",
    "from matplotlib.patches import Rectangle"
   ]
  },
  {
   "cell_type": "markdown",
   "metadata": {},
   "source": [
    "# Explore the sniff sensor data with the lick sensor shorting. \n",
    "\n",
    "Associate document exploring these details: https://alleninstitute-my.sharepoint.com/:w:/g/personal/tiffany_ona_alleninstitute_org/EQmEAcuGsHxAqWb2WePXJxoB2nmKrqrQ0Cp-3Xy0Yq0NlQ?e=QFFLbp\n"
   ]
  },
  {
   "cell_type": "code",
   "execution_count": null,
   "metadata": {},
   "outputs": [],
   "source": [
    "date = datetime.date.today()\n",
    "date_string = \"4/12/2024\"\n",
    "dacte = datetime.datetime.strptime(date_string, \"%m/%d/%Y\").date()"
   ]
  },
  {
   "cell_type": "code",
   "execution_count": null,
   "metadata": {},
   "outputs": [],
   "source": [
    "pdf_path = r'Z:\\scratch\\vr-foraging\\sessions'\n",
    "base_path = 'Z:/scratch/vr-foraging/data/'"
   ]
  },
  {
   "cell_type": "code",
   "execution_count": null,
   "metadata": {},
   "outputs": [],
   "source": [
    "mouse = '716458'"
   ]
  },
  {
   "cell_type": "code",
   "execution_count": null,
   "metadata": {},
   "outputs": [],
   "source": [
    "session_found = False\n",
    "\n",
    "directory = os.path.join(base_path, mouse)\n",
    "files = os.listdir(os.path.join(base_path, mouse))\n",
    "\n",
    "sorted_files = sorted(files, key=lambda x: os.path.getctime(os.path.join(directory, x)), reverse=True)\n",
    "\n",
    "for file_name in sorted_files:\n",
    "    \n",
    "    print(file_name)\n",
    "    session_path = os.path.join(base_path, mouse, file_name)\n",
    "    session = file_name[:8]\n",
    "    session_path = Path(session_path)\n",
    "    \n",
    "    if session_found == True:\n",
    "        break\n",
    "    \n",
    "    if datetime.date.fromtimestamp(os.path.getctime(session_path)) != date:\n",
    "        continue\n",
    "    else:\n",
    "        print('correct date found')\n",
    "        session_found = True\n",
    "    \n",
    "\n",
    "    data = analysis.load_session_data(session_path)\n",
    "    \n",
    "\n",
    "    data['harp_olfactometer'].streams.OdorValveState.load_from_file()\n",
    "    data['harp_olfactometer'].streams.EndValveState.load_from_file()\n",
    "    data['software_events'].streams.ActiveSite.load_from_file()\n",
    "    data['software_events'].streams.ChoiceFeedback.load_from_file()\n",
    "    \n",
    "    data['harp_behavior'].streams.OutputSet.load_from_file()\n",
    "    data['harp_behavior'].streams.OutputClear.load_from_file()\n",
    "    \n",
    "    reward_sites, active_site, encoder_data, config = analysis.parse_data(data)\n",
    "    \n",
    "    data['harp_lickometer'].streams.LickState.load_from_file()\n",
    "    licks = data['harp_lickometer'].streams.LickState.data['Channel0'] == True\n",
    "    licks = licks.loc[licks == True]"
   ]
  },
  {
   "cell_type": "markdown",
   "metadata": {},
   "source": [
    "### Try the signal from the sniff sensor"
   ]
  },
  {
   "cell_type": "code",
   "execution_count": null,
   "metadata": {},
   "outputs": [],
   "source": [
    "def plot_thermistor(x_start):\n",
    "    fig, ax = plt.subplots(2,1, figsize=(10,4), sharex=True, gridspec_kw={'height_ratios': [3, 1]})\n",
    "    plt.suptitle(f'{mouse}')\n",
    "    if 'harp_sniffsensor' in data:\n",
    "        print('plot harp sniff sensor')\n",
    "        data['harp_sniffsensor'].streams.RawVoltage.load_from_file()\n",
    "        zero_index = data['harp_sniffsensor'].streams.RawVoltage.data['RawVoltage'].index[0]\n",
    "        ax[0].plot(data['harp_sniffsensor'].streams.RawVoltage.data['RawVoltage'].index-zero_index, data['harp_sniffsensor'].streams.RawVoltage.data['RawVoltage'].values)\n",
    "        sns.despine()\n",
    "        \n",
    "    else:\n",
    "        print('plot analog sniff sensor')\n",
    "\n",
    "        zero_index = data['harp_behavior'].streams.AnalogData.data['AnalogInput0'].index[0]\n",
    "        ax[0].plot(data['harp_behavior'].streams.AnalogData.data['AnalogInput0'].index-zero_index, data['harp_behavior'].streams.AnalogData.data['AnalogInput0'].values)\n",
    "\n",
    "    ax[0].set_xlim([x_start, x_start + 5])\n",
    "    ax[0].set_ylabel('Voltage (V)')\n",
    "    \n",
    "    ax[1].scatter(licks.index - zero_index,  licks.index * 0 + 1, marker='|')\n",
    "    ax[1].set_xlim([x_start, x_start + 5])\n",
    "    ax[1].set_xlabel('Time (s)')\n",
    "    sns.despine()\n",
    "    plt.tight_layout()\n",
    "\n",
    "        \n",
    "# Define callback functions for the arrow buttons\n",
    "def on_left_button_clicked(button):\n",
    "    x_start_widget.value -= 5\n",
    "\n",
    "def on_right_button_clicked(button):\n",
    "    x_start_widget.value += 5\n",
    "\n",
    "# Create arrow buttons\n",
    "left_button = widgets.Button(description='◄')\n",
    "right_button = widgets.Button(description='►')\n",
    "\n",
    "# Define widget for the starting value of x-axis\n",
    "x_start_widget = widgets.FloatText(value=00.0, description='X start:', continuous_update=False)\n",
    "\n",
    "# Set button click event handlers\n",
    "left_button.on_click(on_left_button_clicked)\n",
    "right_button.on_click(on_right_button_clicked)\n",
    "\n",
    "# Arrange the buttons and widget horizontally\n",
    "button_box = widgets.HBox([left_button, right_button])\n",
    "ui = widgets.VBox([button_box, x_start_widget])\n",
    "\n",
    "# Create interactive plot\n",
    "interactive_plot = widgets.interactive_output(plot_thermistor, {'x_start': x_start_widget})\n",
    "\n",
    "# Display the interactive plot and UI\n",
    "display(ui, interactive_plot)\n"
   ]
  },
  {
   "cell_type": "markdown",
   "metadata": {},
   "source": [
    "### Plot both signals acquired at the same time"
   ]
  },
  {
   "cell_type": "code",
   "execution_count": null,
   "metadata": {},
   "outputs": [],
   "source": [
    "date = datetime.date.today()\n",
    "date_string = \"4/17/2024\"\n",
    "dacte = datetime.datetime.strptime(date_string, \"%m/%d/%Y\").date()"
   ]
  },
  {
   "cell_type": "code",
   "execution_count": null,
   "metadata": {},
   "outputs": [],
   "source": [
    "pdf_path = r'Z:\\scratch\\vr-foraging\\sessions'\n",
    "base_path = 'Z:/scratch/vr-foraging/data/'"
   ]
  },
  {
   "cell_type": "code",
   "execution_count": null,
   "metadata": {},
   "outputs": [],
   "source": [
    "mouse = '716455'"
   ]
  },
  {
   "cell_type": "code",
   "execution_count": null,
   "metadata": {},
   "outputs": [],
   "source": [
    "def plot_thermistor(x_start):\n",
    "    fig, ax = plt.subplots(3,1, figsize=(10,7), sharex=True, gridspec_kw={'height_ratios': [3,3, 1]})\n",
    "    plt.suptitle(f'{mouse}')\n",
    "\n",
    "    print('plot harp sniff sensor')\n",
    "    data['harp_sniffsensor'].streams.RawVoltage.load_from_file()\n",
    "    zero_index = data['harp_sniffsensor'].streams.RawVoltage.data['RawVoltage'].index[0]\n",
    "    ax[0].plot(data['harp_sniffsensor'].streams.RawVoltage.data['RawVoltage'].index-zero_index, data['harp_sniffsensor'].streams.RawVoltage.data['RawVoltage'].values, label = 'Harp Sniff Sensor', linewidth=1.5)\n",
    "    ax[0].set_ylim(2050,2150)\n",
    "    print('plot analog sniff sensor')\n",
    "\n",
    "    zero_index = data['harp_behavior'].streams.AnalogData.data['AnalogInput0'].index[0]\n",
    "    ax[1].plot(data['harp_behavior'].streams.AnalogData.data['AnalogInput0'].index-zero_index, data['harp_behavior'].streams.AnalogData.data['AnalogInput0'].values, color='indigo', label = 'Analog Sniff Sensor', linewidth=1)\n",
    "    ax[1].set_ylim(1250,1350)\n",
    "    ax[0].set_xlim([x_start, x_start + 5])\n",
    "\n",
    "    ax[0].set_ylabel('Voltage (V)')\n",
    "    \n",
    "    ax[2].scatter(licks.index - zero_index,  licks.index * 0 + 1, marker='|')\n",
    "    ax[2].set_xlim([x_start, x_start + 5])\n",
    "    ax[2].set_xlabel('Time (s)')\n",
    "    sns.despine()\n",
    "    plt.tight_layout()\n",
    "    plt.legend(handles=[mpatches.Patch(color='blue', label='Harp Sniff Sensor'), mpatches.Patch(color='indigo', label='Analog Sniff Sensor')], bbox_to_anchor=(1.05, 1), loc='upper left', borderaxespad=0.)\n",
    "\n",
    "# Define callback functions for the arrow buttons\n",
    "def on_left_button_clicked(button):\n",
    "    x_start_widget.value -= 5\n",
    "\n",
    "def on_right_button_clicked(button):\n",
    "    x_start_widget.value += 5\n",
    "\n",
    "# Create arrow buttons\n",
    "left_button = widgets.Button(description='◄')\n",
    "right_button = widgets.Button(description='►')\n",
    "\n",
    "# Define widget for the starting value of x-axis\n",
    "x_start_widget = widgets.FloatText(value=00.0, description='X start:', continuous_update=False)\n",
    "\n",
    "# Set button click event handlers\n",
    "left_button.on_click(on_left_button_clicked)\n",
    "right_button.on_click(on_right_button_clicked)\n",
    "\n",
    "# Arrange the buttons and widget horizontally\n",
    "button_box = widgets.HBox([left_button, right_button])\n",
    "ui = widgets.VBox([button_box, x_start_widget])\n",
    "\n",
    "# Create interactive plot\n",
    "\n",
    "interactive_plot = widgets.interactive_output(plot_thermistor, {'x_start': x_start_widget})\n",
    "\n",
    "# Display the interactive plot and UI\n",
    "display(ui, interactive_plot)\n",
    "\n"
   ]
  }
 ],
 "metadata": {
  "kernelspec": {
   "display_name": ".venv",
   "language": "python",
   "name": "python3"
  },
  "language_info": {
   "codemirror_mode": {
    "name": "ipython",
    "version": 3
   },
   "file_extension": ".py",
   "mimetype": "text/x-python",
   "name": "python",
   "nbconvert_exporter": "python",
   "pygments_lexer": "ipython3",
   "version": "3.11.5"
  }
 },
 "nbformat": 4,
 "nbformat_minor": 2
}
