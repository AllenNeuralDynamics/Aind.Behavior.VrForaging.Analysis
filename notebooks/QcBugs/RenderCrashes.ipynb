{
 "cells": [
  {
   "cell_type": "code",
   "execution_count": null,
   "metadata": {},
   "outputs": [],
   "source": [
    "#warnings\n",
    "import warnings\n",
    "\n",
    "# Core\n",
    "import sys\n",
    "import pandas as pd\n",
    "import numpy as np\n",
    "from pathlib import Path\n",
    "from typing import List, Dict, Tuple, Optional, Union, Any, Callable\n",
    "\n",
    "## Harp/Bonsai\n",
    "sys.path.append('../../src/')\n",
    "from bonsai import load_bonsai_config\n",
    "load_bonsai_config(r\"C:\\git\\AllenNeuralDynamics\\aind-vr-foraging\\Bonsai\")\n",
    "import harp\n",
    "import harp.processing\n",
    "import data_io\n",
    "sys.path.append('../BehaviorAnalysis/')\n",
    "\n"
   ]
  },
  {
   "cell_type": "code",
   "execution_count": null,
   "metadata": {},
   "outputs": [],
   "source": [
    "def load_session_data(session_path: str | Path) -> Dict[str, data_io.DataStreamSource]:\n",
    "    _out_dict = {}\n",
    "\n",
    "    HarpBehavior = harp.HarpDevice(\"Behavior\")\n",
    "    _out_dict[\"harp_behavior\"] = data_io.HarpSource(\n",
    "        device=HarpBehavior,\n",
    "        path=session_path / \"Behavior\",\n",
    "        name=\"behavior\",\n",
    "        autoload=True)\n",
    "    _out_dict[\"software_events\"] = data_io.SoftwareEventSource(\n",
    "        path=session_path / \"SoftwareEvents\",\n",
    "        name=\"software_events\",\n",
    "        autoload=True)\n",
    "    _out_dict[\"config\"] = data_io.ConfigSource(\n",
    "        path=session_path / \"Config\",\n",
    "        name=\"config\",\n",
    "        autoload=True)\n",
    "    _out_dict[\"operation_control\"] = data_io.OperationControlSource(\n",
    "        path=session_path / \"OperationControl\",\n",
    "        name=\"config\",\n",
    "        autoload=True)\n",
    "    return _out_dict\n"
   ]
  },
  {
   "cell_type": "code",
   "execution_count": null,
   "metadata": {},
   "outputs": [],
   "source": [
    "data_root = Path(r\"Z:\\scratch\\vr-foraging\")\n",
    "sessions = [\n",
    "    r\"672107/20231024T130736\",\n",
    "    r\"672106/20231024T114555\",\n",
    "    r\"672104/20231024T103954\"]\n"
   ]
  },
  {
   "cell_type": "code",
   "execution_count": null,
   "metadata": {},
   "outputs": [],
   "source": [
    "streams_to_merge = [\"harp_behavior\", \"software_events\", \"operation_control\"]"
   ]
  },
  {
   "cell_type": "code",
   "execution_count": null,
   "metadata": {},
   "outputs": [],
   "source": [
    "across_animal_data = []\n",
    "for session_idx, session in enumerate(sessions):\n",
    "    current_session = load_session_data(data_root / session)\n",
    "    streams = []\n",
    "    for s in streams_to_merge:\n",
    "        _folder = current_session[s]\n",
    "        streams += [_folder.streams[x].data for x in _folder.streams]\n",
    "    concat = pd.concat(streams, axis=0)\n",
    "    concat.sort_index(inplace=True)\n",
    "    concat.index = concat.index.values - concat.index.values[-1]\n",
    "    across_animal_data.append(concat)\n"
   ]
  },
  {
   "cell_type": "code",
   "execution_count": null,
   "metadata": {},
   "outputs": [],
   "source": [
    "for s in across_animal_data:\n",
    "    display(s.tail(10))"
   ]
  }
 ],
 "metadata": {
  "kernelspec": {
   "display_name": ".venv",
   "language": "python",
   "name": "python3"
  },
  "language_info": {
   "codemirror_mode": {
    "name": "ipython",
    "version": 3
   },
   "file_extension": ".py",
   "mimetype": "text/x-python",
   "name": "python",
   "nbconvert_exporter": "python",
   "pygments_lexer": "ipython3",
   "version": "3.11.5"
  }
 },
 "nbformat": 4,
 "nbformat_minor": 2
}
