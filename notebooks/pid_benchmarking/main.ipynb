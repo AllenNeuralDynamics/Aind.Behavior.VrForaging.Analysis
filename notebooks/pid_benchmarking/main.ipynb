{
 "cells": [
  {
   "cell_type": "code",
   "execution_count": null,
   "metadata": {},
   "outputs": [],
   "source": [
    "import sys\n",
    "from pathlib import Path\n",
    "\n",
    "import matplotlib.pyplot as plt\n",
    "import matplotlib as mpl\n",
    "import seaborn as sns\n",
    "\n",
    "\n",
    "###\n",
    "sys.path.append('../../src/')\n",
    "from bonsai import load_bonsai_config\n",
    "load_bonsai_config(r\"C:\\git\\AllenNeuralDynamics\\aind-vr-foraging\\Bonsai\")\n",
    "\n",
    "import harp\n",
    "import harp.processing as hp\n"
   ]
  },
  {
   "cell_type": "code",
   "execution_count": null,
   "metadata": {},
   "outputs": [],
   "source": [
    "#Global Viz settings\n",
    "sns.set_style('darkgrid') # darkgrid, white grid, dark, white and ticks\n",
    "plt.rc('axes', titlesize=18)     # fontsize of the axes title\n",
    "plt.rc('axes', labelsize=14)    # fontsize of the x and y labels\n",
    "plt.rc('xtick', labelsize=13)    # fontsize of the tick labels\n",
    "plt.rc('ytick', labelsize=13)    # fontsize of the tick labels\n",
    "plt.rc('legend', fontsize=13)    # legend fontsize\n",
    "plt.rc('font', size=13)          # controls default text sizes\n",
    "\n",
    "mpl.rcParams['pdf.fonttype'] = 42\n",
    "mpl.rcParams['ps.fonttype'] = 42\n",
    "mpl.rcParams['font.family'] = 'Arial'\n"
   ]
  },
  {
   "cell_type": "code",
   "execution_count": null,
   "metadata": {},
   "outputs": [],
   "source": [
    "HarpBehavior = harp.HarpDevice(\"Behavior\")\n",
    "AnalogInput = harp.HarpDevice(\"AnalogInput\")\n",
    "\n",
    "## Paths to the data:\n",
    "root = Path(r'Z:\\scratch\\vr-foraging\\scratchpad\\pid_benchmarks\\20230921')\n",
    "rig = \"VR2\"\n",
    "fname_formatter = lambda reg : f\"reg__{reg}.bin\"\n",
    "# Harp.Behavior data:\n",
    "harp_behavior_root = root / rig / \"Behavior\"\n",
    "\n",
    "# Harp.AnalogInput data:\n",
    "harp_analog_root = root / rig / \"Analog\"\n"
   ]
  },
  {
   "cell_type": "code",
   "execution_count": null,
   "metadata": {},
   "outputs": [],
   "source": [
    "##Load digital output data\n",
    "digital_output_onset = HarpBehavior.file_to_dataframe(harp_behavior_root / fname_formatter(34))\n",
    "digital_output_offset = HarpBehavior.file_to_dataframe(harp_behavior_root / fname_formatter(35))\n",
    "\n",
    "digital_outputs = HarpBehavior.module.DigitalOutputs\n",
    "\n",
    "odor1_state = hp.distinct_until_changed_state(digital_output_onset, digital_output_offset, digital_outputs.SupplyPort1)\n",
    "odor2_state = hp.distinct_until_changed_state(digital_output_onset, digital_output_offset, digital_outputs.SupplyPort2)\n",
    "\n",
    "##Load analog input data\n",
    "pid_data = harp.read_harp_bin(harp_analog_root / fname_formatter(33))\n",
    "\n"
   ]
  },
  {
   "cell_type": "code",
   "execution_count": null,
   "metadata": {},
   "outputs": [],
   "source": [
    "channel_idx = 0\n",
    "window = (-0.1, 0.5)\n",
    "colors = [\"r\", \"b\"]\n",
    "fig, axs = plt.subplots(2,2)\n",
    "fig.tight_layout()\n",
    "fig.set_size_inches(10, 6)\n",
    "for odor_id, df in enumerate([odor1_state, odor2_state]):\n",
    "    for i, (state, sub_df) in enumerate(df.groupby(by=\"Value\", sort=True)):\n",
    "        for j, (idx, *row) in enumerate(sub_df.itertuples()):\n",
    "            if j > 0:\n",
    "                analog_slice = pid_data.loc[idx + window[0]: idx + window[1], :]\n",
    "                axs[i, odor_id].plot(\n",
    "                    analog_slice.index.values - idx,\n",
    "                    analog_slice[channel_idx].values,\n",
    "                    color=colors[odor_id], alpha=0.9)\n",
    "        axs[i, odor_id].vlines(0, *axs[i, odor_id].get_ylim(), color=\"k\", linestyle=\"--\")\n",
    "    axs[i, odor_id].set_xlabel(\"Time from valve toggle (s)\")\n",
    "    axs[i, odor_id].set_ylabel(\"PID output (ADC units)\")\n",
    "    axs[i-1, odor_id].set_ylabel(\"PID output (ADC units)\")\n",
    "\n",
    "    axs[0, odor_id].set_title(f\"Odor{odor_id}\")\n",
    "\n",
    "    plt.savefig(\"pid_benchmark.svg\")\n"
   ]
  },
  {
   "cell_type": "code",
   "execution_count": null,
   "metadata": {},
   "outputs": [],
   "source": []
  }
 ],
 "metadata": {
  "kernelspec": {
   "display_name": ".venv",
   "language": "python",
   "name": "python3"
  },
  "language_info": {
   "codemirror_mode": {
    "name": "ipython",
    "version": 3
   },
   "file_extension": ".py",
   "mimetype": "text/x-python",
   "name": "python",
   "nbconvert_exporter": "python",
   "pygments_lexer": "ipython3",
   "version": "3.11.5"
  },
  "orig_nbformat": 4
 },
 "nbformat": 4,
 "nbformat_minor": 2
}
