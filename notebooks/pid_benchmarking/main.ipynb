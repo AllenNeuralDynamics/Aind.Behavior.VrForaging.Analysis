{
 "cells": [
  {
   "cell_type": "code",
   "execution_count": 1,
   "metadata": {},
   "outputs": [],
   "source": [
    "import sys\n",
    "from pathlib import Path\n",
    "import pandas as pd\n",
    "import numpy as np\n",
    "import matplotlib.pyplot as plt\n",
    "\n",
    "\n",
    "sys.path.append('../../src/')\n",
    "from bonsai import load_bonsai_config\n",
    "load_bonsai_config(r\"C:\\git\\AllenNeuralDynamics\\aind-vr-foraging\\Bonsai\")\n",
    "\n",
    "import harp\n",
    "import harp.processing as hp\n"
   ]
  },
  {
   "cell_type": "code",
   "execution_count": 36,
   "metadata": {},
   "outputs": [],
   "source": [
    "HarpBehavior = harp.Device(\"Behavior\")\n",
    "AnalogInput = harp.Device(\"AnalogInput\")\n",
    "\n",
    "## Paths to the data:\n",
    "root = Path(r'Z:\\scratch\\vr-foraging\\scratchpad\\pid_benchmarks\\20230921')\n",
    "rig = \"VR2\"\n",
    "fname_formatter = lambda reg : f\"reg__{reg}.bin\"\n",
    "# Harp.Behavior data:\n",
    "harp_behavior_root = root / rig / \"Behavior\"\n",
    "\n",
    "# Harp.AnalogInput data:\n",
    "harp_analog_root = root / rig / \"Analog\"\n"
   ]
  },
  {
   "cell_type": "code",
   "execution_count": 37,
   "metadata": {},
   "outputs": [],
   "source": [
    "##Load digital output data\n",
    "odor_valve_onset = HarpBehavior.file_to_dataframe(harp_behavior_root / fname_formatter(34))\n",
    "odor_valve_offset = HarpBehavior.file_to_dataframe(harp_behavior_root / fname_formatter(35))\n",
    "digital_outputs = (HarpBehavior.module.DigitalOutputs)\n",
    "\n",
    "odor1_state = hp.distinct_until_changed_state(odor_valve_onset, odor_valve_offset, digital_outputs.SupplyPort1)\n",
    "odor2_state = hp.distinct_until_changed_state(odor_valve_onset, odor_valve_offset, digital_outputs.SupplyPort2)\n",
    "\n"
   ]
  },
  {
   "cell_type": "code",
   "execution_count": 4,
   "metadata": {},
   "outputs": [],
   "source": [
    "pid_data = harp.read_harp_bin(harp_analog_root / fname_formatter(33))\n"
   ]
  }
 ],
 "metadata": {
  "kernelspec": {
   "display_name": ".venv",
   "language": "python",
   "name": "python3"
  },
  "language_info": {
   "codemirror_mode": {
    "name": "ipython",
    "version": 3
   },
   "file_extension": ".py",
   "mimetype": "text/x-python",
   "name": "python",
   "nbconvert_exporter": "python",
   "pygments_lexer": "ipython3",
   "version": "3.11.5"
  },
  "orig_nbformat": 4
 },
 "nbformat": 4,
 "nbformat_minor": 2
}
