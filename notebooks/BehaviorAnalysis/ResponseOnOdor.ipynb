{
 "cells": [
  {
   "cell_type": "code",
   "execution_count": null,
   "metadata": {},
   "outputs": [],
   "source": [
    "# Core\n",
    "import sys\n",
    "import pandas as pd\n",
    "import numpy as np\n",
    "from pathlib import Path\n",
    "\n",
    "## Plotting\n",
    "import matplotlib.pyplot as plt\n",
    "import matplotlib as mpl\n",
    "import seaborn as sns\n",
    "\n",
    "## Harp/Bonsai\n",
    "sys.path.append('../../src/')\n",
    "from bonsai import load_bonsai_config\n",
    "load_bonsai_config(r\"C:\\git\\AllenNeuralDynamics\\aind-vr-foraging\\Bonsai\")\n",
    "import harp\n",
    "import harp.processing\n",
    "import data_io\n",
    "\n"
   ]
  },
  {
   "cell_type": "code",
   "execution_count": null,
   "metadata": {},
   "outputs": [],
   "source": [
    "#Global Viz settings\n",
    "sns.set_style('darkgrid') # darkgrid, white grid, dark, white and ticks\n",
    "plt.rc('axes', titlesize=18)     # fontsize of the axes title\n",
    "plt.rc('axes', labelsize=14)    # fontsize of the x and y labels\n",
    "plt.rc('xtick', labelsize=13)    # fontsize of the tick labels\n",
    "plt.rc('ytick', labelsize=13)    # fontsize of the tick labels\n",
    "plt.rc('legend', fontsize=13)    # legend fontsize\n",
    "plt.rc('font', size=13)          # controls default text sizes\n",
    "\n",
    "mpl.rcParams['pdf.fonttype'] = 42\n",
    "mpl.rcParams['ps.fonttype'] = 42\n",
    "mpl.rcParams['font.family'] = 'Arial'\n",
    "\n",
    "default_img_size = (15, 8)"
   ]
  },
  {
   "cell_type": "code",
   "execution_count": null,
   "metadata": {},
   "outputs": [],
   "source": [
    "session_path = Path(r\"Z:\\scratch\\vr-foraging\\672107\\20230929T111709\")\n",
    "\n",
    "# Harp Devices:\n",
    "HarpBehavior = harp.HarpDevice(\"Behavior\")\n",
    "harp_behavior_data = data_io.HarpSource(device=HarpBehavior, path=session_path / \"Behavior\", name=\"behavior\", autoload=False)\n",
    "\n",
    "# Software Events\n",
    "software_events = data_io.SoftwareEventSource(path=session_path / \"SoftwareEvents\", name=\"software_events\")\n"
   ]
  },
  {
   "cell_type": "code",
   "execution_count": null,
   "metadata": {},
   "outputs": [],
   "source": [
    "patches = software_events.streams.ActivePatch.data\n",
    "reward = software_events.streams.GiveReward.data\n",
    "reward_available = patches.iloc[0][\"data\"][\"patchRewardFunction\"][\"initialRewardAmount\"]\n",
    "\n",
    "reward_updates = pd.concat([patches, reward])\n",
    "reward_updates.sort_index(inplace=True)\n",
    "reward_updates[\"currentReward\"] = np.nan\n",
    "for event in reward_updates.iterrows():\n",
    "    if event[1][\"name\"] == 'GiveReward': #update reward\n",
    "        reward_available -= event[1][\"data\"]\n",
    "    elif event[1][\"name\"] == 'ActivePatch': #reset reward\n",
    "        reward_available = event[1][\"data\"][\"patchRewardFunction\"][\"initialRewardAmount\"]\n",
    "    else:\n",
    "        raise ValueError(\"Unknown event type\")\n",
    "    reward_updates.at[event[0], \"currentReward\"] = reward_available\n"
   ]
  },
  {
   "cell_type": "code",
   "execution_count": null,
   "metadata": {},
   "outputs": [],
   "source": [
    "# Align velocity to each first odor onset per reward site\n",
    "\n",
    "# Get the first odor onset per reward site\n",
    "sites = software_events.streams.ActiveSite.data\n",
    "reward_sites = sites[sites[\"data\"].apply(lambda x: x[\"label\"] == \"Reward\")].copy()\n",
    "\n",
    "# Odor onsets\n",
    "## mask for digital outputs\n",
    "digital_outputs = HarpBehavior.module.DigitalOutputs\n",
    "\n",
    "## Load necessary files\n",
    "harp_behavior_data.streams.OutputSet.load_from_file()\n",
    "harp_behavior_data.streams.OutputClear.load_from_file()\n",
    "odor_0 = harp.processing.distinct_until_changed_state(harp_behavior_data.streams.OutputSet.data, harp_behavior_data.streams.OutputClear.data, digital_outputs.SupplyPort1)\n",
    "odor_1 = harp.processing.distinct_until_changed_state(harp_behavior_data.streams.OutputSet.data, harp_behavior_data.streams.OutputClear.data, digital_outputs.SupplyPort2)\n",
    "\n",
    "odors_onset = pd.concat(\n",
    "    [\n",
    "        odor_0[odor_0[\"Value\"]].assign(Value=0),\n",
    "        odor_1[odor_1[\"Value\"]].assign(Value=1),\n",
    "    ], axis=0, copy=True).sort_index()\n",
    "\n",
    "\n",
    "## For each reward, get the first odor onset\n",
    "reward_sites[\"OdorOnset.Time\"] = np.nan\n",
    "reward_sites[\"OdorOnset.OdorIdentity\"] = np.nan\n",
    "reward_sites[\"RewardAvailable\"] = np.nan\n",
    "\n",
    "for site in reward_sites.itertuples():\n",
    "    arg_min, val_min = harp.processing.find_closest(site.Index, odors_onset.index, mode=\"closest\")\n",
    "    if arg_min:\n",
    "        reward_sites.loc[site.Index, \"OdorOnset.Time\"] = val_min\n",
    "        reward_sites.loc[site.Index, \"OdorOnset.OdorIdentity\"] = odors_onset[\"Value\"].iloc[arg_min]\n",
    "    arg_min, val_min = harp.processing.find_closest(site.Index, reward_updates.index.values, mode=\"below_zero\")\n",
    "    reward_sites.loc[site.Index, \"RewardAvailable\"] = reward_updates[\"currentReward\"].iloc[arg_min]\n",
    "\n",
    "## Load data from encoder efficiently\n",
    "encoder_data = harp.read_harp_bin(harp_behavior_data.streams.AnalogData.path)[1]\n",
    "# Resample encoder_data\n",
    "encoder_data.index = pd.to_datetime(encoder_data.index, unit=\"s\")\n",
    "encoder_data = encoder_data.resample(\"16.6ms\").sum().interpolate(method=\"linear\")\n",
    "encoder_data.index = (encoder_data.index - pd.to_datetime(0))\n",
    "encoder_data.index = encoder_data.index.total_seconds()\n",
    "encoder_data = encoder_data * -1"
   ]
  },
  {
   "cell_type": "code",
   "execution_count": null,
   "metadata": {},
   "outputs": [],
   "source": [
    "window = (-0.2, 1)\n",
    "fig, axs = plt.subplots(1,2)\n",
    "fig.tight_layout()\n",
    "fig.set_size_inches(default_img_size)\n",
    "\n",
    "pallete = sns.color_palette(\"Spectral\", n_colors=7)\n",
    "\n",
    "ylim = (-50, 200)\n",
    "\n",
    "t_limit = 100_000\n",
    "\n",
    "for i, (odor_label, odor_group) in enumerate(reward_sites.groupby(\"OdorOnset.OdorIdentity\")):\n",
    "    for trial in odor_group.iterrows():\n",
    "        if trial[0] < t_limit:\n",
    "            odor_onset = trial[1][\"OdorOnset.Time\"]\n",
    "            enconder_slice = encoder_data.loc[odor_onset + window[0]: odor_onset + window[1]]\n",
    "            color = pallete[int(trial[1][\"RewardAvailable\"])]\n",
    "            axs[i].plot(\n",
    "                enconder_slice.index.values - odor_onset,\n",
    "                enconder_slice.values,\n",
    "                color=color, alpha=0.2, lw = 2)\n",
    "            axs[i].set_ylim(ylim)\n",
    "            axs[i].vlines(0, *axs[i].get_ylim(), color=\"k\", linestyle=\"--\")\n",
    "    axs[i].set_title(f\"Odor {int(odor_label)}\")\n",
    "    axs[i].set_xlabel(\"Time(s)\")\n",
    "    axs[i].set_ylabel(\"Velocity (encoder bits/s)\")\n"
   ]
  },
  {
   "cell_type": "code",
   "execution_count": null,
   "metadata": {},
   "outputs": [],
   "source": [
    "trial"
   ]
  },
  {
   "cell_type": "code",
   "execution_count": null,
   "metadata": {},
   "outputs": [],
   "source": []
  }
 ],
 "metadata": {
  "kernelspec": {
   "display_name": ".venv",
   "language": "python",
   "name": "python3"
  },
  "language_info": {
   "codemirror_mode": {
    "name": "ipython",
    "version": 3
   },
   "file_extension": ".py",
   "mimetype": "text/x-python",
   "name": "python",
   "nbconvert_exporter": "python",
   "pygments_lexer": "ipython3",
   "version": "3.11.5"
  },
  "orig_nbformat": 4
 },
 "nbformat": 4,
 "nbformat_minor": 2
}
