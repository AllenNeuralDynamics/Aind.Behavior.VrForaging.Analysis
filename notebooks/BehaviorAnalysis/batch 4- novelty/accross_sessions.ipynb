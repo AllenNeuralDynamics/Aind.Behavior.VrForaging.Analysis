{
 "cells": [
  {
   "cell_type": "code",
   "execution_count": null,
   "metadata": {},
   "outputs": [],
   "source": [
    "# IPython magig  tools\n",
    "%load_ext autoreload\n",
    "%autoreload 2\n",
    "\n",
    "import os\n",
    "from typing import Dict\n",
    "from os import PathLike\n",
    "from pathlib import Path\n",
    "\n",
    "from aind_vr_foraging_analysis.utils import parse, processing, plotting_utils as plotting, AddExtraColumns\n",
    "\n",
    "# Plotting libraries\n",
    "import matplotlib.pyplot as plt\n",
    "import matplotlib.patches as mpatches\n",
    "from matplotlib.backends.backend_pdf import PdfPages\n",
    "\n",
    "import seaborn as sns\n",
    "import pandas as pd\n",
    "import numpy as np\n",
    "import datetime\n",
    "\n",
    "sns.set_context('talk')\n",
    "\n",
    "import warnings\n",
    "pd.options.mode.chained_assignment = None  # Ignore SettingWithCopyWarning\n",
    "warnings.simplefilter(action='ignore', category=FutureWarning)\n",
    "warnings.simplefilter(\"ignore\", UserWarning)\n",
    "warnings.filterwarnings(\"ignore\", category=RuntimeWarning)\n",
    "\n",
    "import ipywidgets as widgets\n",
    "from IPython.display import display\n",
    "from matplotlib.patches import Rectangle\n",
    "\n",
    "color1='#d95f02'\n",
    "color2='#1b9e77'\n",
    "color3='#7570b3'\n",
    "color4='yellow'\n",
    "odor_list_color = [color1, color2, color3, color4]\n",
    "color_dict_label = {'NULL': color1, 'ODOR_A': color2, 'ODOR_B': color3, 'ODOR_C': color4}\n",
    "pdf_path = r'Z:\\scratch\\vr-foraging\\sessions'\n",
    "base_path = 'Z:/scratch/vr-foraging/data/'\n",
    "data_path = r'C:\\git\\Aind.Behavior.VrForaging.Analysis\\data'\n",
    "foraging_figures = r'C:\\git\\Aind.Behavior.VrForaging.Analysis\\results\\\\novelty_experiment'\n",
    "\n",
    "from scipy.optimize import curve_fit\n"
   ]
  },
  {
   "cell_type": "code",
   "execution_count": null,
   "metadata": {},
   "outputs": [],
   "source": [
    "mouse_list = ['717716','717717', '745306', '745305', '745300', '745301']"
   ]
  },
  {
   "cell_type": "code",
   "execution_count": 304,
   "metadata": {},
   "outputs": [
    {
     "name": "stdout",
     "output_type": "stream",
     "text": [
      "Saving\n"
     ]
    },
    {
     "name": "stderr",
     "output_type": "stream",
     "text": [
      "C:\\Users\\tiffany.ona\\AppData\\Local\\Temp\\ipykernel_4388\\2776244913.py:12: MatplotlibDeprecationWarning: Keeping empty pdf files is deprecated since 3.8 and support will be removed in 3.10.\n",
      "  with PdfPages(os.path.join(foraging_figures, f'{mouse}_velocity_traces_novelty.pdf')) as pdf:\n"
     ]
    }
   ],
   "source": [
    "summary_df = pd.DataFrame()\n",
    "all_epochs = pd.DataFrame()\n",
    "within_session_n = 0\n",
    "experiment = 0\n",
    "for mouse in mouse_list:\n",
    "    print(mouse)\n",
    "    session_n = 0\n",
    "    directory = os.path.join(base_path, mouse)\n",
    "    files = os.listdir(os.path.join(base_path, mouse))\n",
    "    sorted_files = sorted(files, key=lambda x: os.path.getctime(os.path.join(directory, x)), reverse=False)\n",
    "    \n",
    "    with PdfPages(os.path.join(foraging_figures, f'{mouse}_velocity_traces_novelty.pdf')) as pdf:\n",
    "        for file_name in sorted_files:\n",
    "            session_path = os.path.join(base_path, mouse, file_name)\n",
    "            session = file_name[7:15]\n",
    "            print(session)\n",
    "\n",
    "            session_path = Path(session_path)\n",
    "\n",
    "            try:\n",
    "                data = parse.load_session_data(session_path)\n",
    "            except:\n",
    "                print('Error loading session')\n",
    "                continue\n",
    "            \n",
    "            # Parse data\n",
    "            reward_sites, active_site, config = parse.parse_dataframe(data)\n",
    "            \n",
    "            if reward_sites.empty:      \n",
    "                session_n += 1\n",
    "                continue\n",
    "            \n",
    "            reward_sites = AddExtraColumns(reward_sites, active_site, run_on_init=True).reward_sites\n",
    "            active_site = AddExtraColumns(reward_sites, active_site, run_on_init=True).add_time_previous_intersite_interpatch()\n",
    "            encoder_data = parse.ContinuousData(data).encoder_data\n",
    "\n",
    "            # trial_summary = plotting.trial_collection(reward_sites[['has_choice', 'visit_number', 'odor_label', 'odor_sites']], encoder_data, mouse, session, window=(-1,3))\n",
    "            # plotting.velocity_traces_odor_entry(trial_summary, \n",
    "            #                                     max_range=max(trial_summary.speed.values), \n",
    "            #                                     color_dict_label=color_dict_label, \n",
    "            #                                     mean=True, \n",
    "            #                                     save=pdf, \n",
    "            #                                     mouse=mouse, \n",
    "            #                                     session=session)\n",
    "\n",
    "            active_site['next_intersite'] = active_site.index.to_series().shift(-1)\n",
    "            active_site['time_in_site'] = active_site.next_intersite - active_site.index\n",
    "            active_site['mouse'] = mouse\n",
    "            active_site['session'] = session\n",
    "            active_site['session_n'] = session_n\n",
    "            active_site['session_type'] = data['config'].streams.tasklogic_input.data['stage_name']\n",
    "            active_site['distance_in_session'] = active_site['length'].shift(1).cumsum()/100\n",
    "            active_site['time_in_session'] = active_site['time_in_site'].shift(1).cumsum()\n",
    "\n",
    "            session_n += 1\n",
    "\n",
    "            active_site = active_site[['label', 'start_position', 'length', 'active_patch','odor_label','odor_sites','total_sites', 'previous_interpatch',\n",
    "                'previous_intersite', 'same_patch', 'time_in_site', 'mouse', 'session', 'session_n', 'session_type','time_in_session', 'distance_in_session']]\n",
    "            \n",
    "            summary_df = pd.concat([summary_df, active_site])\n",
    "\n",
    "print('Saving')\n"
   ]
  },
  {
   "cell_type": "code",
   "execution_count": null,
   "metadata": {},
   "outputs": [],
   "source": []
  },
  {
   "cell_type": "code",
   "execution_count": null,
   "metadata": {},
   "outputs": [],
   "source": [
    "summary_df['experimental_round'] = 1\n",
    "summary_df.loc[(summary_df['mouse'] == '717716') & (summary_df['session'].astype(int)> 20240729),'experimental_round'] = 2\n",
    "summary_df.loc[(summary_df['mouse'] == '745305') & (summary_df['session'].astype(int)> 20240729),'experimental_round'] = 2\n",
    "\n",
    "# Find the biggest session_n for session type session_0 for each mouse\n",
    "summary_df['max_session_n_session_0'] = summary_df[summary_df['session_type'] == 'session_0'].groupby('mouse')['session_n'].transform('max')\n",
    "\n",
    "summary_df.to_csv(os.path.join(data_path, 'novelty_df.csv'), index=False, na_rep='NULL')"
   ]
  },
  {
   "cell_type": "markdown",
   "metadata": {},
   "source": [
    "### Explore plots"
   ]
  },
  {
   "cell_type": "code",
   "execution_count": null,
   "metadata": {},
   "outputs": [],
   "source": [
    "summary_df = pd.read_csv(os.path.join(data_path, 'novelty_df.csv'))"
   ]
  },
  {
   "cell_type": "code",
   "execution_count": null,
   "metadata": {},
   "outputs": [],
   "source": [
    "summary_df = summary_df[summary_df['label'] == 'RewardSite']\n",
    "# summary_df= summary_df[summary_df['time_in_site'] < 15]"
   ]
  },
  {
   "cell_type": "code",
   "execution_count": null,
   "metadata": {},
   "outputs": [],
   "source": [
    "summary_df[['time_in_site', 'time_in_session', 'distance_in_session']]"
   ]
  },
  {
   "cell_type": "code",
   "execution_count": null,
   "metadata": {},
   "outputs": [],
   "source": [
    "with PdfPages(os.path.join(foraging_figures, f'novelty_time_in_site.pdf')) as pdf:\n",
    "    for mouse in summary_df.mouse.unique():\n",
    "        fig = plt.figure(figsize=(12, 5))\n",
    "        sns.boxplot(x='session_type', y='time_in_site', data=summary_df[(summary_df.mouse==mouse)&(summary_df.session_type != 'session_0')&(summary_df.experimental_round == 1)], \n",
    "                    hue='odor_label', palette='Set2', dodge=True, hue_order= ['NULL', 'ODOR_A', 'ODOR_B', 'ODOR_C'], fliersize=0)\n",
    "\n",
    "        plt.ylabel('Time in site (s)')\n",
    "        plt.title(f'{mouse}')\n",
    "        plt.legend(bbox_to_anchor = (-0.2, 0.9), title='Odor', loc='upper right')\n",
    "        plt.ylim(0, int(summary_df[summary_df.mouse==mouse].time_in_site.quantile(0.99)))\n",
    "        plt.tight_layout()\n",
    "        sns.despine()\n",
    "        plt.show()\n",
    "        pdf.savefig(fig)"
   ]
  },
  {
   "cell_type": "code",
   "execution_count": null,
   "metadata": {},
   "outputs": [],
   "source": [
    "import scipy.stats as stats"
   ]
  },
  {
   "cell_type": "code",
   "execution_count": null,
   "metadata": {},
   "outputs": [],
   "source": [
    "stats_df = summary_df[(summary_df.experimental_round == 1)].groupby(['session_type', 'mouse', 'odor_label']).time_in_site.mean().reset_index()"
   ]
  },
  {
   "cell_type": "code",
   "execution_count": null,
   "metadata": {},
   "outputs": [],
   "source": [
    "summary_df[(stats_df.session_type == 'session_1')&(stats_df.odor_label == 'NULL')]\n"
   ]
  },
  {
   "cell_type": "code",
   "execution_count": null,
   "metadata": {},
   "outputs": [],
   "source": [
    "\n",
    "\n",
    "pre = summary_df[(stats_df.session_type == 'session_1')&(stats_df.odor_label == 'NULL')].time_in_site\n",
    "\n",
    "post = summary_df[(stats_df.session_type == 'session_1')&(stats_df.odor_label == 'ODOR_A')].time_in_site\n",
    "\n",
    "stats.ttest_ind(pre, post)"
   ]
  },
  {
   "cell_type": "markdown",
   "metadata": {},
   "source": [
    "##### Distance in session for the time in session across several mice"
   ]
  },
  {
   "cell_type": "code",
   "execution_count": null,
   "metadata": {},
   "outputs": [],
   "source": [
    "fig = plt.figure(figsize=(10, 5))\n",
    "sns.lineplot(x='time_in_session', y='distance_in_session', data=summary_df[(summary_df.session_type == 'session_1')], hue='mouse', palette='Set2', ci=None)\n",
    "plt.title(f'Habituation session {session}')\n",
    "plt.xlabel('Time in session (s)')\n",
    "plt.ylabel('Distance travelled (m)')\n",
    "plt.tight_layout()\n",
    "sns.despine()\n",
    "plt.show()\n",
    "fig.savefig(os.path.join(foraging_figures, f'session_1_distance_travelled.svg'))"
   ]
  },
  {
   "cell_type": "code",
   "execution_count": null,
   "metadata": {},
   "outputs": [],
   "source": [
    "summary_df"
   ]
  },
  {
   "cell_type": "code",
   "execution_count": null,
   "metadata": {},
   "outputs": [],
   "source": [
    "for session in summary_df[(summary_df.session_type == 'session_0')].session_n.unique():\n",
    "    fig = plt.figure(figsize=(10, 5))\n",
    "    sns.lineplot(x='time_in_session', y='distance_in_session', data=summary_df[(summary_df.session_n==session)&(summary_df.session_type == 'session_0')], marker = 'o', hue='mouse', palette='Set2', ci=None)\n",
    "    plt.title(f'Habituation session {session}')\n",
    "    plt.xlabel('Time in session (s)')\n",
    "    plt.ylabel('Distance travelled (m)')\n",
    "    plt.tight_layout()\n",
    "    sns.despine()\n",
    "    plt.show()\n",
    "    fig.savefig(os.path.join(foraging_figures, f'{session}_distance_travelled.svg'))"
   ]
  },
  {
   "cell_type": "code",
   "execution_count": null,
   "metadata": {},
   "outputs": [],
   "source": [
    "summary_df['last_session'] = np.where(summary_df['session_n'] == summary_df['max_session_n_session_0'], 1, 0)\n",
    "\n",
    "fig = plt.figure(figsize=(10, 5))\n",
    "sns.lineplot(x='time_in_session', y='distance_in_session', data=summary_df[(summary_df.last_session==1)], hue='mouse', palette='Set2', ci=None)\n",
    "plt.title(f'{session}')\n",
    "plt.xlabel('Time in session (s)')\n",
    "plt.ylabel('Distance travelled (m)')\n",
    "plt.title('Last habituating session')\n",
    "plt.tight_layout()\n",
    "sns.despine()\n",
    "plt.show()\n",
    "fig.savefig(os.path.join(foraging_figures, 'last_habituating_session.svg'), dpi=300)"
   ]
  },
  {
   "cell_type": "markdown",
   "metadata": {},
   "source": [
    "##### Distance in session for the time in session across several sessions"
   ]
  },
  {
   "cell_type": "code",
   "execution_count": null,
   "metadata": {},
   "outputs": [],
   "source": [
    "for mouse in summary_df.mouse.unique():\n",
    "    fig = plt.figure(figsize=(10, 6))\n",
    "    sns.lineplot(x='time_in_session', y='distance_in_session', hue='session_n', data=summary_df[(summary_df.mouse==mouse)&(summary_df.session_type == 'session_0')],  palette='Set2', marker= 'o', ci=None)\n",
    "    plt.title(f'{mouse}')\n",
    "    plt.xlabel('Time in session (s)')\n",
    "    plt.ylabel('Distance travelled (m)')\n",
    "    plt.tight_layout()\n",
    "    sns.despine()\n",
    "    plt.show()\n",
    "    fig.savefig(os.path.join(foraging_figures, f'across_sessions_mouse_{mouse}.svg'), dpi=300)"
   ]
  }
 ],
 "metadata": {
  "kernelspec": {
   "display_name": ".venv",
   "language": "python",
   "name": "python3"
  },
  "language_info": {
   "codemirror_mode": {
    "name": "ipython",
    "version": 3
   },
   "file_extension": ".py",
   "mimetype": "text/x-python",
   "name": "python",
   "nbconvert_exporter": "python",
   "pygments_lexer": "ipython3",
   "version": "3.11.9"
  }
 },
 "nbformat": 4,
 "nbformat_minor": 2
}
