{
 "cells": [
  {
   "cell_type": "markdown",
   "metadata": {},
   "source": [
    "# figuring out how to identify peaks and troughs"
   ]
  },
  {
   "cell_type": "code",
   "execution_count": 56,
   "metadata": {},
   "outputs": [],
   "source": [
    "import sys\n",
    "sys.path.append('../../../src/')\n",
    "\n",
    "import os\n",
    "from typing import Dict\n",
    "from os import PathLike\n",
    "from pathlib import Path\n",
    "import csv \n",
    "\n",
    "from aind_vr_foraging_analysis import utils\n",
    "from aind_vr_foraging_analysis.utils import parse, processing, plotting_utils as plotting, AddExtraColumns\n",
    "\n",
    "# Plotting libraries\n",
    "import matplotlib.pyplot as plt\n",
    "import matplotlib.patches as mpatches\n",
    "from matplotlib.backends.backend_pdf import PdfPages\n",
    "\n",
    "import seaborn as sns\n",
    "import pandas as pd\n",
    "import numpy as np\n",
    "import datetime\n",
    "\n",
    "sns.set_context('talk')\n",
    "\n",
    "import warnings\n",
    "pd.options.mode.chained_assignment = None  # Ignore SettingWithCopyWarning\n",
    "warnings.simplefilter(action='ignore', category=FutureWarning)\n",
    "warnings.simplefilter(\"ignore\", UserWarning)\n",
    "warnings.filterwarnings(\"ignore\", category=RuntimeWarning)\n",
    "\n",
    "import ipywidgets as widgets\n",
    "from IPython.display import display\n",
    "from matplotlib.patches import Rectangle\n",
    "\n",
    "\n",
    "colors = sns.color_palette()\n",
    "odor_list_color = [colors[8], colors[0], colors[2], colors[4]]\n",
    "\n",
    "pdf_path = r'/Volumes\\scratch\\vr-foraging\\sessions'\n",
    "base_path = r'/Volumes/scratch/vr-foraging/data/'\n",
    "foraging_figures = r'/Users/nehal.ajmal/Documents/aindproject/results'\n",
    "\n",
    "from scipy.optimize import curve_fit\n",
    "\n",
    "from scipy.fft import fft, ifft\n",
    "from scipy.signal import find_peaks, filtfilt, butter\n",
    "from scipy import signal\n",
    "from sklearn.preprocessing import MinMaxScaler\n",
    "from pathlib import Path"
   ]
  },
  {
   "cell_type": "code",
   "execution_count": 2,
   "metadata": {},
   "outputs": [],
   "source": [
    "# #exploring at home\n",
    "# session_path = r'/Users/nehal.ajmal/Desktop/717716_20240719T093806'\n",
    "# mouse = '717716'\n",
    "# session = '20240719T093806'"
   ]
  },
  {
   "cell_type": "code",
   "execution_count": 57,
   "metadata": {},
   "outputs": [],
   "source": [
    "#exploring at work\n",
    "session_path = r'/Volumes/scratch/vr-foraging/data/745300/745300_20240730T094255'\n",
    "\n",
    "#get mouse_id from first 6 numbers in file name\n",
    "mouse = session_path.split('/')[-1][:6]\n",
    "\n",
    "#get session from first 8 numbers after mouse_id\n",
    "session = session_path.split('/')[-1][6:15]"
   ]
  },
  {
   "cell_type": "code",
   "execution_count": 58,
   "metadata": {},
   "outputs": [],
   "source": [
    "session_path = Path(session_path)\n",
    "data = parse.load_session_data(session_path)\n",
    "\n",
    "# Parse data into a dataframe with the main features\n",
    "reward_sites, active_site, config = parse.parse_dataframe(data)\n",
    "\n",
    "# Load the encoder data separately\n",
    "stream_data = parse.ContinuousData(data)\n",
    "encoder_data = stream_data.encoder_data\n"
   ]
  },
  {
   "cell_type": "code",
   "execution_count": 59,
   "metadata": {},
   "outputs": [],
   "source": [
    "# breathing data \n",
    "breathing = stream_data.breathing\n",
    "\n",
    "# # Clean up data (remove NaNs, duplicate indices, etc.)\n",
    "breathing = breathing.dropna()\n",
    "breathing = breathing[~breathing.index.duplicated(keep='first')]\n",
    "breathing = breathing.sort_index()\n",
    "\n",
    "breathing_data = breathing.values.squeeze()\n",
    "\n",
    "# Find peaks in the breathing signal using Tiffany's function\n",
    "peaks = find_peaks(breathing_data, width = 5,  prominence=0.1)[0]\n",
    "\n",
    "# Find troughs in the breathing signal\n",
    "troughs = find_peaks(-breathing_data, height=0, width=3, prominence=0.1)[0]\n",
    "\n",
    "# Ensure troughs are below the corresponding peak\n",
    "troughs = troughs[troughs > peaks[0]]  # First trough after the first peak\n"
   ]
  },
  {
   "cell_type": "code",
   "execution_count": 60,
   "metadata": {},
   "outputs": [
    {
     "data": {
      "text/plain": [
       "(6870, 13203)"
      ]
     },
     "execution_count": 60,
     "metadata": {},
     "output_type": "execute_result"
    }
   ],
   "source": [
    "#check length of peaks and troughs\n",
    "len(peaks), len(troughs)"
   ]
  },
  {
   "cell_type": "code",
   "execution_count": 61,
   "metadata": {},
   "outputs": [],
   "source": [
    "# Get timestamps corresponding to the peaks and troughs\n",
    "peak_times = breathing.index[peaks]\n",
    "trough_times = breathing.index[troughs]\n"
   ]
  },
  {
   "cell_type": "code",
   "execution_count": 62,
   "metadata": {},
   "outputs": [],
   "source": [
    "def peak_plot(x_start=None, x_end=None, window_duration=10):\n",
    "    fig, ax = plt.subplots(figsize=(20, 6))\n",
    "    \n",
    "    # default to the entire range if no specific x_start or x_end is given\n",
    "    if x_start is None:\n",
    "        x_start = breathing.index.min()\n",
    "    if x_end is None:\n",
    "        x_end = breathing.index.max()\n",
    "    \n",
    "    # Calculate the center of the window based on x_start and x_end\n",
    "    center_time = (x_start + x_end) / 2\n",
    "\n",
    "    # Adjust the x_start and x_end to show a 10-second window\n",
    "    x_start = max(center_time - window_duration / 2, breathing.index.min())\n",
    "    x_end = min(center_time + window_duration / 2, breathing.index.max())\n",
    "    ax.grid(True)\n",
    "\n",
    "     # Plot the breathing data\n",
    "    ax.plot(breathing.index, breathing_data, label='Breathing Signal', color='black', linewidth=1)\n",
    "\n",
    "    # Plot peaks\n",
    "    ax.scatter(peak_times, breathing_data[peaks], color='red', marker='o', label='Peaks')\n",
    "\n",
    "    # Plot troughs\n",
    "    ax.scatter(trough_times, breathing_data[troughs], color='blue', marker='x', label='Troughs')\n",
    "\n",
    "    # Add labels, title, and legend\n",
    "    ax.set_xlabel('Time')\n",
    "    ax.set_ylabel('Breathing Signal')\n",
    "    ax.set_title('Breathing Signal with Peaks and Troughs')\n",
    "    ax.legend()\n",
    "    ax.set_xlim([x_start, x_end])\n",
    "    \n",
    "    plt.show()\n"
   ]
  },
  {
   "cell_type": "code",
   "execution_count": 63,
   "metadata": {},
   "outputs": [],
   "source": [
    "\n",
    "# Define callback functions for the arrow buttons\n",
    "def on_left_button_clicked(button):\n",
    "    x_start_widget.value -= 10\n",
    "    x_end_widget.value -= 10\n",
    "\n",
    "def on_right_button_clicked(button):\n",
    "    x_start_widget.value += 10\n",
    "    x_end_widget.value += 10\n",
    "\n",
    "# Create arrow buttons\n",
    "left_button = widgets.Button(description='◄')\n",
    "right_button = widgets.Button(description='►')\n",
    "\n",
    "# Define widgets for the x-axis range\n",
    "x_start_widget = widgets.FloatText(value=breathing.index.min(), description='X start:', continuous_update=False)\n",
    "x_end_widget = widgets.FloatText(value=breathing.index.max(), description='X end:', continuous_update=False)\n",
    "\n",
    "# Set button click event handlers\n",
    "left_button.on_click(on_left_button_clicked)\n",
    "right_button.on_click(on_right_button_clicked)\n",
    "\n",
    "# Arrange the buttons and widgets horizontally\n",
    "button_box = widgets.HBox([left_button, right_button])\n",
    "ui = widgets.VBox([button_box, x_start_widget, x_end_widget])\n",
    "\n",
    "# Create interactive plot\n",
    "interactive_plot = widgets.interactive_output(peak_plot, {'x_start': x_start_widget, 'x_end': x_end_widget})"
   ]
  },
  {
   "cell_type": "code",
   "execution_count": 67,
   "metadata": {},
   "outputs": [],
   "source": [
    "#reward site\n",
    "reward_sites = AddExtraColumns(reward_sites, active_site, run_on_init=True).reward_sites\n",
    "\n"
   ]
  },
  {
   "cell_type": "code",
   "execution_count": 81,
   "metadata": {},
   "outputs": [
    {
     "data": {
      "text/plain": [
       "Index(['label', 'start_position', 'length', 'active_patch', 'visit_number',\n",
       "       'has_choice', 'reward_delivered', 'stop_cue', 'succesful_wait',\n",
       "       'water_onset', 'odor_label', 'cumulative_rewards', 'reward_amount',\n",
       "       'reward_available', 'odor_sites', 'collected', 'depleted', 'last_visit',\n",
       "       'last_site', 'skipped_count', 'consecutive_rewards',\n",
       "       'cumulative_failures', 'consecutive_failures',\n",
       "       'after_choice_cumulative_rewards', 'total_sites', 'previous_interpatch',\n",
       "       'previous_intersite', 'same_patch'],\n",
       "      dtype='object')"
      ]
     },
     "execution_count": 81,
     "metadata": {},
     "output_type": "execute_result"
    }
   ],
   "source": [
    "reward_sites.columns"
   ]
  },
  {
   "cell_type": "code",
   "execution_count": 64,
   "metadata": {},
   "outputs": [
    {
     "data": {
      "application/vnd.jupyter.widget-view+json": {
       "model_id": "6c4916ab53f64925b71d00d6e6d1e0de",
       "version_major": 2,
       "version_minor": 0
      },
      "text/plain": [
       "VBox(children=(HBox(children=(Button(description='◄', style=ButtonStyle()), Button(description='►', style=Butt…"
      ]
     },
     "metadata": {},
     "output_type": "display_data"
    },
    {
     "data": {
      "application/vnd.jupyter.widget-view+json": {
       "model_id": "b4a3b2817c7f47ec9ce58c03c8dce61c",
       "version_major": 2,
       "version_minor": 0
      },
      "text/plain": [
       "Output(outputs=({'output_type': 'display_data', 'data': {'text/plain': '<Figure size 2000x600 with 1 Axes>', '…"
      ]
     },
     "metadata": {},
     "output_type": "display_data"
    }
   ],
   "source": [
    "#example of how to use the interactive plot\n",
    "display(ui, interactive_plot)"
   ]
  },
  {
   "cell_type": "code",
   "execution_count": 83,
   "metadata": {},
   "outputs": [],
   "source": [
    "def get_odor_periods(reward_sites):\n",
    "    odor_periods = []\n",
    "    for _, row in reward_sites.iterrows():\n",
    "        if row['odor_label']:  # Assuming 'odor_label' indicates the presence of an odor\n",
    "            start_time = row['start_position']  # Define how to get start time from your data\n",
    "            end_time = start_time + row['length']  # Define how to get end time\n",
    "            odor_periods.append((start_time, end_time, row['odor_label']))\n",
    "    return odor_periods"
   ]
  },
  {
   "cell_type": "code",
   "execution_count": 84,
   "metadata": {},
   "outputs": [],
   "source": [
    "def peak_plot(x_start=None, x_end=None, window_duration=10):\n",
    "    fig, ax = plt.subplots(figsize=(20, 6))\n",
    "    \n",
    "    # Default to the entire range if no specific x_start or x_end is given\n",
    "    if x_start is None:\n",
    "        x_start = breathing.index.min()\n",
    "    if x_end is None:\n",
    "        x_end = breathing.index.max()\n",
    "    \n",
    "    # Calculate the center of the window based on x_start and x_end\n",
    "    center_time = (x_start + x_end) / 2\n",
    "\n",
    "    # Adjust the x_start and x_end to show a 10-second window\n",
    "    x_start = max(center_time - window_duration / 2, breathing.index.min())\n",
    "    x_end = min(center_time + window_duration / 2, breathing.index.max())\n",
    "    \n",
    "    ax.grid(True)\n",
    "\n",
    "    # Plot the breathing data\n",
    "    ax.plot(breathing.index, breathing_data, label='Breathing Signal', color='black', linewidth=1)\n",
    "\n",
    "    # Plot peaks\n",
    "    ax.scatter(peak_times, breathing_data[peaks], color='red', marker='o', label='Peaks')\n",
    "\n",
    "    # Plot troughs\n",
    "    ax.scatter(trough_times, breathing_data[troughs], color='blue', marker='x', label='Troughs')\n",
    "\n",
    "    # Plot odor periods\n",
    "    odor_periods = get_odor_periods(reward_sites)\n",
    "    for start_time, end_time, odor_label in odor_periods:\n",
    "        if x_start <= end_time and x_end >= start_time:  # Only show odors within the current window\n",
    "            ax.axvspan(start_time, end_time, color='yellow', alpha=0.3, label=f'Odor: {odor_label}')\n",
    "    \n",
    "    # Add labels, title, and legend\n",
    "    ax.set_xlabel('Time')\n",
    "    ax.set_ylabel('Breathing Signal')\n",
    "    ax.set_title('Breathing Signal with Peaks, Troughs, and Odor Periods')\n",
    "    ax.legend(loc='upper right')\n",
    "    ax.set_xlim([x_start, x_end])\n",
    "    \n",
    "    plt.show()\n"
   ]
  },
  {
   "cell_type": "code",
   "execution_count": 85,
   "metadata": {},
   "outputs": [
    {
     "data": {
      "application/vnd.jupyter.widget-view+json": {
       "model_id": "c218f06fee6e4eacbba57dd1661926a3",
       "version_major": 2,
       "version_minor": 0
      },
      "text/plain": [
       "VBox(children=(HBox(children=(Button(description='◄', style=ButtonStyle()), Button(description='►', style=Butt…"
      ]
     },
     "metadata": {},
     "output_type": "display_data"
    },
    {
     "data": {
      "application/vnd.jupyter.widget-view+json": {
       "model_id": "a8ed583cbeb5419a908c218f9aed114f",
       "version_major": 2,
       "version_minor": 0
      },
      "text/plain": [
       "Output()"
      ]
     },
     "metadata": {},
     "output_type": "display_data"
    }
   ],
   "source": [
    "# Define callback functions for the arrow buttons\n",
    "def on_left_button_clicked(button):\n",
    "    x_start_widget.value -= 10\n",
    "    x_end_widget.value -= 10\n",
    "\n",
    "def on_right_button_clicked(button):\n",
    "    x_start_widget.value += 10\n",
    "    x_end_widget.value += 10\n",
    "\n",
    "# Create arrow buttons\n",
    "left_button = widgets.Button(description='◄')\n",
    "right_button = widgets.Button(description='►')\n",
    "\n",
    "# Define widgets for the x-axis range\n",
    "x_start_widget = widgets.FloatText(value=breathing.index.min(), description='X start:', continuous_update=False)\n",
    "x_end_widget = widgets.FloatText(value=breathing.index.max(), description='X end:', continuous_update=False)\n",
    "\n",
    "# Set button click event handlers\n",
    "left_button.on_click(on_left_button_clicked)\n",
    "right_button.on_click(on_right_button_clicked)\n",
    "\n",
    "# Arrange the buttons and widgets horizontally\n",
    "button_box = widgets.HBox([left_button, right_button])\n",
    "ui = widgets.VBox([button_box, x_start_widget, x_end_widget])\n",
    "\n",
    "# Create interactive plot\n",
    "interactive_plot = widgets.interactive_output(peak_plot, {'x_start': x_start_widget, 'x_end': x_end_widget})\n",
    "\n",
    "# Display the interactive plot and UI\n",
    "display(ui, interactive_plot)\n"
   ]
  },
  {
   "cell_type": "code",
   "execution_count": null,
   "metadata": {},
   "outputs": [],
   "source": [
    "\n",
    "# Filter requirements\n",
    "order = 6\n",
    "fs = 100.0  # sample rate, Hz\n",
    "cutoff = 1.0  # desired cutoff frequency of the filter, Hz\n",
    "\n",
    "# Filter the breathing signal\n",
    "breathing_filtered = butter_lowpass_filter(breathing_data, cutoff, fs, order)\n",
    "\n",
    "# Find peaks and troughs in the filtered signal\n",
    "peaks_filtered = find_peaks(breathing_filtered, width=5, prominence=0.1)[0]\n",
    "troughs_filtered = find_peaks(-breathing_filtered, height=0, width=3, prominence=0.1)[0]\n",
    "troughs_filtered = troughs_filtered[troughs_filtered > peaks_filtered[0]]\n",
    "\n",
    "# Get timestamps corresponding to the peaks and troughs\n",
    "peak_times = breathing.index[peaks]\n",
    "trough_times = breathing.index[troughs]\n",
    "peak_times_filtered = breathing.index[peaks_filtered]\n",
    "trough_times_filtered = breathing.index[troughs_filtered]\n"
   ]
  },
  {
   "cell_type": "code",
   "execution_count": null,
   "metadata": {},
   "outputs": [],
   "source": [
    "def peak_plot(x_start=None, x_end=None, window_duration=10, show_filtered=False):\n",
    "    fig, ax = plt.subplots(figsize=(20, 6))\n",
    "    \n",
    "    # Default to the entire range if no specific x_start or x_end is given\n",
    "    if x_start is None:\n",
    "        x_start = breathing.index.min()\n",
    "    if x_end is None:\n",
    "        x_end = breathing.index.max()\n",
    "    \n",
    "    # Calculate the center of the window based on x_start and x_end\n",
    "    center_time = (x_start + x_end) / 2\n",
    "\n",
    "    # Adjust the x_start and x_end to show a 10-second window\n",
    "    x_start = max(center_time - window_duration / 2, breathing.index.min())\n",
    "    x_end = min(center_time + window_duration / 2, breathing.index.max())\n",
    "    ax.grid(True)\n",
    "\n",
    "    # Plot the breathing data\n",
    "    if show_filtered:\n",
    "        ax.plot(breathing.index, breathing_filtered, label='Filtered Breathing Signal', color='black', linewidth=1)\n",
    "        ax.scatter(peak_times_filtered, breathing_filtered[peaks_filtered], color='red', marker='o', label='Filtered Peaks')\n",
    "        ax.scatter(trough_times_filtered, breathing_filtered[troughs_filtered], color='blue', marker='x', label='Filtered Troughs')\n",
    "    else:\n",
    "        ax.plot(breathing.index, breathing_data, label='Unfiltered Breathing Signal', color='black', linewidth=1)\n",
    "        ax.scatter(peak_times, breathing_data[peaks], color='red', marker='o', label='Unfiltered Peaks')\n",
    "        ax.scatter(trough_times, breathing_data[troughs], color='blue', marker='x', label='Unfiltered Troughs')\n",
    "\n",
    "    # Add labels, title, and legend\n",
    "    ax.set_xlabel('Time')\n",
    "    ax.set_ylabel('Breathing Signal')\n",
    "    ax.set_title('Breathing Signal with Peaks and Troughs')\n",
    "    ax.legend()\n",
    "    ax.set_xlim([x_start, x_end])\n",
    "    \n",
    "    plt.show()\n"
   ]
  },
  {
   "cell_type": "code",
   "execution_count": null,
   "metadata": {},
   "outputs": [],
   "source": [
    "\n",
    "# Define callback functions for the arrow buttons\n",
    "def on_left_button_clicked(button):\n",
    "    x_start_widget.value -= 10\n",
    "    x_end_widget.value -= 10\n",
    "\n",
    "def on_right_button_clicked(button):\n",
    "    x_start_widget.value += 10\n",
    "    x_end_widget.value += 10\n",
    "\n",
    "# Create arrow buttons\n",
    "left_button = widgets.Button(description='◄')\n",
    "right_button = widgets.Button(description='►')\n",
    "\n",
    "# Define widgets for the x-axis range\n",
    "x_start_widget = widgets.FloatText(value=breathing.index.min(), description='X start:', continuous_update=False)\n",
    "x_end_widget = widgets.FloatText(value=breathing.index.max(), description='X end:', continuous_update=False)\n",
    "filter_checkbox = widgets.Checkbox(value=False, description='Show Filtered')\n",
    "\n",
    "# Set button click event handlers\n",
    "left_button.on_click(on_left_button_clicked)\n",
    "right_button.on_click(on_right_button_clicked)\n",
    "\n",
    "# Arrange the buttons and widgets horizontally\n",
    "button_box = widgets.HBox([left_button, right_button])\n",
    "ui = widgets.VBox([button_box, x_start_widget, x_end_widget, filter_checkbox])\n",
    "\n",
    "# Create interactive plot\n",
    "interactive_plot = widgets.interactive_output(\n",
    "    peak_plot, \n",
    "    {'x_start': x_start_widget, 'x_end': x_end_widget, 'show_filtered': filter_checkbox}\n",
    ")\n"
   ]
  },
  {
   "cell_type": "code",
   "execution_count": null,
   "metadata": {},
   "outputs": [],
   "source": [
    "# use the interactive plot\n",
    "display(ui, interactive_plot)"
   ]
  }
 ],
 "metadata": {
  "kernelspec": {
   "display_name": "vr_foraging",
   "language": "python",
   "name": "python3"
  },
  "language_info": {
   "codemirror_mode": {
    "name": "ipython",
    "version": 3
   },
   "file_extension": ".py",
   "mimetype": "text/x-python",
   "name": "python",
   "nbconvert_exporter": "python",
   "pygments_lexer": "ipython3",
   "version": "3.11.9"
  }
 },
 "nbformat": 4,
 "nbformat_minor": 2
}
