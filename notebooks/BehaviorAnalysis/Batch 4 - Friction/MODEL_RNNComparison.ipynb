{
 "cells": [
  {
   "cell_type": "code",
   "execution_count": null,
   "metadata": {},
   "outputs": [],
   "source": [
    "# IPython magic tools\n",
    "%load_ext autoreload\n",
    "%autoreload 2\n",
    "\n",
    "import os\n",
    "\n",
    "# Plotting and data managing libraries\n",
    "import matplotlib.pyplot as plt\n",
    "from matplotlib.backends.backend_pdf import PdfPages\n",
    "import matplotlib.patches as mpatches\n",
    "import seaborn as sns\n",
    "import pandas as pd\n",
    "import numpy as np\n",
    "sns.set_context('talk')\n",
    "\n",
    "import warnings\n",
    "pd.options.mode.chained_assignment = None  # Ignore SettingWithCopyWarning\n",
    "warnings.simplefilter(action='ignore', category=FutureWarning)\n",
    "warnings.simplefilter(\"ignore\", UserWarning)\n",
    "warnings.filterwarnings(\"ignore\", category=RuntimeWarning)\n",
    "\n",
    "pdf_path = r'Z:\\scratch\\vr-foraging\\sessions'\n",
    "base_path = r'Z:\\scratch\\vr-foraging\\data'\n",
    "data_path = r'../../../data/'\n",
    "results_path = r'C:\\Users\\tiffany.ona\\OneDrive - Allen Institute\\Documents\\VR foraging\\experiments\\batch 4 - manipulating cost of travelling and global statistics\\results'\n",
    "\n",
    "# Modelling libraries\n",
    "from sklearn.linear_model import LogisticRegression\n",
    "from sklearn.preprocessing import StandardScaler, PolynomialFeatures\n",
    "from sklearn.model_selection import cross_val_score, GridSearchCV, StratifiedKFold\n",
    "from sklearn.pipeline import Pipeline\n",
    "from sklearn.metrics import confusion_matrix, roc_curve, auc\n",
    "from sklearn.feature_selection import RFE, RFECV\n",
    "\n",
    "# Statistical tools\n",
    "from scipy.stats import ttest_1samp"
   ]
  },
  {
   "cell_type": "code",
   "execution_count": null,
   "metadata": {},
   "outputs": [],
   "source": [
    "def load(filename= 'batch_4.csv', interpatch_name = 'PostPatch'):\n",
    "    # if filename == 'batch_4.csv':\n",
    "    #     experiment_list = ['data_collection', 'friction', 'control', 'distance_long', 'distance_short', 'friction_low','friction_med', 'friction_high', 'distance_extra_long', 'distance_extra_short']\n",
    "    # else:\n",
    "    #     experiment_list = ['base', 'experiment1', 'experiment2']\n",
    "        \n",
    "    print('Loading')\n",
    "    summary_df = pd.read_csv(os.path.join(data_path, filename), index_col=0)\n",
    "\n",
    "    summary_df = summary_df[(summary_df['mouse'] != 754573)&(summary_df['mouse'] != 754572)]\n",
    "    # summary_df = summary_df[(summary_df['mouse'] != 754573)&(summary_df['mouse'] != 754572)&(summary_df['mouse'] != 745300)&(summary_df['mouse'] != 745306)&(summary_df['mouse'] != 745307)]\n",
    "\n",
    "    # summary_df = summary_df.loc[summary_df.experiment.isin(experiment_list)]\n",
    "    \n",
    "    summary_df['END'] = summary_df.index.to_series().shift(-1)\n",
    "    summary_df['START'] =  summary_df.index\n",
    "    summary_df['duration_epoch'] = summary_df['END'] - summary_df['START']\n",
    "\n",
    "    # Fill in missing values in patch_number\n",
    "    summary_df['active_real'] = summary_df['patch_number'].shift(-1)\n",
    "    summary_df['patch_number'] = np.where(summary_df['label'] == 'PostPatch', summary_df['active_real'], summary_df['patch_number'])\n",
    "    \n",
    "    ## Add interpatch time and distance as new columns\n",
    "    df = summary_df.loc[summary_df.label == interpatch_name].groupby(['mouse','session', 'patch_number'], as_index=False).agg({'length': 'mean', 'duration_epoch': 'first'})\n",
    "    df.rename(columns={'length':'interpatch_length', 'duration_epoch': 'interpatch_time'}, inplace=True)\n",
    "    summary_df = summary_df.merge(df, on=['mouse','session', 'patch_number'], how='left')\n",
    "\n",
    "    summary_df = summary_df.loc[(summary_df.label == 'OdorSite')]\n",
    "    summary_df = summary_df.loc[(summary_df['patch_number'] <= 20)|(summary_df['engaged'] ==True)]\n",
    "    \n",
    "    summary_df['patch_label'] = summary_df['patch_label'].replace({'Alpha pinene': '60','Alpha-pinene': '60', 'Methyl Butyrate': '90', 'Ethyl Butyrate': '90', 'Amyl Acetate': '0'})\n",
    "\n",
    "    summary_df = summary_df.loc[summary_df['odor_label'] != 'Amyl Acetate']\n",
    "    summary_df = summary_df.loc[(summary_df['patch_label'] == '90')|(summary_df['patch_label'] == '60')]\n",
    "    # summary_df  = summary_df.loc[summary_df['experiment'] == \"control\"]\n",
    "\n",
    "    return  summary_df"
   ]
  },
  {
   "cell_type": "code",
   "execution_count": null,
   "metadata": {},
   "outputs": [],
   "source": [
    "summary_df = load()"
   ]
  },
  {
   "cell_type": "code",
   "execution_count": null,
   "metadata": {},
   "outputs": [],
   "source": [
    "## Only keep the patches they visit\n",
    "# summary_df = summary_df.loc[(((summary_df.site_number == 1)&(summary_df.is_choice == 1))&(summary_df.site_number != 0))|(summary_df.site_number > 1)]\n",
    "summary_df = summary_df.loc[((summary_df.site_number == 0)&(summary_df.is_choice == 1))|(summary_df.site_number != 0)]"
   ]
  },
  {
   "cell_type": "code",
   "execution_count": null,
   "metadata": {},
   "outputs": [],
   "source": [
    "patch_df = summary_df.groupby(['mouse','experiment','patch_label']).agg({'patch_number': 'nunique'}).reset_index()\n",
    "final_df = pd.merge(summary_df, patch_df, on=['mouse','experiment', 'patch_label'], how='left', suffixes=('', '_attempted'))\n",
    "final_df = final_df.groupby(['mouse', 'site_number', 'experiment','patch_label']).agg({'patch_number': 'nunique','patch_number_attempted': 'mean'}).reset_index()\n",
    "final_df['fraction_visited'] = final_df['patch_number'] / final_df['patch_number_attempted']"
   ]
  },
  {
   "cell_type": "code",
   "execution_count": null,
   "metadata": {},
   "outputs": [],
   "source": [
    "new_df = final_df.groupby(['mouse','experiment', 'site_number', 'patch_label']).fraction_visited.mean().reset_index()\n",
    "fig, axes = plt.subplots(5, 3, figsize=(12, 16), sharey=True)\n",
    "for ax, mouse in zip(axes.flatten(), new_df.mouse.unique()):\n",
    "    sns.lineplot(data=new_df.loc[(new_df.mouse == mouse)&(new_df.experiment == \"control\")], x='site_number', y='fraction_visited', hue='patch_label', ci=None, ax=ax, legend=False, palette=[color2, color1])\n",
    "    sns.lineplot(data=new_df.loc[(new_df.mouse == mouse)&(new_df.experiment == \"distance_extra_long\")], x='site_number', y='fraction_visited', hue='patch_label', linestyle = ':', ci=None, ax=ax, legend=False, palette=[color2, color1])\n",
    "\n",
    "    ax.set_xlim(0, 50)\n",
    "    ax.set_title(f'Mouse {mouse}')\n",
    "    ax.set_xlabel('Odor site number')\n",
    "    ax.set_ylabel('Fraction visited')\n",
    "    sns.despine()\n",
    "    plt.tight_layout()"
   ]
  },
  {
   "cell_type": "code",
   "execution_count": null,
   "metadata": {},
   "outputs": [],
   "source": [
    "fig, ax = plt.subplots(1, 1, figsize=(6, 4), sharey=True)\n",
    "\n",
    "sns.lineplot(data=new_df.loc[(new_df.experiment == \"control\")], x='site_number', y='fraction_visited', hue='patch_label', ci=None, ax=ax, legend=False, palette=[color2, color1])\n",
    "sns.lineplot(data=new_df.loc[(new_df.experiment == \"distance_extra_short\")], x='site_number', y='fraction_visited', hue='patch_label', linestyle = ':', ci=None, ax=ax, legend=False, palette=[color2, color1])\n",
    "sns.lineplot(data=new_df.loc[(new_df.experiment == \"distance_extra_long\")], x='site_number', y='fraction_visited', hue='patch_label', linestyle = '--', ci=None, ax=ax, legend=False, palette=[color2, color1])\n",
    "\n",
    "ax.set_xlim(0, 50)\n",
    "ax.set_xlabel('Odor site number')\n",
    "ax.set_ylabel('Fraction visited')\n",
    "sns.despine()\n",
    "plt.tight_layout()"
   ]
  },
  {
   "cell_type": "code",
   "execution_count": null,
   "metadata": {},
   "outputs": [],
   "source": [
    "## Remove low number patches\n",
    "fig, axes = plt.subplots(4, 4, figsize=(24, 20))\n",
    "add_df= pd.DataFrame()\n",
    "for mouse, ax in zip(summary_df.mouse.unique(), axes.flatten()):\n",
    "    df = summary_df.loc[((summary_df.experiment == 'stageC_v1')|(summary_df.experiment == 'data_collection'))&(summary_df.mouse == mouse)].groupby(['session_n','odor_label','cumulative_rewards']).agg({'is_choice':'mean', 'patch_number': 'nunique'}).reset_index()\n",
    "    if df.empty:\n",
    "        continue\n",
    "    df['interval'] = pd.cut(df['session_n'], bins=3, labels=['early', 'middle', 'late'])\n",
    "    df = df.loc[df.patch_number > 5]\n",
    "    sns.lineplot(data=df.loc[df.odor_label == 'Alpha-pinene'], x='cumulative_rewards', y='is_choice', hue='interval', palette='Greens', ax=ax, errorbar=None)\n",
    "    sns.lineplot(data=df.loc[df.odor_label == 'Methyl Butyrate'], x='cumulative_rewards', y='is_choice', hue='interval', palette='Oranges', ax=ax, errorbar=None)\n",
    "    ax.set_ylim(0, 1)\n",
    "    ax.set_xlim(0, 15)\n",
    "    ax.set_title(mouse)\n",
    "    df['mouse'] = mouse\n",
    "    add_df = pd.concat([df, add_df])\n",
    "sns.despine()\n",
    "plt.tight_layout()\n",
    "\n",
    "# Manually create the legend\n",
    "plt.show()"
   ]
  },
  {
   "cell_type": "code",
   "execution_count": null,
   "metadata": {},
   "outputs": [],
   "source": [
    "fig, axes = plt.subplots(1, 3, figsize=(16, 5))\n",
    "sum_df = add_df.groupby(['mouse','odor_label','cumulative_rewards','interval']).agg({'is_choice':'mean', 'patch_number':'sum'}).reset_index()\n",
    "for ax, interval in zip(axes.flatten(), ['early', 'middle', 'late']):\n",
    "    sns.lineplot(data=sum_df.loc[(sum_df.odor_label == 'Alpha-pinene')&(sum_df.interval == interval)], x='cumulative_rewards', y='is_choice', hue='interval', palette='Greens', ax=ax)\n",
    "    sns.lineplot(data=sum_df.loc[(sum_df.odor_label == 'Methyl Butyrate')&(sum_df.interval == interval)], x='cumulative_rewards', y='is_choice', hue='interval', palette='Oranges', ax=ax)\n",
    "    ax.set_ylim(0, 1)\n",
    "    ax.set_xlim(0, 30)\n",
    "    sns.despine()\n",
    "plt.tight_layout()\n",
    "# Manually create the legend\n",
    "plt.show()\n"
   ]
  },
  {
   "cell_type": "code",
   "execution_count": null,
   "metadata": {},
   "outputs": [],
   "source": [
    "color1='#d95f02'\n",
    "color2='#1b9e77'\n",
    "color3='#7570b3'\n",
    "color4='yellow'\n",
    "\n",
    "fig, axes = plt.subplots(4, 4, figsize=(24, 20))\n",
    "for mouse, ax in zip(summary_df.mouse.unique(), axes.flatten()):\n",
    "    print(mouse)\n",
    "    df = summary_df.loc[((summary_df.experiment == 'control'))&(summary_df.mouse == mouse)].groupby(['session_n','odor_label','cumulative_rewards']).agg({'is_choice':'mean', 'patch_number': 'nunique'}).reset_index()\n",
    "    if df.empty:\n",
    "        continue\n",
    "    df['interval'] = pd.cut(df['session_n'], bins=3, labels=['early', 'middle', 'late'])\n",
    "    df = df.loc[df.patch_number > 3]\n",
    "    sns.lineplot(data=df.loc[df.odor_label == 'Alpha-pinene'], x='cumulative_rewards', y='is_choice',  palette=color2, ax=ax)\n",
    "    sns.lineplot(data=df.loc[df.odor_label == 'Methyl Butyrate'], x='cumulative_rewards', y='is_choice', palette=color1, ax=ax)\n",
    "    ax.set_ylim(0, 1)\n",
    "    ax.set_xlim(0, 30)\n",
    "    ax.set_title(mouse)\n",
    "sns.despine()\n",
    "plt.tight_layout()\n",
    "# Manually create the legend\n",
    "plt.show()\n"
   ]
  },
  {
   "cell_type": "markdown",
   "metadata": {},
   "source": [
    "###  **Look at the P(stay) across odor sites per mouse and all sessions separately**"
   ]
  },
  {
   "cell_type": "code",
   "execution_count": null,
   "metadata": {},
   "outputs": [],
   "source": [
    "df = summary_df.groupby(['mouse', 'session', 'site_number', 'patch_label']).agg({'is_choice': 'mean', 'is_reward':'count'}).reset_index()\n",
    "df = df[df['is_reward'] >= 4]\n",
    "\n",
    "# Loop over each mouse\n",
    "for mouse, mouse_df in df.groupby('mouse'):\n",
    "    sessions = mouse_df['session'].unique()\n",
    "    n_cols = 5\n",
    "    n_rows = int(np.ceil(len(sessions) / n_cols))\n",
    "\n",
    "    fig, axes = plt.subplots(n_rows, n_cols, figsize=(n_cols * 4, n_rows * 4), sharex=True, sharey=True)\n",
    "    axes = axes.flatten()\n",
    "\n",
    "    for ax, session in zip(axes, sessions):\n",
    "        session_df = mouse_df[mouse_df['session'] == session]\n",
    "        sns.lineplot(data=session_df, x='site_number', y='is_choice', hue='patch_label', \n",
    "                     ax=ax, legend=False, errorbar='sd')\n",
    "               \n",
    "        ax.set_title(f\"Session {session}\")\n",
    "        ax.set_xlabel('# stops')\n",
    "        ax.set_ylabel('P(Stay)')\n",
    "    # Hide any unused axes\n",
    "    for ax in axes[len(sessions):]:\n",
    "        ax.axis('off')\n",
    "\n",
    "    plt.suptitle(f\"Mouse {mouse}\", fontsize=24)\n",
    "    plt.tight_layout(rect=[0, 0, 1, 0.98])  # leave space for suptitle\n",
    "    sns.despine()\n",
    "    plt.show()\n",
    "    fig.savefig(os.path.join(results_path, f\"mouse_{mouse}_pstay_vs_stops_persession.pdf\"), bbox_inches='tight')\n"
   ]
  }
 ],
 "metadata": {
  "kernelspec": {
   "display_name": ".venv",
   "language": "python",
   "name": "python3"
  },
  "language_info": {
   "codemirror_mode": {
    "name": "ipython",
    "version": 3
   },
   "file_extension": ".py",
   "mimetype": "text/x-python",
   "name": "python",
   "nbconvert_exporter": "python",
   "pygments_lexer": "ipython3",
   "version": "3.12.7"
  }
 },
 "nbformat": 4,
 "nbformat_minor": 2
}
