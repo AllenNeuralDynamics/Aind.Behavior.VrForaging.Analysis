{
 "cells": [
  {
   "cell_type": "code",
   "execution_count": null,
   "metadata": {},
   "outputs": [],
   "source": [
    "# IPython magig  tools\n",
    "%load_ext autoreload\n",
    "%autoreload 2\n",
    "\n",
    "import sys\n",
    "sys.path.append('../../../src/')\n",
    "\n",
    "import os\n",
    "\n",
    "from aind_vr_foraging_analysis.utils.plotting import general_plotting_utils as plotting, plotting_friction_experiment as f\n",
    "from aind_vr_foraging_analysis.utils.parsing import parse, AddExtraColumns, data_access\n",
    "\n",
    "# Plotting libraries\n",
    "import matplotlib.pyplot as plt\n",
    "import seaborn as sns\n",
    "import pandas as pd\n",
    "import numpy as np\n",
    "import datetime\n",
    "from pathlib import Path\n",
    "\n",
    "sns.set_context('talk')\n",
    "\n",
    "import warnings\n",
    "pd.options.mode.chained_assignment = None  # Ignore SettingWithCopyWarning\n",
    "warnings.simplefilter(action='ignore', category=FutureWarning)\n",
    "warnings.simplefilter(\"ignore\", UserWarning)\n",
    "warnings.filterwarnings(\"ignore\", category=RuntimeWarning)\n",
    "\n",
    "pdf_path = r'Z:\\scratch\\vr-foraging\\sessions'\n",
    "base_path = r'Z:\\scratch\\vr-foraging\\data'\n",
    "data_path = r'../../../data/'\n",
    "\n",
    "color1='#d95f02'\n",
    "color2='#1b9e77'\n",
    "color3='#7570b3'\n",
    "color4='#e7298a'\n",
    "odor_list_color = [color1, color2, color3]\n",
    "color_dict = {0: color1, 1: color2, 2: color3}\n",
    "color_dict_label = {'Ethyl Butyrate': color1, 'Alpha-pinene': color2, 'Amyl Acetate': color3, \n",
    "                    '2-Heptanone' : color2, 'Methyl Acetate': color1, 'Fenchone': color3, '2,3-Butanedione': color4,\n",
    "                    'Methyl Butyrate': color1}\n",
    "# color_dict_label = {'Ethyl Butyrate': '#d95f02', 'Alpha-pinene': '#1b9e77', 'Amyl Acetate': '#7570b3', \n",
    "#                     '2-Heptanone' : '#1b9e77', 'Methyl Acetate': '#d95f02', 'Fenchone': '#7570b3', '2,3-Butanedione': '#e7298a'}\n",
    "dict_odor = {}\n",
    "rate = -0.12\n",
    "offset = 0.6\n",
    "dict_odor['Ethyl Butyrate'] = {'rate':rate, 'offset':offset, 'color': '#d95f02'}\n",
    "dict_odor['Methyl Butyrate'] = {'rate':rate, 'offset':0.9, 'color': '#d95f02'}\n",
    "dict_odor['Alpha-pinene'] = {'rate':rate, 'offset':offset, 'color': '#1b9e77'}\n",
    "dict_odor['Amyl Acetate'] = {'rate':rate, 'offset':offset, 'color': '#7570b3'}\n",
    "dict_odor['Methyl Acetate'] = {'rate':rate, 'offset':offset, 'color': color1}\n",
    "dict_odor['2,3-Butanedione'] = {'rate':rate, 'offset':offset, 'color': color4}\n",
    "dict_odor['Fenchone'] = {'rate':rate, 'offset':offset, 'color': '#7570b3'}\n",
    "dict_odor['2-Heptanone'] = {'rate':rate, 'offset':offset, 'color': '#7570b3'}\n",
    "\n",
    "# Define exponential function\n",
    "def exponential_func(x, a, b):\n",
    "    return a * np.exp(b * x)\n",
    "\n",
    "def format_func(value, tick_number):\n",
    "    return f\"{value:.0f}\"\n",
    "\n",
    "results_path = r'C:\\Users\\tiffany.ona\\OneDrive - Allen Institute\\Documents\\VR foraging\\experiments\\batch 4 - manipulating cost of travelling and global statistics\\results'\n",
    "\n"
   ]
  },
  {
   "cell_type": "markdown",
   "metadata": {},
   "source": [
    "### Generating the dataset"
   ]
  },
  {
   "cell_type": "code",
   "execution_count": null,
   "metadata": {},
   "outputs": [],
   "source": [
    "date = datetime.date.today()\n",
    "date_string = \"2024-8-25\""
   ]
  },
  {
   "cell_type": "code",
   "execution_count": null,
   "metadata": {},
   "outputs": [],
   "source": [
    "params_df = pd.read_csv(data_path + 'torque_calibration.csv')"
   ]
  },
  {
   "cell_type": "code",
   "execution_count": null,
   "metadata": {},
   "outputs": [],
   "source": [
    "mouse_list = ['754570','754579','754567','754580','754559','754560','754577',\n",
    "              '754566','754571','754574','754575', \n",
    "              '754582','745302','745305','745301'\n",
    "              ]"
   ]
  },
  {
   "cell_type": "code",
   "execution_count": null,
   "metadata": {},
   "outputs": [],
   "source": [
    "list_errors = []\n",
    "summary_df = pd.DataFrame()\n",
    "for mouse in mouse_list:\n",
    "    session_paths = data_access.find_sessions_relative_to_date(\n",
    "    mouse=mouse,\n",
    "    date_string=date_string,\n",
    "    when='on_or_after',\n",
    "    )\n",
    "    session_n = 0\n",
    "    print('Mouse: ', mouse)\n",
    "    # All this segment is to find the correct session without having the specific path\n",
    "    for session_path in session_paths:\n",
    "        print(session_path)\n",
    "        try:\n",
    "            data = parse.load_session_data(session_path)\n",
    "        except Exception as e:\n",
    "            print('Error loading data: ', e)\n",
    "            list_errors.append(session_path)\n",
    "            continue\n",
    "        # Parse data into a dataframe with the main features\n",
    "        try:\n",
    "            all_epochs = parse.parse_dataframe(data)\n",
    "        except Exception as e:\n",
    "            print('Error parsing data: ', e)\n",
    "            list_errors.append(session_path)\n",
    "            continue\n",
    "        \n",
    "        # -- At this step you can save the data into a csv file\n",
    "        \n",
    "        if  'OdorSite' not in all_epochs.label.unique():\n",
    "            print('No odor site data')\n",
    "            continue\n",
    "        \n",
    "        rig = data['config'].streams.rig_input.data['rig_name']\n",
    "        experiment = data['config'].streams.tasklogic_input.data['stage_name']\n",
    "        \n",
    "        # What was the friction applied if we have the friction of the schema? (We have the friction in the schema, we want the reality)\n",
    "        try:\n",
    "            friction = data['config'].streams.tasklogic_input.data['task_parameters']['environment_statistics']['patches'][0]['virtual_site_generation']['post_patch']['treadmill_specification']['friction']['distribution_parameters']['value']\n",
    "        except:\n",
    "            friction = 0\n",
    "            \n",
    "        wheel = rig\n",
    "        resolved_torque = f.quadratic_model(65535 * friction, params_df.loc[params_df.wheel == wheel].a.values[0], params_df.loc[params_df.wheel == wheel].b.values[0], params_df.loc[params_df.wheel == wheel].c.values[0])    \n",
    "        torque_friction = params_df.loc[params_df.wheel == wheel].c.values[0] - resolved_torque\n",
    "    \n",
    "        if experiment == 'friction' or experiment == 'friction_15' or experiment == 'friction_optimized':\n",
    "            if torque_friction < 120:\n",
    "                experiment = 'friction_low'\n",
    "            elif torque_friction > 120 and torque_friction < 240:\n",
    "                experiment = 'friction_med'\n",
    "            else:\n",
    "                experiment = 'friction_high'\n",
    "                \n",
    "        all_epochs['duration_epoch'] = all_epochs.index.to_series().diff().shift(-1)\n",
    "        all_epochs['mouse'] = mouse\n",
    "        all_epochs['session'] = str(session_path)[-25:]   \n",
    "        all_epochs['rig'] = rig\n",
    "        all_epochs['torque_friction'] = torque_friction\n",
    "        all_epochs['experiment'] = experiment\n",
    "        \n",
    "        session_n += 1\n",
    "        all_epochs['session_n'] = session_n\n",
    "        \n",
    "        # Expand with extra columns\n",
    "        extra_columns = AddExtraColumns(all_epochs, run_on_init=True)\n",
    "        all_epochs = extra_columns.get_all_epochs()\n",
    "        odor_sites = extra_columns.get_odor_sites()\n",
    "\n",
    "        odor_sites['perceived_reward_probability'] = odor_sites['after_choice_cumulative_rewards'] / (odor_sites['site_number'] +1)\n",
    "        \n",
    "        # Load the encoder data separately\n",
    "        stream_data = parse.ContinuousData(data)\n",
    "        encoder_data = stream_data.encoder_data\n",
    "        \n",
    "        # Remove segments where the mouse was disengaged\n",
    "        last_engaged_patch = odor_sites['patch_number'][odor_sites['skipped_count'] >= 3].min()\n",
    "        if pd.isna(last_engaged_patch):\n",
    "            last_engaged_patch = odor_sites['patch_number'].max()\n",
    "        odor_sites['engaged'] = np.where((odor_sites['patch_number'] <= last_engaged_patch)|(odor_sites['patch_number'] >= 20), 1, 0)\n",
    "    \n",
    "        all_epochs = pd.concat([all_epochs.loc[all_epochs.label !='OdorSite'], odor_sites]).sort_index()\n",
    "        \n",
    "        summary_df = pd.concat([summary_df, all_epochs])"
   ]
  },
  {
   "cell_type": "code",
   "execution_count": null,
   "metadata": {},
   "outputs": [],
   "source": [
    "# summary_df = summary_df.sort_values(by=['mouse', 'session']).reset_index(drop=True)\n",
    "# summary_df['session_n'] = summary_df.groupby('mouse')['session'].rank(method='dense').astype(int)\n",
    "# summary_df['within_session_n'] = summary_df.groupby(['mouse', 'experiment'])['session'].rank(method='dense').astype(int)\n",
    "\n",
    "summary_df.to_csv(os.path.join(data_path, 'batch_4.csv'))"
   ]
  },
  {
   "cell_type": "markdown",
   "metadata": {},
   "source": [
    "### Retrieving data from the calibration"
   ]
  },
  {
   "cell_type": "code",
   "execution_count": null,
   "metadata": {},
   "outputs": [],
   "source": [
    "params_df = pd.read_csv(data_path + 'torque_calibration.csv')"
   ]
  },
  {
   "cell_type": "code",
   "execution_count": null,
   "metadata": {},
   "outputs": [],
   "source": [
    "# What was the friction applied if we have the friction of the schema? (We have the friction in the schema, we want the reality)\n",
    "for i, row in summary_df.iterrows():\n",
    "    wheel = row['rig']\n",
    "    resolved_torque = friction.quadratic_model(65535 * (row['friction']), params_df.loc[params_df.wheel == wheel].a.values[0], params_df.loc[params_df.wheel == wheel].b.values[0], params_df.loc[params_df.wheel == wheel].c.values[0])    \n",
    "    actual_friction = (params_df.loc[params_df.wheel == wheel].c.values[0] - resolved_torque)/params_df.loc[params_df.wheel == wheel].c.values[0]    \n",
    "    summary_df.loc[i, 'torque_difference'] = params_df.loc[params_df.wheel == wheel].c.values[0] - resolved_torque"
   ]
  },
  {
   "cell_type": "code",
   "execution_count": null,
   "metadata": {},
   "outputs": [],
   "source": [
    "new_df = summary_df.loc[summary_df.friction!=0].groupby(['mouse','session_number','experiment']).agg({'actual_friction':'mean'}).reset_index()\n",
    "np.quantile(new_df.actual_friction, 0.33)"
   ]
  },
  {
   "cell_type": "markdown",
   "metadata": {},
   "source": [
    "### Parsing the data"
   ]
  },
  {
   "cell_type": "code",
   "execution_count": null,
   "metadata": {},
   "outputs": [],
   "source": [
    "## Reclassifying friction sections depending on the actual friction. Adding a column for the average length\n",
    "to_merge = (summary_df.loc[summary_df.label == 'PostPatch'].groupby(['mouse', 'session'])\n",
    "                      .agg(length_average=('length', 'mean'),\n",
    "                           interpatch_friction = ('actual_friction', 'max'),\n",
    "                           torque_friction = ('torque_difference', 'max')).reset_index())\n",
    "summary_df = pd.merge(summary_df, to_merge, on=['mouse', 'session'])\n",
    "\n",
    "list_frictions = ['friction', 'friction_15', 'friction_optimized']\n",
    "summary_df['experiment'] = np.where(summary_df['experiment'].isin(list_frictions), 'friction', summary_df['experiment'])\n",
    "summary_df['experiment_torque'] = summary_df['experiment']\n",
    "\n",
    "## Change the experiment name to match the real friction applied\n",
    "# summary_df['experiment'] = np.where((summary_df['interpatch_friction'] < 8) & (summary_df['experiment'] == 'friction'), 'friction_low', summary_df['experiment'])\n",
    "# summary_df['experiment'] = np.where((summary_df['interpatch_friction'] >= 13) & (summary_df['experiment'] == 'friction'), 'friction_high', summary_df['experiment'])\n",
    "# summary_df['experiment'] = np.where((summary_df['interpatch_friction'] < 13) & (summary_df['experiment'] == 'friction'), 'friction_med', summary_df['experiment'])\n",
    "\n",
    "summary_df['experiment_torque'] = np.where((summary_df['torque_friction'] < 120) & (summary_df['experiment_torque'] == 'friction'), 'friction_low', summary_df['experiment_torque'])\n",
    "summary_df['experiment_torque'] = np.where((summary_df['torque_friction'] >= 240) & (summary_df['experiment_torque'] == 'friction'), 'friction_high', summary_df['experiment_torque'])\n",
    "summary_df['experiment_torque'] = np.where((summary_df['torque_friction'] < 240) & (summary_df['experiment_torque'] == 'friction'), 'friction_med', summary_df['experiment_torque'])"
   ]
  },
  {
   "cell_type": "code",
   "execution_count": null,
   "metadata": {},
   "outputs": [],
   "source": [
    "lists = ['friction_low', 'friction_med', 'friction_high']\n",
    "# Create a pivot table to prepare data for the heatmap\n",
    "test_df = summary_df.loc[summary_df.experiment.isin(lists)].groupby(['mouse', 'experiment', 'session', 'experiment_torque']).agg({'torque_friction':'mean'}).reset_index()\n",
    "heatmap_data = test_df.pivot_table(index='experiment', columns='experiment_torque', values='mouse', aggfunc='count', fill_value=0)\n",
    "\n",
    "# Plot the heatmap\n",
    "plt.figure(figsize=(5, 5))\n",
    "sns.heatmap(heatmap_data, annot=True, fmt='d', cmap='viridis')\n",
    "plt.title('Heatmap of Experiment and Experiment Torque Allocation')\n",
    "plt.xlabel('Experiment Torque')\n",
    "plt.ylabel('Experiment')\n",
    "plt.show()"
   ]
  }
 ],
 "metadata": {
  "kernelspec": {
   "display_name": ".venv",
   "language": "python",
   "name": "python3"
  },
  "language_info": {
   "codemirror_mode": {
    "name": "ipython",
    "version": 3
   },
   "file_extension": ".py",
   "mimetype": "text/x-python",
   "name": "python",
   "nbconvert_exporter": "python",
   "pygments_lexer": "ipython3",
   "version": "3.12.7"
  }
 },
 "nbformat": 4,
 "nbformat_minor": 2
}
