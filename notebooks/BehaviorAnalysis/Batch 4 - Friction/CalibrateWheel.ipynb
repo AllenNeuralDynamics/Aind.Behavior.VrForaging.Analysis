{
 "cells": [
  {
   "cell_type": "code",
   "execution_count": null,
   "metadata": {},
   "outputs": [],
   "source": [
    "# IPython magig  tools\n",
    "%load_ext autoreload\n",
    "%autoreload 2\n",
    "\n",
    "import numpy as np\n",
    "import matplotlib.pyplot as plt\n",
    "import seaborn as sns\n",
    "from scipy.optimize import curve_fit\n",
    "import pandas as pd\n",
    "import os\n",
    "\n",
    "from aind_vr_foraging_analysis.utils import parse, plotting_utils as plotting, AddExtraColumns\n",
    "import datetime\n",
    "from pathlib import Path\n",
    "base_path = r'Z:/scratch/vr-foraging/data/'\n",
    "data_path = r'../../../data/'\n"
   ]
  },
  {
   "cell_type": "markdown",
   "metadata": {},
   "source": [
    "## Recover the session values to see if it matters"
   ]
  },
  {
   "cell_type": "code",
   "execution_count": null,
   "metadata": {},
   "outputs": [],
   "source": [
    "import math\n",
    "def solve_quadratic(y, a, b, c):\n",
    "    # Adjust c for y\n",
    "    c -= y\n",
    "    # Calculate the discriminant\n",
    "    discriminant = b**2 - 4*a*c\n",
    "    \n",
    "    if discriminant < 0:\n",
    "        return \"No real solutions\"\n",
    "    elif discriminant == 0:\n",
    "        # One solution\n",
    "        x = -b / (2 * a)\n",
    "        return [x]\n",
    "    else:\n",
    "        # Two solutions\n",
    "        x1 = (-b + math.sqrt(discriminant)) / (2 * a)\n",
    "        x2 = (-b - math.sqrt(discriminant)) / (2 * a)\n",
    "        return [x1, x2]\n",
    "    \n",
    "# Define a quadratic model function to fit\n",
    "def quadratic_model(x, a, b, c):\n",
    "    return a * x**2 + b * x + c"
   ]
  },
  {
   "cell_type": "code",
   "execution_count": null,
   "metadata": {},
   "outputs": [],
   "source": [
    "torque_readings = pd.DataFrame()\n",
    "date = datetime.date.today()\n",
    "date_string = \"2/11/2025\"\n",
    "date = datetime.datetime.strptime(date_string, \"%m/%d/%Y\").date()"
   ]
  },
  {
   "cell_type": "markdown",
   "metadata": {},
   "source": [
    "**Recover the friction from all our sessions and the torque readings to interpolate the values with the calibraiton curves**"
   ]
  },
  {
   "cell_type": "code",
   "execution_count": null,
   "metadata": {},
   "outputs": [],
   "source": [
    "for mouse in ['754570','754579','754567','754580','754559','754560','754577','754566','754570','754571','754572','754573','754574','754575', '754582','745302','745305','745301']:\n",
    "    print(mouse)\n",
    "    cum_torque = pd.DataFrame()\n",
    "\n",
    "    directory = os.path.join(base_path, mouse)\n",
    "    files = os.listdir(os.path.join(base_path, mouse))\n",
    "\n",
    "    sorted_files = sorted(files, key=lambda x: os.path.getctime(os.path.join(directory, x)), reverse=False)\n",
    "\n",
    "    # All this segment is to find the correct session without having the specific path\n",
    "    for file_name in sorted_files:\n",
    "        # Find specific session sorted by date\n",
    "        session = file_name[-15:-7]\n",
    "        if datetime.datetime.strptime(session, \"%Y%m%d\").date() < date:\n",
    "            continue\n",
    "            \n",
    "        # Recover data streams\n",
    "        session_path = os.path.join(base_path, mouse, file_name)\n",
    "        session_path = Path(session_path)\n",
    "        try:\n",
    "            data = parse.load_session_data(session_path)\n",
    "        except:\n",
    "            continue\n",
    "        \n",
    "        rig_name = data['config'].streams.rig_input.data['rig_name']\n",
    "        experiment = data['config'].streams.tasklogic_input.data['stage_name']\n",
    "        \n",
    "        if experiment != 'friction' and experiment != 'friction_15' and experiment != 'friction_optimized':\n",
    "            continue\n",
    "        # Parse data into a dataframe with the main features\n",
    "        try:\n",
    "            reward_sites, active_site, config = parse.parse_dataframe(data)\n",
    "        except:\n",
    "            continue\n",
    "        \n",
    "        # -- At this step you can save the data into a csv file\n",
    "        \n",
    "        # Expand with extra columns\n",
    "        reward_sites = AddExtraColumns(reward_sites, active_site, run_on_init=True).reward_sites\n",
    "        active_site = AddExtraColumns(reward_sites, active_site, run_on_init=False).add_time_previous_intersite_interpatch()\n",
    "        friction_input = 0\n",
    "        \n",
    "        if active_site.loc[active_site.label == 'InterPatch'].length.min() == 50:\n",
    "            section = 'PostPatch'\n",
    "        else:\n",
    "            print(experiment)\n",
    "            section = 'InterPatch'\n",
    "\n",
    "        if section == 'PostPatch':\n",
    "            active_site['patch_number'] = active_site['patch_number'].shift(-1)\n",
    "            friction_input = data['config'].streams.tasklogic_input.data['task_parameters']['environment_statistics']['patches'][0]['virtual_site_generation']['post_patch']['treadmill_specification']['friction']['distribution_parameters']['value']\n",
    "            \n",
    "        active_site['end_epoch'] = active_site.index.to_series().shift(-1)\n",
    "        active_site['epoch_duration'] = active_site['end_epoch'] - active_site.index\n",
    "\n",
    "        new_active_site = active_site[active_site['label'] == section]\n",
    "\n",
    "        # Load the encoder data separately\n",
    "        stream_data = parse.ContinuousData(data)\n",
    "        torque_data = stream_data.torque_data\n",
    "        brake_data = stream_data.brake_data\n",
    "        \n",
    "        velocity = plotting.trial_collection(new_active_site, \n",
    "                                                        torque_data, \n",
    "                                                        mouse, \n",
    "                                                        session, \n",
    "                                                        aligned='end_epoch',\n",
    "                                                        window=[-2,2],  \n",
    "                                                        taken_col=['Torque'])\n",
    "        \n",
    "        velocity['align'] = 'onset'\n",
    "        velocity['experiment'] = experiment\n",
    "        velocity['rig_name'] = rig_name\n",
    "        \n",
    "        \n",
    "        if velocity.empty:\n",
    "            print('No data for this mouse')\n",
    "            continue\n",
    "        \n",
    "        torque_readings_temp = velocity.loc[(velocity.times >= 0) & (velocity.times <= 1)].groupby('experiment').Torque.mean().reset_index()\n",
    "        torque_readings_temp['ON'] = 0\n",
    "        torque_readings_temp['rig'] = rig_name\n",
    "        torque_readings_temp['Brake'] = 0\n",
    "        torque_readings_temp['mouse'] = mouse\n",
    "        torque_readings_temp['friction_schema'] = friction_input\n",
    "        torque_readings = pd.concat([torque_readings, torque_readings_temp])\n",
    "\n",
    "        torque_readings_temp = velocity.loc[(velocity.times >= -1) & (velocity.times <0)].groupby('experiment').Torque.mean().reset_index()\n",
    "        torque_readings_temp['ON'] = 1\n",
    "        torque_readings_temp['rig'] = rig_name\n",
    "        torque_readings_temp['Brake'] = np.where(torque_readings_temp['ON'] == 1, brake_data.BrakeCurrentSetPoint.max(), 0)\n",
    "        torque_readings_temp['mouse'] = mouse\n",
    "        torque_readings_temp['friction_schema'] = friction_input\n",
    "        torque_readings = pd.concat([torque_readings, torque_readings_temp])"
   ]
  },
  {
   "cell_type": "code",
   "execution_count": null,
   "metadata": {},
   "outputs": [],
   "source": [
    "torque_readings.to_csv(data_path + 'torque_readings.csv', index=False)"
   ]
  },
  {
   "cell_type": "markdown",
   "metadata": {},
   "source": [
    "## Recover the calibration"
   ]
  },
  {
   "cell_type": "code",
   "execution_count": null,
   "metadata": {},
   "outputs": [],
   "source": [
    "path = r'Z:\\scratch\\vr-foraging\\brake_calibratrion'"
   ]
  },
  {
   "cell_type": "code",
   "execution_count": null,
   "metadata": {},
   "outputs": [],
   "source": [
    "df_cum = pd.DataFrame()\n",
    "for calibrations in os.listdir(path):\n",
    "    df = pd.read_csv(os.path.join(path, calibrations), names=['input_torque', 'output_torque'])\n",
    "    df['wheel'] = calibrations\n",
    "    df_cum = pd.concat([df_cum, df], axis=0)"
   ]
  },
  {
   "cell_type": "code",
   "execution_count": null,
   "metadata": {},
   "outputs": [],
   "source": [
    "params_df = pd.DataFrame(columns=['wheel', 'a', 'b', 'c'])\n",
    "\n",
    "# Assuming df_cum is your DataFrame\n",
    "# Plot the original data\n",
    "sns.lineplot(data=df_cum, x='input_torque', y='output_torque', hue='wheel', palette='tab10')\n",
    "\n",
    "# Fit the model to each wheel's data and plot the fit\n",
    "for wheel, color in zip(df_cum['wheel'].unique(), sns.color_palette('tab10')):\n",
    "    wheel_data = df_cum[df_cum['wheel'] == wheel]\n",
    "    x_data = wheel_data['input_torque']\n",
    "    y_data = wheel_data['output_torque']\n",
    "    \n",
    "    # Fit the model\n",
    "    popt, _ = curve_fit(quadratic_model, x_data, y_data)\n",
    "    \n",
    "    # Generate x values for the fit line\n",
    "    x_fit = np.linspace(x_data.min(), x_data.max(), 100)\n",
    "    y_fit = quadratic_model(x_fit, *popt)\n",
    "    \n",
    "    # Plot the fit line\n",
    "    plt.plot(x_fit, y_fit, linestyle='--', color=color, alpha=0.6) \n",
    "    \n",
    "    # Add parameters to DataFrame\n",
    "    new_row = pd.DataFrame({\n",
    "        'wheel': [wheel],\n",
    "        'a': [popt[0]],\n",
    "        'b': [popt[1]],\n",
    "        'c': [popt[2]]\n",
    "    })\n",
    "    params_df = pd.concat([params_df, new_row], ignore_index=True)\n",
    "    \n",
    "    # y = torque_readings.loc[(torque_readings.ON == 1)&(torque_readings.rig == wheel)&(torque_readings.experiment == 'friction')].Torque.mean()\n",
    "    # x = torque_readings.loc[(torque_readings.ON == 1)&(torque_readings.rig == wheel)&(torque_readings.experiment == 'friction')].Brake.mean()\n",
    "    # plt.plot(x, y, marker='X', color=color)\n",
    "    \n",
    "    # y = torque_readings.loc[(torque_readings.ON == 0)&(torque_readings.rig == wheel)].Torque.mean()\n",
    "    # x = torque_readings.loc[(torque_readings.ON == 0)&(torque_readings.rig == wheel)].Brake.mean()\n",
    "    # plt.plot(x, y, marker='X', color=color)\n",
    "    \n",
    "    # y = torque_readings.loc[(torque_readings.ON == 1)&(torque_readings.rig == wheel)&(torque_readings.experiment == 'friction_15')].Torque.mean()\n",
    "    # x = torque_readings.loc[(torque_readings.ON == 1)&(torque_readings.rig == wheel)&(torque_readings.experiment == 'friction_15')].Brake.mean()\n",
    "    # plt.plot(x, y, marker='X', color=color)\n",
    "    \n",
    "# Add legend and labels\n",
    "plt.legend(bbox_to_anchor=(1.05, 1), loc='upper left', ncol = 1)\n",
    "plt.xlabel('Input Torque')\n",
    "plt.ylabel('Output Torque')\n",
    "plt.title('Input vs Output Torque with Fit Lines')\n",
    "sns.despine()\n",
    "plt.show()"
   ]
  },
  {
   "cell_type": "code",
   "execution_count": null,
   "metadata": {},
   "outputs": [],
   "source": [
    "params_df.to_csv(data_path + 'torque_calibration.csv', index=False)"
   ]
  },
  {
   "cell_type": "markdown",
   "metadata": {},
   "source": [
    "## Use the calibration and the torque readings to extract friction (reality and schema)"
   ]
  },
  {
   "cell_type": "code",
   "execution_count": null,
   "metadata": {},
   "outputs": [],
   "source": [
    "# torque_readings['torque_on'] = torque_readings.Torque.shift(-1)\n",
    "collapsed = torque_readings.groupby(['experiment','rig', 'ON', 'friction_schema']).Torque.mean().reset_index()\n",
    "collapsed['diff'] = abs(collapsed.Torque.shift(-1) - collapsed.Torque)\n",
    "collapsed['fraction'] = (collapsed['diff'] / collapsed.Torque)*100\n",
    "collapsed = collapsed.loc[collapsed.ON == 0]\n",
    "collapsed['friction_schema'] = collapsed['friction_schema']*100"
   ]
  },
  {
   "cell_type": "code",
   "execution_count": null,
   "metadata": {},
   "outputs": [],
   "source": [
    "# What was the friction applied if we have the friction of the schema? (We have the friction in the schema, we want the reality)\n",
    "for i, row in collapsed.iterrows():\n",
    "    wheel = row['rig']\n",
    "    resolved_torque = quadratic_model(65535 * (row['friction_schema']/100), params_df.loc[params_df.wheel == wheel].a.values[0], params_df.loc[params_df.wheel == wheel].b.values[0], params_df.loc[params_df.wheel == wheel].c.values[0])    \n",
    "    actual_friction = (params_df.loc[params_df.wheel == wheel].c.values[0] - resolved_torque)/params_df.loc[params_df.wheel == wheel].c.values[0]    \n",
    "    collapsed.loc[i, 'actual_friction'] = actual_friction*100\n",
    "    collapsed.loc[i, 'resolved_torque'] = resolved_torque"
   ]
  },
  {
   "cell_type": "code",
   "execution_count": null,
   "metadata": {},
   "outputs": [],
   "source": [
    "## How much does each wheel friction need to be in the schema to have a certain percentage of friction in reality (we have the friction in reality, we want the friction in the schema)\n",
    "target_friction = 0.1\n",
    "for wheel in ['4A', '4B', '4C', '4D', '5A', '5B', 'sp']:\n",
    "    y = params_df.loc[params_df.wheel == wheel].c.values[0] - params_df.loc[params_df.wheel == wheel].c.values[0] * target_friction\n",
    "    brake = solve_quadratic(y, params_df.loc[params_df.wheel == wheel].a.values[0], params_df.loc[params_df.wheel == wheel].b.values[0], params_df.loc[params_df.wheel == wheel].c.values[0])\n",
    "    print(wheel, \"the value for the friction needs to be: \", brake[1] / 65535)"
   ]
  }
 ],
 "metadata": {
  "kernelspec": {
   "display_name": ".venv",
   "language": "python",
   "name": "python3"
  },
  "language_info": {
   "codemirror_mode": {
    "name": "ipython",
    "version": 3
   },
   "file_extension": ".py",
   "mimetype": "text/x-python",
   "name": "python",
   "nbconvert_exporter": "python",
   "pygments_lexer": "ipython3",
   "version": "3.11.9"
  }
 },
 "nbformat": 4,
 "nbformat_minor": 2
}
