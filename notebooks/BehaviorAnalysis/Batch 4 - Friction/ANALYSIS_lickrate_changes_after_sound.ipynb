{
 "cells": [
  {
   "cell_type": "code",
   "execution_count": null,
   "id": "29b89598",
   "metadata": {},
   "outputs": [],
   "source": [
    "# IPython magig  tools\n",
    "%load_ext autoreload\n",
    "%autoreload 2\n",
    "\n",
    "import os\n",
    "from pathlib import Path\n",
    "\n",
    "from aind_vr_foraging_analysis.utils.parsing import data_access\n",
    "import aind_vr_foraging_analysis.utils.plotting as plotting\n",
    "\n",
    "# Plotting libraries\n",
    "import matplotlib.pyplot as plt\n",
    "from matplotlib.patches import Patch\n",
    "from matplotlib.lines import Line2D\n",
    "\n",
    "import seaborn as sns\n",
    "import pandas as pd\n",
    "import numpy as np\n",
    "\n",
    "sns.set_context('talk')\n",
    "\n",
    "import warnings\n",
    "pd.options.mode.chained_assignment = None  # Ignore SettingWithCopyWarning\n",
    "warnings.simplefilter(action='ignore', category=FutureWarning)\n",
    "warnings.simplefilter(\"ignore\", UserWarning)\n",
    "warnings.filterwarnings(\"ignore\", category=RuntimeWarning)\n",
    "\n",
    "color1='#d95f02'\n",
    "color2='#1b9e77'\n",
    "color3='#7570b3'\n",
    "color4='yellow'\n",
    "odor_list_color = [color1, color2, color3, color4]\n",
    "\n",
    "pdf_path = r'Z:\\scratch\\vr-foraging\\sessions'\n",
    "figures = r'C:\\Users\\tiffany.ona\\OneDrive - Allen Institute\\Documents\\VR foraging\\experiments\\batch 5 - learning\\results'\n",
    "\n",
    "from scipy.optimize import curve_fit\n"
   ]
  },
  {
   "cell_type": "code",
   "execution_count": null,
   "id": "7453dcd7",
   "metadata": {},
   "outputs": [],
   "source": [
    "date_string = \"2025-4-18\"\n",
    "mouse = '789914'\n",
    "\n",
    "session_paths = data_access.find_sessions_relative_to_date(\n",
    "    mouse=mouse,\n",
    "    date_string=date_string,\n",
    "    when='on'\n",
    ")\n",
    "\n",
    "for session_path in session_paths:\n",
    "    try:\n",
    "        all_epochs, stream_data, data = data_access.load_session(\n",
    "            session_path\n",
    "        )\n",
    "        reward_sites = all_epochs.loc[all_epochs['label'] == 'OdorSite']\n",
    "    except Exception as e:\n",
    "        print(f\"Error loading {session_path.name}: {e}\")"
   ]
  },
  {
   "cell_type": "code",
   "execution_count": null,
   "id": "2a912959",
   "metadata": {},
   "outputs": [],
   "source": [
    "lick_onsets  = stream_data.lick_onset\n",
    "lick_onset_start = lick_onsets.index[0]\n",
    "lick_onset_end = lick_onsets.index[-1]\n",
    "# Parameters\n",
    "window_size = 0.25  # seconds\n",
    "step_size = 0.05   # resolution of the output\n",
    "time_bins = np.arange(lick_onset_start, lick_onset_end, step_size)\n",
    "\n",
    "# Compute lick rate in sliding windows\n",
    "lick_rate = []\n",
    "for t in time_bins:\n",
    "    count = np.sum((lick_onsets.index >= t) & (lick_onsets.index < t + window_size))\n",
    "    print(count)\n",
    "    rate = count / window_size\n",
    "    lick_rate.append(rate)"
   ]
  },
  {
   "cell_type": "code",
   "execution_count": null,
   "id": "ab9bdd7f",
   "metadata": {},
   "outputs": [],
   "source": [
    "odor_sites = all_epochs.loc[all_epochs['label'] == 'OdorSite']\n",
    "\n",
    "trial_summary = plotting.trial_collection(odor_sites[['label', 'site_number', 'patch_number',  'patch_label', 'odor_sites', 'is_choice']], stream_data.encoder_data, aligned='choice_cue_time', window = window)"
   ]
  },
  {
   "cell_type": "code",
   "execution_count": null,
   "id": "9217639b",
   "metadata": {},
   "outputs": [],
   "source": [
    "stream_data.lick_onset"
   ]
  }
 ],
 "metadata": {
  "kernelspec": {
   "display_name": ".venv",
   "language": "python",
   "name": "python3"
  },
  "language_info": {
   "codemirror_mode": {
    "name": "ipython",
    "version": 3
   },
   "file_extension": ".py",
   "mimetype": "text/x-python",
   "name": "python",
   "nbconvert_exporter": "python",
   "pygments_lexer": "ipython3",
   "version": "3.12.7"
  }
 },
 "nbformat": 4,
 "nbformat_minor": 5
}
