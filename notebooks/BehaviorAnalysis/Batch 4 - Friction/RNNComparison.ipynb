{
 "cells": [
  {
   "cell_type": "code",
   "execution_count": null,
   "metadata": {},
   "outputs": [],
   "source": [
    "# IPython magic tools\n",
    "%load_ext autoreload\n",
    "%autoreload 2\n",
    "\n",
    "import os\n",
    "\n",
    "# Plotting and data managing libraries\n",
    "import matplotlib.pyplot as plt\n",
    "from matplotlib.backends.backend_pdf import PdfPages\n",
    "import matplotlib.patches as mpatches\n",
    "import seaborn as sns\n",
    "import pandas as pd\n",
    "import numpy as np\n",
    "sns.set_context('talk')\n",
    "\n",
    "import warnings\n",
    "pd.options.mode.chained_assignment = None  # Ignore SettingWithCopyWarning\n",
    "warnings.simplefilter(action='ignore', category=FutureWarning)\n",
    "warnings.simplefilter(\"ignore\", UserWarning)\n",
    "warnings.filterwarnings(\"ignore\", category=RuntimeWarning)\n",
    "\n",
    "pdf_path = r'Z:\\scratch\\vr-foraging\\sessions'\n",
    "base_path = r'Z:\\scratch\\vr-foraging\\data'\n",
    "data_path = r'../../../data/'\n",
    "results_path = r'C:\\Users\\tiffany.ona\\OneDrive - Allen Institute\\Documents\\VR foraging\\experiments\\batch 4 - manipulating cost of travelling and global statistics\\results'\n",
    "\n",
    "# Modelling libraries\n",
    "from sklearn.linear_model import LogisticRegression\n",
    "from sklearn.preprocessing import StandardScaler, PolynomialFeatures\n",
    "from sklearn.model_selection import cross_val_score, GridSearchCV, StratifiedKFold\n",
    "from sklearn.pipeline import Pipeline\n",
    "from sklearn.metrics import confusion_matrix, roc_curve, auc\n",
    "from sklearn.feature_selection import RFE, RFECV\n",
    "\n",
    "# Statistical tools\n",
    "from scipy.stats import ttest_1samp"
   ]
  },
  {
   "cell_type": "code",
   "execution_count": null,
   "metadata": {},
   "outputs": [],
   "source": [
    "def load(filename= 'batch_4.csv', interpatch_name = 'PostPatch'):\n",
    "    # if filename == 'batch_4.csv':\n",
    "    #     experiment_list = ['data_collection', 'friction', 'control', 'distance_long', 'distance_short', 'friction_low','friction_med', 'friction_high', 'distance_extra_long', 'distance_extra_short']\n",
    "    # else:\n",
    "    #     experiment_list = ['base', 'experiment1', 'experiment2']\n",
    "        \n",
    "    print('Loading')\n",
    "    summary_df = pd.read_csv(os.path.join(data_path, filename), index_col=0)\n",
    "\n",
    "    summary_df = summary_df[(summary_df['mouse'] != 754573)&(summary_df['mouse'] != 754572)]\n",
    "\n",
    "    # summary_df = summary_df.loc[summary_df.experiment.isin(experiment_list)]\n",
    "    \n",
    "    summary_df['END'] = summary_df.index.to_series().shift(-1)\n",
    "    summary_df['START'] =  summary_df.index\n",
    "    summary_df['duration_epoch'] = summary_df['END'] - summary_df['START']\n",
    "\n",
    "    # Fill in missing values in patch_number\n",
    "    summary_df['active_real'] = summary_df['patch_number'].shift(-1)\n",
    "    summary_df['patch_number'] = np.where(summary_df['label'] == 'PostPatch', summary_df['active_real'], summary_df['patch_number'])\n",
    "    \n",
    "    ## Add interpatch time and distance as new columns\n",
    "    df = summary_df.loc[summary_df.label == interpatch_name].groupby(['mouse','session', 'patch_number'], as_index=False).agg({'length': 'mean', 'duration_epoch': 'first'})\n",
    "    df.rename(columns={'length':'interpatch_length', 'duration_epoch': 'interpatch_time'}, inplace=True)\n",
    "    summary_df = summary_df.merge(df, on=['mouse','session', 'patch_number'], how='left')\n",
    "\n",
    "    summary_df = summary_df.loc[(summary_df.label == 'OdorSite')]\n",
    "    # summary_df = summary_df.loc[(summary_df['odor_label'] != 'Amyl Acetate')]\n",
    "    summary_df = summary_df.loc[(summary_df['patch_number'] <= 20)|(summary_df['engaged'] ==True)]\n",
    "\n",
    "    return  summary_df"
   ]
  },
  {
   "cell_type": "code",
   "execution_count": null,
   "metadata": {},
   "outputs": [],
   "source": [
    "summary_df = load()\n",
    "summary_df = summary_df.loc[summary_df['odor_label'] != 'Amyl Acetate']"
   ]
  },
  {
   "cell_type": "code",
   "execution_count": null,
   "metadata": {},
   "outputs": [],
   "source": [
    "summary_df = summary_df.loc[((summary_df.site_number == 0)&(summary_df.is_choice == 1))|(summary_df.site_number != 0)]"
   ]
  },
  {
   "cell_type": "code",
   "execution_count": null,
   "metadata": {},
   "outputs": [],
   "source": [
    "## Remove low number patches\n",
    "\n",
    "fig, axes = plt.subplots(4, 4, figsize=(24, 20))\n",
    "add_df= pd.DataFrame()\n",
    "for mouse, ax in zip(summary_df.mouse.unique(), axes.flatten()):\n",
    "    print(mouse)\n",
    "    df = summary_df.loc[((summary_df.experiment == 'stageC_v1')|(summary_df.experiment == 'data_collection'))&(summary_df.mouse == mouse)].groupby(['session_n','odor_label','cumulative_rewards']).agg({'is_choice':'mean', 'patch_number': 'nunique'}).reset_index()\n",
    "    if df.empty:\n",
    "        continue\n",
    "    df['interval'] = pd.cut(df['session_n'], bins=3, labels=['early', 'middle', 'late'])\n",
    "    df = df.loc[df.patch_number > 5]\n",
    "    sns.lineplot(data=df.loc[df.odor_label == 'Alpha-pinene'], x='cumulative_rewards', y='is_choice', hue='interval', palette='Greens', ax=ax, errorbar=None)\n",
    "    sns.lineplot(data=df.loc[df.odor_label == 'Methyl Butyrate'], x='cumulative_rewards', y='is_choice', hue='interval', palette='Oranges', ax=ax, errorbar=None)\n",
    "    ax.set_ylim(0, 1)\n",
    "    ax.set_xlim(0, 30)\n",
    "    ax.set_title(mouse)\n",
    "    df['mouse'] = mouse\n",
    "    add_df = pd.concat([df, add_df])\n",
    "sns.despine()\n",
    "plt.tight_layout()\n",
    "\n",
    "# Manually create the legend\n",
    "plt.show()"
   ]
  },
  {
   "cell_type": "code",
   "execution_count": null,
   "metadata": {},
   "outputs": [],
   "source": [
    "fig, axes = plt.subplots(1, 3, figsize=(16, 5))\n",
    "sum_df = add_df.groupby(['mouse','odor_label','cumulative_rewards','interval']).agg({'is_choice':'mean', 'patch_number':'sum'}).reset_index()\n",
    "for ax, interval in zip(axes.flatten(), ['early', 'middle', 'late']):\n",
    "    sns.lineplot(data=sum_df.loc[(sum_df.odor_label == 'Alpha-pinene')&(sum_df.interval == interval)], x='cumulative_rewards', y='is_choice', hue='interval', palette='Greens', ax=ax)\n",
    "    sns.lineplot(data=sum_df.loc[(sum_df.odor_label == 'Methyl Butyrate')&(sum_df.interval == interval)], x='cumulative_rewards', y='is_choice', hue='interval', palette='Oranges', ax=ax)\n",
    "    ax.set_ylim(0, 1)\n",
    "    ax.set_xlim(0, 30)\n",
    "    sns.despine()\n",
    "plt.tight_layout()\n",
    "# Manually create the legend\n",
    "plt.show()\n"
   ]
  },
  {
   "cell_type": "code",
   "execution_count": null,
   "metadata": {},
   "outputs": [],
   "source": [
    "color1='#d95f02'\n",
    "color2='#1b9e77'\n",
    "color3='#7570b3'\n",
    "color4='yellow'\n",
    "\n",
    "fig, axes = plt.subplots(4, 4, figsize=(24, 20))\n",
    "for mouse, ax in zip(summary_df.mouse.unique(), axes.flatten()):\n",
    "    print(mouse)\n",
    "    df = summary_df.loc[((summary_df.experiment == 'control'))&(summary_df.mouse == mouse)].groupby(['session_n','odor_label','cumulative_rewards']).agg({'is_choice':'mean', 'patch_number': 'nunique'}).reset_index()\n",
    "    if df.empty:\n",
    "        continue\n",
    "    df['interval'] = pd.cut(df['session_n'], bins=3, labels=['early', 'middle', 'late'])\n",
    "    df = df.loc[df.patch_number > 3]\n",
    "    sns.lineplot(data=df.loc[df.odor_label == 'Alpha-pinene'], x='cumulative_rewards', y='is_choice',  palette=color2, ax=ax)\n",
    "    sns.lineplot(data=df.loc[df.odor_label == 'Methyl Butyrate'], x='cumulative_rewards', y='is_choice', palette=color1, ax=ax)\n",
    "    ax.set_ylim(0, 1)\n",
    "    ax.set_xlim(0, 30)\n",
    "    ax.set_title(mouse)\n",
    "sns.despine()\n",
    "plt.tight_layout()\n",
    "# Manually create the legend\n",
    "plt.show()\n"
   ]
  }
 ],
 "metadata": {
  "kernelspec": {
   "display_name": ".venv",
   "language": "python",
   "name": "python3"
  },
  "language_info": {
   "codemirror_mode": {
    "name": "ipython",
    "version": 3
   },
   "file_extension": ".py",
   "mimetype": "text/x-python",
   "name": "python",
   "nbconvert_exporter": "python",
   "pygments_lexer": "ipython3",
   "version": "3.11.9"
  }
 },
 "nbformat": 4,
 "nbformat_minor": 2
}
