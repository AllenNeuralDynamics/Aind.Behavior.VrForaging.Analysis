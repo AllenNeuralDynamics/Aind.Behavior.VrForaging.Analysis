{
 "cells": [
  {
   "cell_type": "code",
   "execution_count": 1,
   "metadata": {},
   "outputs": [],
   "source": [
    "# IPython magig  tools\n",
    "%load_ext autoreload\n",
    "%autoreload 2\n",
    "\n",
    "import os\n",
    "from pathlib import Path\n",
    "\n",
    "from aind_vr_foraging_analysis.utils import parse, processing, plotting_utils as plotting, AddExtraColumns\n",
    "from aind_vr_foraging_analysis.utils import breathing_signal as breathing\n",
    "\n",
    "# Plotting libraries\n",
    "import matplotlib.pyplot as plt\n",
    "\n",
    "\n",
    "import seaborn as sns\n",
    "import pandas as pd\n",
    "import numpy as np\n",
    "import datetime\n",
    "\n",
    "sns.set_context('talk')\n",
    "\n",
    "import warnings\n",
    "pd.options.mode.chained_assignment = None  # Ignore SettingWithCopyWarning\n",
    "warnings.simplefilter(action='ignore', category=FutureWarning)\n",
    "warnings.simplefilter(\"ignore\", UserWarning)\n",
    "warnings.filterwarnings(\"ignore\", category=RuntimeWarning)\n",
    "\n",
    "color1='#d95f02'\n",
    "color2='#1b9e77'\n",
    "color3='#7570b3'\n",
    "color4='yellow'\n",
    "odor_list_color = [color1, color2, color3, color4]\n",
    "\n",
    "pdf_path = r'Z:\\scratch\\vr-foraging\\sessions'\n",
    "base_path = 'Z:/scratch/vr-foraging/data/'\n",
    "foraging_figures = r'C:\\Users\\tiffany.ona\\OneDrive - Allen Institute\\Documents'\n",
    "\n",
    "from scipy.optimize import curve_fit\n"
   ]
  },
  {
   "cell_type": "code",
   "execution_count": 15,
   "metadata": {},
   "outputs": [],
   "source": [
    "# Day with the old and working cable\n",
    "\n",
    "date = datetime.date.today()\n",
    "date_string = \"1/24/2025\"\n",
    "date = datetime.datetime.strptime(date_string, \"%m/%d/%Y\").date()\n",
    "mouse = '768372'\n",
    "\n",
    "# # Day with the new cable\n",
    "# date = datetime.date.today()\n",
    "# date_string = \"10/27/2024\"\n",
    "# date = datetime.datetime.strptime(date_string, \"%m/%d/%Y\").date()\n",
    "# mouse = '754575'"
   ]
  },
  {
   "cell_type": "code",
   "execution_count": null,
   "metadata": {},
   "outputs": [],
   "source": [
    "session_found = False\n",
    "session_n = 0\n",
    "directory = os.path.join(base_path, mouse)\n",
    "files = os.listdir(os.path.join(base_path, mouse))\n",
    "\n",
    "sorted_files = sorted(files, key=lambda x: os.path.getctime(os.path.join(directory, x)), reverse=True)\n",
    "\n",
    "# All this segment is to find the correct session without having the specific path\n",
    "for file_name in sorted_files:\n",
    "    \n",
    "    if session_found == True:\n",
    "        break\n",
    "    \n",
    "    print(file_name)\n",
    "    # Find specific session sorted by date\n",
    "    session = file_name[-15:-7]\n",
    "    if datetime.datetime.strptime(session, \"%Y%m%d\").date() != date:\n",
    "        continue\n",
    "    else:\n",
    "        print('correct date found')\n",
    "        session_found = True\n",
    "        \n",
    "    # Recover data streams\n",
    "    session_path = os.path.join(base_path, mouse, file_name)\n",
    "    session_path = Path(session_path)\n",
    "    data = parse.load_session_data(session_path)\n",
    "    # Load the encoder data separately\n",
    "    stream_data = parse.ContinuousData(data)"
   ]
  },
  {
   "cell_type": "code",
   "execution_count": 17,
   "metadata": {},
   "outputs": [],
   "source": [
    "signal = stream_data.breathing.data.values\n",
    "zero_index = stream_data.breathing.index[0]\n",
    "\n",
    "# Define filter parameters\n",
    "cutoff_freq = 1  # cutoff frequency in Hz\n",
    "fs = 250  # sampling frequency in Hz\n",
    "\n",
    "# Apply high-pass filter\n",
    "filtered_breathing = breathing.highpass_filter(signal, cutoff_freq, fs)\n",
    "\n",
    "cutoff_freq = 40  # cutoff frequency in Hz\n",
    "filtered_breathing = breathing.lowpass_filter(filtered_breathing, cutoff_freq, fs)"
   ]
  },
  {
   "cell_type": "markdown",
   "metadata": {},
   "source": [
    "## Signals with bandpass filter (1-40Hz)"
   ]
  },
  {
   "cell_type": "code",
   "execution_count": null,
   "metadata": {},
   "outputs": [],
   "source": [
    "fig, axs = plt.subplots(2,2, figsize=(15,8), sharey=True)\n",
    "plt.suptitle(f'{mouse}')\n",
    "\n",
    "i=0\n",
    "for ax in axs.flatten():\n",
    "    ax.plot(stream_data.breathing.index-zero_index, filtered_breathing, color= 'black')\n",
    "\n",
    "    ax.set_ylim(-200, 200)\n",
    "    ax.set_xlim(0+i, 5+i)\n",
    "    ax.set_ylabel('Breathing (a.u.)')\n",
    "    ax.set_xlabel('Time (s)')\n",
    "    i+=10\n",
    "\n",
    "sns.despine()\n",
    "plt.tight_layout()\n",
    "fig.savefig(os.path.join(foraging_figures, f'{mouse}_thermistor_screening.png'), bbox_inches='tight')"
   ]
  },
  {
   "cell_type": "markdown",
   "metadata": {},
   "source": [
    "## Using a running average and subtracting the signals"
   ]
  },
  {
   "cell_type": "code",
   "execution_count": null,
   "metadata": {},
   "outputs": [],
   "source": [
    "window_size=30\n",
    "slow_ther = breathing.moving_average(filtered_breathing, window_size=window_size)\n",
    "new_ther = filtered_breathing-slow_ther\n",
    "\n",
    "fig, axs = plt.subplots(2,2, figsize=(15,8), sharey=True)\n",
    "plt.suptitle(f'{mouse}')\n",
    "\n",
    "i=0\n",
    "for ax in axs.flatten():\n",
    "    ax.plot(stream_data.breathing.index-zero_index, new_ther, color= 'black')\n",
    "    # ax.plot(stream_data.breathing.index-zero_index, slow_ther, color= 'blue')\n",
    "    ax.set_ylim(-100, 100)\n",
    "    ax.set_xlim(0+i, 5+i)\n",
    "    ax.set_ylabel('Breathing (a.u.)')\n",
    "    ax.set_xlabel('Time (s)')\n",
    "    i+=10\n",
    "\n",
    "sns.despine()\n",
    "plt.tight_layout()\n",
    "fig.savefig(os.path.join(foraging_figures, f'{mouse}_thermistor_screening_with_moving_average.png'), bbox_inches='tight')\n"
   ]
  }
 ],
 "metadata": {
  "kernelspec": {
   "display_name": ".venv",
   "language": "python",
   "name": "python3"
  },
  "language_info": {
   "codemirror_mode": {
    "name": "ipython",
    "version": 3
   },
   "file_extension": ".py",
   "mimetype": "text/x-python",
   "name": "python",
   "nbconvert_exporter": "python",
   "pygments_lexer": "ipython3",
   "version": "3.11.9"
  }
 },
 "nbformat": 4,
 "nbformat_minor": 2
}
