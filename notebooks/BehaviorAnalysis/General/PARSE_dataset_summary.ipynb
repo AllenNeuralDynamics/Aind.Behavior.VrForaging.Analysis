{
 "cells": [
  {
   "cell_type": "code",
   "execution_count": null,
   "metadata": {},
   "outputs": [],
   "source": [
    "# IPython magig  tools\n",
    "%load_ext autoreload\n",
    "%autoreload 2\n",
    "\n",
    "from aind_vr_foraging_analysis.utils.parsing import data_access\n",
    "import aind_vr_foraging_analysis.data_io as data_io\n",
    "import os\n",
    "import json\n",
    "\n",
    "# Plotting libraries\n",
    "import pandas as pd\n",
    "import warnings\n",
    "pd.options.mode.chained_assignment = None  # Ignore SettingWithCopyWarning\n",
    "warnings.simplefilter(action='ignore', category=FutureWarning)\n",
    "warnings.simplefilter(\"ignore\", UserWarning)\n",
    "warnings.filterwarnings(\"ignore\", category=RuntimeWarning)\n",
    "\n",
    "\n",
    "foraging_figures = r'C:\\Users\\tiffany.ona\\OneDrive - Allen Institute\\Documents'"
   ]
  },
  {
   "cell_type": "markdown",
   "metadata": {},
   "source": [
    "# **One session exploration**"
   ]
  },
  {
   "cell_type": "code",
   "execution_count": null,
   "metadata": {},
   "outputs": [],
   "source": [
    "date_string = \"2024-4-1\"\n",
    "mouse_list = ['754570','754579','754567','754580','754559','754560','754577',\n",
    "              '754566','754571','754572','754573','754574','754575', \n",
    "              '754582','745302','745305','745301',\n",
    "              \n",
    "              \"715866\", \"713578\", \"707349\", \"716455\", \n",
    "              \"716458\",\"715865\",\"715869\",\"713545\",\"715867\",\n",
    "              \"715870\",\"694569\", \n",
    "              \n",
    "              '754574', '789914', '789915', '789923', '789917', \n",
    "               '789913', '789909', '789910', '789911', '789921', \n",
    "               '789918', '789919', '789907', '789903', '789925', \n",
    "               '789924', '789926', '789908']\n",
    "\n",
    "experiment_list = { 1: 'pilot',\n",
    "                    2 : 'volume_manipulation',\n",
    "                   3: 'global_reward_rate_patches', \n",
    "                   4: 'global_reward_rate_distance_friction',\n",
    "                   5 : 'learning_reversals'}"
   ]
  },
  {
   "cell_type": "code",
   "execution_count": null,
   "metadata": {},
   "outputs": [],
   "source": [
    "def parse_summary_session(session_path):\n",
    "    df = {}\n",
    "    data = {}\n",
    "    # Work around the change in the folder structure\n",
    "    if \"behavior\" in os.listdir(session_path):\n",
    "        session_path_behavior = session_path / \"behavior\"\n",
    "    else:\n",
    "        session_path_behavior = session_path\n",
    "        \n",
    "    if \"other\" in os.listdir(session_path):\n",
    "        session_path_config = session_path / \"other\"\n",
    "    else:\n",
    "        session_path_config = session_path\n",
    "        \n",
    "        # Load config old version\n",
    "    if \"config.json\" in os.listdir(session_path_config):\n",
    "        with open(str(session_path_config) + r\"\\config.json\", \"r\") as json_file:\n",
    "            data[\"config\"] = json.load(json_file)\n",
    "    elif \"Logs\" in os.listdir(session_path_behavior):\n",
    "        data[\"config\"] = data_io.ConfigSource(path=session_path_behavior / \"Logs\", name=\"config\", autoload=True)\n",
    "        \n",
    "    rig = data['config'].streams.rig_input.data\n",
    "    task_logic = data['config'].streams.tasklogic_input.data\n",
    "    \n",
    "    df['rig'] = rig['rig_name']\n",
    "    try:\n",
    "        df['stage'] = task_logic['stage_name']\n",
    "    except:\n",
    "        df['stage'] = 'no_stage'\n",
    "    df['VAST'] = str(session_path)[10:]\n",
    "    df['s3'] = str(session_path)[27:]\n",
    "    return df"
   ]
  },
  {
   "cell_type": "code",
   "execution_count": null,
   "metadata": {},
   "outputs": [],
   "source": [
    "df = pd.DataFrame(columns=['mouse', 'rig', 'stage', 'VAST', 's3'])\n",
    "for mouse in mouse_list:\n",
    "    print(f\"Loading {mouse}...\")\n",
    "    session_paths = data_access.find_sessions_relative_to_date(\n",
    "        mouse=mouse,\n",
    "        date_string=date_string,\n",
    "        when='on_or_after',\n",
    "    )\n",
    "\n",
    "    for session_path in session_paths:\n",
    "        try:\n",
    "            new_row = parse_summary_session(session_path)\n",
    "            if int(mouse) > 760000:\n",
    "                batch = 5\n",
    "            elif  int(mouse) < 760000 and int(mouse) > 740000 :\n",
    "                batch = 4\n",
    "            elif int(mouse) < 740000 and int(mouse) > 700000:\n",
    "                batch = 3\n",
    "            elif int(mouse) < 700000 and int(mouse) > 690000:\n",
    "                batch = 2\n",
    "            else:\n",
    "                batch = 1\n",
    "                \n",
    "            new_row['experiment'] = experiment_list[batch]\n",
    "            new_row['batch'] = batch\n",
    "            new_row['mouse'] = mouse\n",
    "            df = pd.concat([df, pd.DataFrame([new_row])], ignore_index=True)\n",
    "        except Exception as e:\n",
    "            print(f\"Error loading {session_path.name}: {e}\")"
   ]
  },
  {
   "cell_type": "code",
   "execution_count": null,
   "metadata": {},
   "outputs": [],
   "source": [
    "data_path = r'../../../data/'\n",
    "df.to_csv(os.path.join(data_path, \"summary_sessions.csv\"), index=False)"
   ]
  }
 ],
 "metadata": {
  "kernelspec": {
   "display_name": ".venv",
   "language": "python",
   "name": "python3"
  },
  "language_info": {
   "codemirror_mode": {
    "name": "ipython",
    "version": 3
   },
   "file_extension": ".py",
   "mimetype": "text/x-python",
   "name": "python",
   "nbconvert_exporter": "python",
   "pygments_lexer": "ipython3",
   "version": "3.12.7"
  }
 },
 "nbformat": 4,
 "nbformat_minor": 2
}
