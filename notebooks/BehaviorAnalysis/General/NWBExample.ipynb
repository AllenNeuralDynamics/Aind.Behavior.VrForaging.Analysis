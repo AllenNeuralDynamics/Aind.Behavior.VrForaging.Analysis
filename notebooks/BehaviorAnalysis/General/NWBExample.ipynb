{
 "cells": [
  {
   "cell_type": "code",
   "execution_count": null,
   "metadata": {},
   "outputs": [],
   "source": [
    "# IPython magig  tools\n",
    "%load_ext autoreload\n",
    "%autoreload 2\n",
    "\n",
    "from pathlib import Path\n",
    "from aind_vr_foraging_analysis.utils import parse"
   ]
  },
  {
   "cell_type": "code",
   "execution_count": null,
   "metadata": {},
   "outputs": [],
   "source": [
    "# # This section is to find the correct session without having the specific path\n",
    "\n",
    "# date = datetime.date.today()\n",
    "# date_string = \"10/21/2024\"\n",
    "# date = datetime.datetime.strptime(date_string, \"%m/%d/%Y\").date()\n",
    "# mouse = '745302'\n",
    "\n",
    "# session_found = False\n",
    "# directory = os.path.join(base_path, mouse)\n",
    "# files = os.listdir(os.path.join(base_path, mouse))\n",
    "\n",
    "# sorted_files = sorted(files, key=lambda x: os.path.getctime(os.path.join(directory, x)), reverse=True)\n",
    "\n",
    "# # All this segment is to find the correct session without having the specific path\n",
    "# for file_name in sorted_files:\n",
    "    \n",
    "#     if session_found == True:\n",
    "#         break\n",
    "#     # Find specific session sorted by date\n",
    "#     session = file_name[-15:-7]\n",
    "#     if datetime.datetime.strptime(session, \"%Y%m%d\").date() != date:\n",
    "#         continue\n",
    "#     else:\n",
    "#         print(file_name)\n",
    "#         session_found = True\n",
    "        \n",
    "#     # Recover data streams\n",
    "#     session_path = os.path.join(base_path, mouse, file_name)\n",
    "#     session_path = Path(session_path)\n",
    "    \n",
    "# if session_found == False:\n",
    "#     print('Session not found')"
   ]
  },
  {
   "cell_type": "code",
   "execution_count": null,
   "metadata": {},
   "outputs": [],
   "source": [
    "session_path = Path(r'Z:/scratch/vr-foraging/data/745302/745302_20241021T113214') # Old data format version 0.3.0. This dataset can also be found in code ocean\n",
    "session_path = Path(r'Z:\\scratch\\vr-foraging\\data\\0123456789\\0123456789_2025-01-28T023311Z') # New data format version 0.4.0"
   ]
  },
  {
   "cell_type": "code",
   "execution_count": null,
   "metadata": {},
   "outputs": [],
   "source": [
    "# Load session data\n",
    "data = parse.load_session_data(session_path)\n",
    "\n",
    "if data['endsession'].data['data'] != 'ExperimentCompleted':\n",
    "    print('Session not completed')\n",
    "    \n",
    "# Parse data into a dataframe with the main features\n",
    "all_epochs = parse.parse_dataframe(data)\n",
    "\n",
    "# Load continuous data\n",
    "stream_data = parse.ContinuousData(data)"
   ]
  }
 ],
 "metadata": {
  "kernelspec": {
   "display_name": ".venv",
   "language": "python",
   "name": "python3"
  },
  "language_info": {
   "codemirror_mode": {
    "name": "ipython",
    "version": 3
   },
   "file_extension": ".py",
   "mimetype": "text/x-python",
   "name": "python",
   "nbconvert_exporter": "python",
   "pygments_lexer": "ipython3",
   "version": "3.12.7"
  }
 },
 "nbformat": 4,
 "nbformat_minor": 2
}
