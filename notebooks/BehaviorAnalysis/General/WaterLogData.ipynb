{
 "cells": [
  {
   "cell_type": "code",
   "execution_count": null,
   "metadata": {},
   "outputs": [],
   "source": [
    "import pandas as pd\n",
    "import seaborn as sns\n",
    "import matplotlib.pyplot as plt\n",
    "import json\n",
    "\n",
    "# Plot settings\n",
    "from matplotlib.ticker import MultipleLocator\n",
    "\n",
    "sns.set_context(\"talk\")\n",
    "# sns.set_palette(\"husl\")"
   ]
  },
  {
   "cell_type": "markdown",
   "metadata": {},
   "source": [
    "This code recovers both the waterlog information from the main waterlog app and the custom made one. Has information about the water collected and provided to each mouse daily and the weights. It's purpose if to observe general health related dynamics. "
   ]
  },
  {
   "cell_type": "code",
   "execution_count": null,
   "metadata": {},
   "outputs": [],
   "source": [
    "# Recover weights from water log custom UI\n",
    "path = r'Z:/scratch/vr-foraging/water_log/water_log_VR.csv'\n",
    "df = pd.read_csv(path, sep=\",\")"
   ]
  },
  {
   "cell_type": "code",
   "execution_count": null,
   "metadata": {},
   "outputs": [],
   "source": [
    "fig, ax = plt.subplots(2,1, figsize = (10,8), sharex=True, sharey=True)\n",
    "sns.lineplot(x='date', y='water_collected', data=df, color='black',  marker='o', legend=False, ax=ax[0], errorbar=('ci', 95))\n",
    "sns.lineplot(x='date', y='water_collected', data=df, hue='mouse_id', palette ='tab10', marker='o',  ax=ax[1], errorbar=('ci', 95))\n",
    "\n",
    "ax[1].set_xlabel('Date')\n",
    "ax[0].set_ylabel('Water collected (mL)')\n",
    "ax[1].set_ylabel('Water collected (mL)')\n",
    "\n",
    "ax[0].hlines(1, 4, len(df.date.unique()), colors='k', linestyles='dashed', linewidth=1)\n",
    "ax[1].hlines(1, 4, len(df.date.unique()), colors='k', linestyles='dashed', linewidth=1)\n",
    "\n",
    "ax[0].xaxis.set_major_locator(MultipleLocator(3))\n",
    "ax[0].yaxis.set_major_locator(MultipleLocator(1))\n",
    "ax[1].set_xticklabels(ax[1].get_xticklabels(), rotation=45, horizontalalignment='right')\n",
    "ax[0].set_title('Batch 2')\n",
    "plt.legend(ncol=3, fontsize=12)\n",
    "sns.despine()"
   ]
  },
  {
   "cell_type": "code",
   "execution_count": null,
   "metadata": {},
   "outputs": [],
   "source": [
    "fig, ax = plt.subplots(2,1, figsize = (10,8), sharex=True, sharey=True)\n",
    "sns.lineplot(x='date', y='weight', data=df, color='black',  marker='o', legend=False, ax=ax[0], errorbar=('ci', 95))\n",
    "sns.lineplot(x='date', y='weight', data=df, hue='mouse_id', palette ='tab10', marker='o',  ax=ax[1], errorbar=('ci', 95))\n",
    "\n",
    "ax[1].set_xlabel('Date')\n",
    "ax[0].set_ylabel('Weights')\n",
    "\n",
    "ax[0].hlines(1, 4, len(df.date.unique()), colors='k', linestyles='dashed', linewidth=1)\n",
    "ax[0].xaxis.set_major_locator(MultipleLocator(10))\n",
    "ax[0].yaxis.set_major_locator(MultipleLocator(4))\n",
    "ax[1].set_xticklabels(ax[1].get_xticklabels(), rotation=45, horizontalalignment='right')\n",
    "ax[0].set_ylim(18, 34)\n",
    "ax[0].set_title('Batch 2')\n",
    "plt.legend(ncol=3, fontsize=12)\n",
    "sns.despine()"
   ]
  },
  {
   "cell_type": "code",
   "execution_count": null,
   "metadata": {},
   "outputs": [],
   "source": [
    "fig, ax = plt.subplots(2,1, figsize = (12,8), sharex=True, sharey=True)\n",
    "sns.lineplot(x='date', y='water_collected', data=df, color='black', marker='o', legend=False, ax=ax[0], errorbar=('ci', 95))\n",
    "sns.lineplot(x='date', y='water_collected', data=df, hue='mouse_id', palette = 'tab10', marker='o', legend=False, ax=ax[1], errorbar=('ci', 95))\n",
    "\n",
    "ax[1].set_xlabel('Date')\n",
    "ax[0].set_ylabel('Water\\ncollected (mL)')\n",
    "ax[1].set_ylabel('Water\\ncollected (mL)')\n",
    "\n",
    "ax[0].hlines(1, 4, len(df.date.unique()), colors='k', linestyles='dashed', linewidth=1)\n",
    "ax[1].hlines(1, 4, len(df.date.unique()), colors='k', linestyles='dashed', linewidth=1)\n",
    "\n",
    "ax[1].set_xticklabels(ax[1].get_xticklabels(), rotation=45, horizontalalignment='right')\n",
    "ax[0].set_ylim(-0.2, 2.1)\n",
    "\n",
    "plt.tight_layout()\n",
    "sns.despine()"
   ]
  },
  {
   "cell_type": "code",
   "execution_count": null,
   "metadata": {},
   "outputs": [],
   "source": [
    "# Recover weights from water log UI\n",
    "baseline = []\n",
    "mouse_list = []\n",
    "for mouse in ['672102','672103','672104','672105','672106','672107']:\n",
    "    \n",
    "    # Specify the path to your JSON file\n",
    "    json_file_path = r'Z:\\\\scratch\\\\vr-foraging\\\\water_log\\\\lims_records\\\\info_' + mouse + '.json'\n",
    "\n",
    "    # Read JSON data from the file\n",
    "    with open(json_file_path, 'r') as json_file:\n",
    "        data = json.load(json_file)\n",
    "\n",
    "    for i in range(len(data)):\n",
    "        baseline.append(data[i]['baseline_weight_g'])\n",
    "        mouse_list.append(mouse)\n",
    "        \n",
    "df_summary = pd.DataFrame()\n",
    "df_summary['baseline'] = baseline\n",
    "df_summary['mouse'] = mouse_list"
   ]
  },
  {
   "cell_type": "code",
   "execution_count": null,
   "metadata": {},
   "outputs": [],
   "source": [
    "weight_list = []\n",
    "date_list = []\n",
    "mouse_list = []\n",
    "comment_list = []\n",
    "for mouse in ['672102','672103','672104','672105','672106','672107']:\n",
    "    \n",
    "    # Specify the path to your JSON file\n",
    "    json_file_path = r'Z:\\\\scratch\\\\vr-foraging\\\\water_log\\\\lims_records\\\\weights_' + mouse + '.json'\n",
    "\n",
    "    # Read JSON data from the file\n",
    "    with open(json_file_path, 'r') as json_file:\n",
    "        data = json.load(json_file)\n",
    "\n",
    "    for i in range(len(data)):\n",
    "        weight_list.append(data[i]['weight_g'])\n",
    "        date_list.append(data[i]['recorded_at'][:10])\n",
    "        mouse_list.append(mouse)\n",
    "        comment_list.append(json.loads(data[i]['notes'])['UserComment'])\n",
    "\n",
    "df = pd.DataFrame()\n",
    "df['weight'] = weight_list\n",
    "df['date'] = date_list\n",
    "df['mouse'] = mouse_list\n",
    "df['comment'] = comment_list"
   ]
  },
  {
   "cell_type": "code",
   "execution_count": null,
   "metadata": {},
   "outputs": [],
   "source": [
    "for mouse, in zip(['672102','672103','672104','672105','672106','672107']):\n",
    "    fig, ax = plt.subplots(1,1, figsize = (14,4), sharex=True, sharey=True)\n",
    "    sns.lineplot(x='date', y='weight', data=df.loc[df.mouse == mouse], color='black', marker='o', legend=False, ax=ax, errorbar=('ci', 95))\n",
    "\n",
    "    ax.set_xlabel('Date')\n",
    "    ax.set_ylabel('Weight')\n",
    "\n",
    "    ax.hlines(df_summary.loc[df_summary.mouse == mouse].baseline.values*0.8, 4, len(df.date.unique()), colors='k', linestyles='dashed', linewidth=1)\n",
    "    ax.xaxis.set_major_locator(MultipleLocator(15))\n",
    "    ax.yaxis.set_major_locator(MultipleLocator(3))\n",
    "    ax.set_ylim(18, 34)\n",
    "    ax.set_xlim(-1, 80)\n",
    "\n",
    "    plt.title(mouse)\n",
    "    sns.despine()\n",
    "    plt.show()"
   ]
  },
  {
   "cell_type": "code",
   "execution_count": null,
   "metadata": {},
   "outputs": [],
   "source": [
    "fig, ax = plt.subplots(2,1, figsize = (8,8), sharex=True, sharey=True)\n",
    "sns.lineplot(x='date', y='weight', data=df, color='black', marker='o', legend=False, ax=ax[0])\n",
    "sns.lineplot(x='date', y='weight', data=df, color='black', marker='o', hue='mouse', ax=ax[1])\n",
    "\n",
    "ax[1].set_xlabel('Date')\n",
    "ax[0].set_ylabel('Weight')\n",
    "\n",
    "ax[0].hlines(1, 4, len(df.date.unique()), colors='k', linestyles='dashed', linewidth=1)\n",
    "ax[0].xaxis.set_major_locator(MultipleLocator(10))\n",
    "ax[0].yaxis.set_major_locator(MultipleLocator(4))\n",
    "ax[1].set_xticklabels(ax[1].get_xticklabels(), rotation=45, horizontalalignment='right')\n",
    "ax[0].set_ylim(18, 34)\n",
    "ax[0].set_xlim(-1, 70)\n",
    "plt.legend(fontsize=12, ncol=3)\n",
    "ax[0].set_title('Batch 1')\n",
    "plt.tight_layout()\n",
    "sns.despine()"
   ]
  }
 ],
 "metadata": {
  "kernelspec": {
   "display_name": ".venv",
   "language": "python",
   "name": "python3"
  },
  "language_info": {
   "codemirror_mode": {
    "name": "ipython",
    "version": 3
   },
   "file_extension": ".py",
   "mimetype": "text/x-python",
   "name": "python",
   "nbconvert_exporter": "python",
   "pygments_lexer": "ipython3",
   "version": "3.11.5"
  }
 },
 "nbformat": 4,
 "nbformat_minor": 2
}
