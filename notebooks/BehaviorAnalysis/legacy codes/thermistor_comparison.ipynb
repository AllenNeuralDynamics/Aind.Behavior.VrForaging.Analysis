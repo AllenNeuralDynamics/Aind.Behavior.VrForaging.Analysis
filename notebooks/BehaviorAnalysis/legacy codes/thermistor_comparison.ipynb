{
 "cells": [
  {
   "cell_type": "code",
   "execution_count": null,
   "metadata": {},
   "outputs": [],
   "source": [
    "import sys\n",
    "import pandas as pd\n",
    "import numpy as np\n",
    "import pandas as pd\n",
    "import numpy as np\n",
    "import seaborn as sns\n",
    "import matplotlib.pyplot as plt\n",
    "import scipy\n",
    "from pathlib import Path\n",
    "from scipy.signal import lfilter, firwin\n",
    "\n",
    "sys.path.append('../../../src/')\n",
    "\n",
    "from utils import breathing_signal as lib\n",
    "\n",
    "from bonsai import load_bonsai_config\n",
    "load_bonsai_config(r\"C:\\Users\\tiffany.ona\\OneDrive - Allen Institute\\Documents\\VR foraging\\aind-vr-foraging\\Bonsai\")\n",
    "\n",
    "import harp\n",
    "import harp.processing\n",
    "import data_io\n",
    "\n",
    "sns.set_context(\"talk\")"
   ]
  },
  {
   "cell_type": "code",
   "execution_count": null,
   "metadata": {},
   "outputs": [],
   "source": [
    "path = r\"Z:\\scratch\\vr-foraging\\690164\\20231204T102852\"\n",
    "animal = path[23:29]\n",
    "session = path[23:29]+'_'+path[30:38]\n",
    "session_path = Path(path)\n",
    "# session_path = Path(r\"Z:\\672103\\20231010T104908\")\n",
    "\n",
    "# Harp Devices:\n",
    "HarpBehavior = harp.HarpDevice(\"Behavior\")\n",
    "# Olfactometer = harp.HarpDevice(\"Olfactometer\")\n",
    "AnalogInput = harp.HarpDevice(\"AnalogInput\")\n",
    "\n",
    "harp_behavior_data = data_io.HarpSource(device=HarpBehavior, path=session_path / \"Behavior.harp\", name=\"behavior\", autoload=False)\n",
    "\n",
    "# Software Events\n",
    "software_events = data_io.SoftwareEventSource(path=session_path / \"SoftwareEvents\", name=\"software_events\")\n",
    "active_site = software_events.streams.ActiveSite.data\n",
    "active_patch = software_events.streams.ActivePatch.data\n",
    "# active_patch = software_events.streams.OdorControl.data\n",
    "stopped = software_events.streams.GiveReward.data\n"
   ]
  },
  {
   "cell_type": "code",
   "execution_count": null,
   "metadata": {},
   "outputs": [],
   "source": [
    "encoder_data = harp.read_harp_bin(harp_behavior_data.streams.AnalogData.path)"
   ]
  },
  {
   "cell_type": "code",
   "execution_count": null,
   "metadata": {},
   "outputs": [],
   "source": [
    "thermistordata = encoder_data[0]\n",
    "thermistordata.index-=thermistordata.index[0]"
   ]
  },
  {
   "cell_type": "code",
   "execution_count": null,
   "metadata": {},
   "outputs": [],
   "source": [
    "thermistordata = thermistordata.reset_index()\n",
    "thermistordata.rename(columns={0:'data', 'Seconds': 'seconds'}, inplace=True)"
   ]
  },
  {
   "cell_type": "code",
   "execution_count": null,
   "metadata": {},
   "outputs": [],
   "source": [
    "# Apply moving average smoothing\n",
    "smoothed_ther = lib.moving_average(thermistordata['data'], window_size=5)\n",
    "\n",
    "# Remove the 60Hz noise from the thermistor signal\n",
    "smoothed_ther = lib.apply_filter(smoothed_ther, f_notch = 60, Q= 200)\n",
    "\n",
    "# Remove slow oscillations\n",
    "slow_ther = lib.moving_average(smoothed_ther, window_size=400)\n",
    "new_ther = smoothed_ther/slow_ther\n",
    "thermistordata['smoothed'] = new_ther"
   ]
  },
  {
   "cell_type": "code",
   "execution_count": null,
   "metadata": {},
   "outputs": [],
   "source": [
    "thermistordata.data/=thermistordata.data.mean()"
   ]
  },
  {
   "cell_type": "code",
   "execution_count": null,
   "metadata": {},
   "outputs": [],
   "source": [
    "for min_x, max_x in zip(range(100,150,2),range(102,152,2)):\n",
    "    print(min_x, max_x)\n",
    "    plt.figure(figsize=(8,4))\n",
    "    sns.lineplot(x='seconds',y='data', data=thermistordata.loc[thermistordata.seconds.between(min_x,max_x)], color='k', alpha=0.5, linewidth=1, label = 'Raw signal')\n",
    "    sns.lineplot(x='seconds',y='smoothed', data=thermistordata.loc[thermistordata.seconds.between(min_x,max_x)], color='red', alpha=0.5, linewidth=1, label = 'Corrected signal')\n",
    "    # plt.ylim(950, 1150)\n",
    "    plt.title('Thermistor signal animal: '+animal)\n",
    "    plt.locator_params(axis='x', nbins=5)\n",
    "    sns.despine()\n",
    "    plt.show()\n",
    "    plt.close()"
   ]
  }
 ],
 "metadata": {
  "kernelspec": {
   "display_name": ".venv",
   "language": "python",
   "name": "python3"
  },
  "language_info": {
   "codemirror_mode": {
    "name": "ipython",
    "version": 3
   },
   "file_extension": ".py",
   "mimetype": "text/x-python",
   "name": "python",
   "nbconvert_exporter": "python",
   "pygments_lexer": "ipython3",
   "version": "3.11.5"
  }
 },
 "nbformat": 4,
 "nbformat_minor": 2
}
