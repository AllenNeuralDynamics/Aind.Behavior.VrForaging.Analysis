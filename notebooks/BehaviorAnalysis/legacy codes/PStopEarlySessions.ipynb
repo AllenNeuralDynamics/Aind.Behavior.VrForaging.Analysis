{
 "cells": [
  {
   "cell_type": "code",
   "execution_count": null,
   "metadata": {},
   "outputs": [],
   "source": [
    "# Core\n",
    "import sys\n",
    "import pandas as pd\n",
    "import numpy as np\n",
    "from pathlib import Path\n",
    "\n",
    "## Plotting\n",
    "import matplotlib.pyplot as plt\n",
    "import seaborn as sns\n",
    "\n",
    "## Harp/Bonsai\n",
    "sys.path.append('../../src/')\n",
    "from bonsai import load_bonsai_config\n",
    "try:\n",
    "    load_bonsai_config(r\"C:\\git\\AllenNeuralDynamics\\aind-vr-foraging\\Bonsai\")\n",
    "except:\n",
    "    load_bonsai_config(r\"C:\\Users\\tiffany.ona\\OneDrive - Allen Institute\\Documents\\VR foraging\\aind-vr-foraging\\Bonsai\")\n",
    "\n",
    "import harp\n",
    "import harp.processing\n",
    "import data_io\n",
    "import json \n"
   ]
  },
  {
   "cell_type": "code",
   "execution_count": null,
   "metadata": {},
   "outputs": [],
   "source": [
    "session_df = pd.DataFrame(columns = ['session'])"
   ]
  },
  {
   "cell_type": "code",
   "execution_count": null,
   "metadata": {},
   "outputs": [],
   "source": [
    "def compute_window(data, runningwindow,option, trial):\n",
    "    \"\"\"\n",
    "    Computes a rolling average with a length of runningwindow samples.\n",
    "    \"\"\"\n",
    "    performance = []\n",
    "    end=False\n",
    "    for i in range(len(data)):\n",
    "        if data[trial].iloc[i] <= runningwindow:\n",
    "            # Store the first index of that session\n",
    "            if end == False:\n",
    "                start=i\n",
    "                end=True\n",
    "            performance.append(round(np.mean(data[option].iloc[start:i + 1]), 2))\n",
    "        else:\n",
    "            end=False\n",
    "            performance.append(round(np.mean(data[option].iloc[i - runningwindow:i]), 2))\n",
    "    return performance"
   ]
  },
  {
   "cell_type": "code",
   "execution_count": null,
   "metadata": {},
   "outputs": [],
   "source": [
    "#Global Viz settings\n",
    "sns.set_style('whitegrid') # darkgrid, white grid, dark, white and ticks\n",
    "# plt.rc('axes', titlesize=14)     # fontsize of the axes title\n",
    "# plt.rc('axes', labelsize=13)    # fontsize of the x and y labels\n",
    "# plt.rc('xtick', labelsize=13)    # fontsize of the tick labels\n",
    "# plt.rc('ytick', labelsize=13)    # fontsize of the tick labels\n",
    "# plt.rc('legend', fontsize=10)    # legend fontsize\n",
    "# plt.rc('font', size=10)          # controls default text sizes\n",
    "\n",
    "# mpl.rcParams['pdf.fonttype'] = 42\n",
    "# mpl.rcParams['ps.fonttype'] = 42\n",
    "# mpl.rcParams['font.family'] = 'Arial'\n",
    "\n",
    "default_img_size = (12, 4)"
   ]
  },
  {
   "cell_type": "markdown",
   "metadata": {},
   "source": [
    "### **Early way of processing the data**"
   ]
  },
  {
   "cell_type": "code",
   "execution_count": null,
   "metadata": {},
   "outputs": [],
   "source": [
    "session_path = r\"Z:\\672107\\20230921T112513\\Behavior\\Register__\""
   ]
  },
  {
   "cell_type": "code",
   "execution_count": null,
   "metadata": {},
   "outputs": [],
   "source": [
    "path = r\"Z:\\672107\\\\20230921T112513\"\n",
    "\n",
    "# Open and read the JSON file\n",
    "with open(str(path)+'\\config.json', 'r') as json_file:\n",
    "    config = json.load(json_file)\n",
    "    \n",
    "velocity_threshold = config['taskLogicControl']['positionControl']['stopResponseConfig']['velocityThreshold']"
   ]
  },
  {
   "cell_type": "code",
   "execution_count": null,
   "metadata": {},
   "outputs": [],
   "source": [
    "water_on = harp.read_harp_bin(session_path+str(34)+\".bin\")\n",
    "water_on = water_on.loc[water_on['Value'] & 0x08 > 0] * 0 + 1\n",
    "\n",
    "odor1_on = harp.read_harp_bin(session_path+str(34)+\".bin\")\n",
    "odor1_on = odor1_on.loc[odor1_on['Value'] & 16 > 0] * 0 + 1\n",
    "odor1_off = harp.read_harp_bin(session_path+str(35)+\".bin\")\n",
    "odor1_off = odor1_off.loc[odor1_off['Value'] & 16 > 0] * 0\n",
    "odor1 = pd.concat([odor1_on, odor1_off], join='outer').sort_index()\n",
    "odor1 = odor1.loc[odor1.Value.diff() != 0]\n",
    "\n",
    "# Filter onsets of odor only. \n",
    "odor1 = odor1[odor1['Value'] == 1]\n",
    "odor1['site_count'] = np.arange(odor1.shape[0])\n",
    "\n",
    "#Remove the trials in which I gave the animal manual water but discarding rapid succession of onsets\n",
    "water_on['filter'] = water_on.index.diff()\n",
    "water_on = water_on.loc[water_on['filter'] >= 2]"
   ]
  },
  {
   "cell_type": "code",
   "execution_count": null,
   "metadata": {},
   "outputs": [],
   "source": [
    "odor1['stopped'] = 0\n",
    "odor1['stopped_time'] = np.nan\n",
    "# Create a column for the number of patched the animal has experienced. \n",
    "temp_stopped = water_on\n",
    "for row in odor1.itertuples():\n",
    "    if temp_stopped.shape[0] == 0:\n",
    "        break\n",
    "    if row.Index+8 > temp_stopped.index[0]:\n",
    "        odor1.loc[row.Index, \"stopped\"] = temp_stopped['Value'].iloc[0]\n",
    "        odor1.loc[row.Index, \"stopped_time\"] = temp_stopped.index[0]\n",
    "        temp_stopped = temp_stopped.iloc[1:]\n"
   ]
  },
  {
   "cell_type": "code",
   "execution_count": null,
   "metadata": {},
   "outputs": [],
   "source": [
    "data = odor1\n",
    "window_size = 10\n",
    "odor1['stopped_average'] = compute_window(data, window_size, 'stopped', 'site_count')"
   ]
  },
  {
   "cell_type": "code",
   "execution_count": null,
   "metadata": {},
   "outputs": [],
   "source": [
    "# Remove the last % of the session\n",
    "maximum_sites = odor1.shape[0]*0.8\n",
    "odor1 = odor1.iloc[:int(round(maximum_sites,0))]"
   ]
  },
  {
   "cell_type": "code",
   "execution_count": null,
   "metadata": {},
   "outputs": [],
   "source": [
    "# Create a figure and primary (left) axis\n",
    "fig, ax1 = plt.subplots(figsize=(8, 3))\n",
    "sns.lineplot(x='site_count', y='stopped_average', data=odor1, color='black', ax=ax1)\n",
    "\n",
    "# Create a secondary (right) axis that shares the same x-axis\n",
    "ax2 = ax1.twinx()\n",
    "\n",
    "# Plot data on the secondary axis\n",
    "ax2.hlines(y=velocity_threshold, xmin=0, xmax=odor1.shape[0], color='red', linestyles='dashed')\n",
    "\n",
    "plt.xlabel('Reward site')\n",
    "\n",
    "ax1.set_ylabel('(P|Stop)')\n",
    "ax2.set_ylabel('Velocity threshold (cm/s)')\n",
    "\n",
    "ax1.set_ylim(0,1)\n",
    "sns.despine()"
   ]
  },
  {
   "cell_type": "code",
   "execution_count": null,
   "metadata": {},
   "outputs": [],
   "source": [
    "# plt.figure(figsize=(8,3))\n",
    "# sns.lineplot(x=odor1.index - odor1.index[0], y='site_count', data=odor1, color='black')\n",
    "# plt.xlabel('Time (s)')\n",
    "# plt.ylabel('Travelled Sites')\n",
    "# sns.despine()"
   ]
  },
  {
   "cell_type": "code",
   "execution_count": null,
   "metadata": {},
   "outputs": [],
   "source": [
    "odor1.loc[:, 'session'] = len(session_df.session.unique()) + 1\n",
    "odor1.loc[:,'session_id'] = session_path[10:25]\n",
    "odor1.loc[:,'animal_id'] = session_path[3:9]\n",
    "\n",
    "session_df = pd.concat([session_df, odor1], ignore_index=True)"
   ]
  },
  {
   "cell_type": "code",
   "execution_count": null,
   "metadata": {},
   "outputs": [],
   "source": [
    "session_df.tail()"
   ]
  },
  {
   "cell_type": "markdown",
   "metadata": {},
   "source": [
    "### **Sessions with intermediate code** \n",
    "After the 19th of September"
   ]
  },
  {
   "cell_type": "code",
   "execution_count": null,
   "metadata": {},
   "outputs": [],
   "source": [
    "path = r\"Z:\\672107\\20230921T112513\"\n",
    "# session_path = Path(r\"Z:\\672107\\20231010T120003\")\n",
    "session_path = Path(path)\n",
    "\n",
    "\n",
    "# Harp Devices:\n",
    "HarpBehavior = harp.HarpDevice(\"Behavior\")\n",
    "AnalogInput = harp.HarpDevice(\"AnalogInput\")\n",
    "harp_behavior_data = data_io.HarpSource(device=HarpBehavior, path=session_path / \"Behavior\", name=\"behavior\", autoload=False)\n",
    "\n",
    "# Software Events\n",
    "software_events = data_io.SoftwareEventSource(path=session_path / \"SoftwareEvents\", name=\"software_events\")\n",
    "active_site = software_events.streams.ActiveSite.data\n",
    "patch_number = software_events.streams.ActivePatch.data\n",
    "# patch_number = software_events.streams.OdorControl.data\n",
    "stopped = software_events.streams.ChoiceFeedback.data\n"
   ]
  },
  {
   "cell_type": "code",
   "execution_count": null,
   "metadata": {},
   "outputs": [],
   "source": [
    "# Open and read the JSON file\n",
    "with open(str(session_path)+'\\config.json', 'r') as json_file:\n",
    "    config = json.load(json_file)\n",
    "    \n",
    "velocity_threshold = config['taskLogicControl']['positionControl']['stopResponseConfig']['velocityThreshold']"
   ]
  },
  {
   "cell_type": "code",
   "execution_count": null,
   "metadata": {},
   "outputs": [],
   "source": [
    "# Odor onsets\n",
    "## mask for digital outputs\n",
    "digital_outputs = HarpBehavior.module.DigitalOutputs\n",
    "\n",
    "## Load necessary files\n",
    "harp_behavior_data.streams.OutputSet.load_from_file()\n",
    "harp_behavior_data.streams.OutputClear.load_from_file()\n",
    "odor_0 = harp.processing.distinct_until_changed_state(harp_behavior_data.streams.OutputSet.data, harp_behavior_data.streams.OutputClear.data, digital_outputs.SupplyPort1)\n",
    "odor_1 = harp.processing.distinct_until_changed_state(harp_behavior_data.streams.OutputSet.data, harp_behavior_data.streams.OutputClear.data, digital_outputs.SupplyPort2)\n",
    "\n",
    "water_state = harp_behavior_data.streams.OutputSet.data.loc[harp_behavior_data.streams.OutputSet.data[\"Value\"] == digital_outputs.SupplyPort0]"
   ]
  },
  {
   "cell_type": "code",
   "execution_count": null,
   "metadata": {},
   "outputs": [],
   "source": [
    "active_site = active_site.drop(['timestampSource', 'index'], axis=1)\n",
    "\n",
    "# Use json_normalize to create a new DataFrame from the 'data' column\n",
    "df_normalized = pd.json_normalize(active_site['data'])\n",
    "df_normalized.index = active_site.index\n",
    "\n",
    "# Concatenate the normalized DataFrame with the original DataFrame\n",
    "active_site = pd.concat([active_site, df_normalized], axis=1)\n",
    "\n",
    "# Drop the original 'data' column if you want to remove it\n",
    "active_site = active_site.drop('data', axis=1)\n",
    "\n",
    "active_site = active_site[['label', 'startPosition','length']]"
   ]
  },
  {
   "cell_type": "code",
   "execution_count": null,
   "metadata": {},
   "outputs": [],
   "source": [
    "# Filter reward sites only\n",
    "reward_sites = active_site[active_site['label'] == 'Reward']\n",
    "reward_sites.loc[:,'site_count'] = np.arange(reward_sites.shape[0])"
   ]
  },
  {
   "cell_type": "code",
   "execution_count": null,
   "metadata": {},
   "outputs": [],
   "source": [
    "odors_onset = pd.concat(\n",
    "    [\n",
    "        odor_0[odor_0[\"Value\"]].assign(Value=0),\n",
    "        odor_1[odor_1[\"Value\"]].assign(Value=1),\n",
    "    ], axis=0, copy=True).sort_index()\n",
    "\n",
    "## For each reward, get the first odor onset\n",
    "reward_sites[\"odor_onset\"] = np.nan\n",
    "reward_sites[\"odor\"] = np.nan\n",
    "\n",
    "for site in reward_sites.itertuples():\n",
    "    arg_min, val_min = harp.processing.find_closest(site.Index, odors_onset.index, mode=\"closest\")\n",
    "\n",
    "    reward_sites.loc[site.Index, \"odor_onset\"] = val_min\n",
    "    reward_sites.loc[site.Index, \"odor\"] = odors_onset[\"Value\"].iloc[arg_min]        "
   ]
  },
  {
   "cell_type": "code",
   "execution_count": null,
   "metadata": {},
   "outputs": [],
   "source": [
    "reward_sites.loc[:,'stopped'] = 0\n",
    "# Create a column for the number of patched the animal has experienced. \n",
    "temp_stopped = stopped.copy()\n",
    "for row in reward_sites.itertuples():\n",
    "    if temp_stopped.shape[0] == 0:\n",
    "        break\n",
    "    if row.odor_onset+5 > temp_stopped.index[0]:\n",
    "        reward_sites.loc[row.Index, \"stopped\"] = temp_stopped['timestampSource'].iloc[0]\n",
    "        reward_sites.loc[row.Index, \"stopped_time\"] = temp_stopped.index[0]\n",
    "        temp_stopped = temp_stopped.iloc[1:]"
   ]
  },
  {
   "cell_type": "code",
   "execution_count": null,
   "metadata": {},
   "outputs": [],
   "source": [
    "window_size = 10\n",
    "\n",
    "reward_sites.loc[:,'stopped_average'] = compute_window(reward_sites, window_size, 'stopped', 'site_count')\n",
    "reward_sites.loc[:,'session'] = len(session_df.session.unique()) + 1\n",
    "reward_sites.loc[:,'threshold'] = velocity_threshold"
   ]
  },
  {
   "cell_type": "code",
   "execution_count": null,
   "metadata": {},
   "outputs": [],
   "source": [
    "# Remove the last % of the session\n",
    "maximum_sites = reward_sites.shape[0]*0.8\n",
    "reward_sites = reward_sites.iloc[:int(round(maximum_sites,0))]"
   ]
  },
  {
   "cell_type": "code",
   "execution_count": null,
   "metadata": {},
   "outputs": [],
   "source": [
    "# Create a figure and primary (left) axis\n",
    "fig, ax1 = plt.subplots(figsize=(8, 3))\n",
    "sns.lineplot(x='site_count', y='stopped_average', data=reward_sites, color='black', ax=ax1)\n",
    "\n",
    "# Create a secondary (right) axis that shares the same x-axis\n",
    "ax2 = ax1.twinx()\n",
    "\n",
    "# Plot data on the secondary axis\n",
    "ax2.hlines(y=velocity_threshold, xmin=0, xmax=reward_sites.shape[0], color='red', linestyles='dashed')\n",
    "\n",
    "plt.xlabel('Reward site')\n",
    "\n",
    "ax1.set_ylabel('(P|Stop)')\n",
    "ax2.set_ylabel('Velocity threshold (cm/s)')\n",
    "\n",
    "ax1.set_ylim(0,1)\n",
    "sns.despine()"
   ]
  },
  {
   "cell_type": "code",
   "execution_count": null,
   "metadata": {},
   "outputs": [],
   "source": [
    "reward_sites.loc[:, 'session'] = len(session_df.session.unique()) + 1\n",
    "reward_sites.loc[:,'session_id'] = path[10:25]\n",
    "reward_sites.loc[:,'animal_id'] = path[3:9]\n",
    "\n",
    "session_df = pd.concat([session_df, reward_sites[['site_count', 'stopped', 'stopped_time', 'stopped_average', 'session', 'session_id','animal_id']]], ignore_index=True)"
   ]
  },
  {
   "cell_type": "code",
   "execution_count": null,
   "metadata": {},
   "outputs": [],
   "source": [
    "session_df.tail(5)"
   ]
  },
  {
   "cell_type": "code",
   "execution_count": null,
   "metadata": {},
   "outputs": [],
   "source": [
    "session_df['total_sites'] = np.arange(len(session_df))"
   ]
  },
  {
   "cell_type": "code",
   "execution_count": null,
   "metadata": {},
   "outputs": [],
   "source": [
    "# Create a figure and primary (left) axis\n",
    "fig, ax1 = plt.subplots(figsize=(8, 3))\n",
    "sns.lineplot(x='total_sites', y='stopped_average', hue='session', data=session_df, color='black', ax=ax1)\n",
    "\n",
    "plt.xlabel('Reward site')\n",
    "\n",
    "ax1.set_ylabel('(P|Stop)')\n",
    "ax1.set_ylim(0,1)\n",
    "sns.despine()"
   ]
  },
  {
   "cell_type": "code",
   "execution_count": null,
   "metadata": {},
   "outputs": [],
   "source": [
    "session_df.to_csv('C:/Users/tiffany.ona/OneDrive - Allen Institute/Documents/VR foraging/Data/session_df_107.csv')"
   ]
  },
  {
   "cell_type": "markdown",
   "metadata": {},
   "source": [
    "### **Plot all sessions  together**"
   ]
  },
  {
   "cell_type": "code",
   "execution_count": null,
   "metadata": {},
   "outputs": [],
   "source": [
    "session_df = pd.DataFrame()\n",
    "for animal in ['103','104','106','107']:\n",
    "    session = pd.read_csv('C:/Users/tiffany.ona/OneDrive - Allen Institute/Documents/VR foraging/Data/session_df_'+animal+'.csv', index_col=0)\n",
    "    session_df = pd.concat([session_df, session], ignore_index=True)"
   ]
  },
  {
   "cell_type": "code",
   "execution_count": null,
   "metadata": {},
   "outputs": [],
   "source": [
    "session_df.head(5)"
   ]
  },
  {
   "cell_type": "code",
   "execution_count": null,
   "metadata": {},
   "outputs": [],
   "source": [
    "# Remove the first 10 sites\n",
    "session_df = session_df.loc[session_df['site_count'] >= 10]"
   ]
  },
  {
   "cell_type": "code",
   "execution_count": null,
   "metadata": {},
   "outputs": [],
   "source": [
    "session_df['normalized_trials'] = 0.0\n",
    "for animal in session_df.animal_id.unique():\n",
    "    session_df.loc[session_df['animal_id'] == animal, 'normalized_trials'] =   (session_df.loc[session_df['animal_id'] == animal, 'total_sites']\n",
    "                                                                                / session_df.loc[session_df['animal_id'] == animal, 'total_sites'].max())\n",
    "\n",
    "session_df['round_normalized_trials'] = session_df['normalized_trials'].round(2)\n",
    "session_df = session_df.replace([np.inf, -np.inf], np.nan)\n",
    "\n",
    "# Create a figure and primary (left) axis\n",
    "black_palette = [\"steelblue\"] * len(session_df[\"animal_id\"].unique())\n",
    "\n",
    "fig = plt.subplots(figsize=(6, 3))\n",
    "sns.lineplot(x='round_normalized_trials', y='stopped_average', hue='animal_id', palette=black_palette, data=session_df, alpha=0.2, legend=False, errorbar=None)\n",
    "sns.lineplot(x='round_normalized_trials', y='stopped_average', data=session_df, color='steelblue', errorbar=None, linewidth=2)\n",
    "\n",
    "plt.xlabel('Normalized reward site number')\n",
    "plt.ylabel('(P|Stop)')\n",
    "plt.ylim(0,1.1)\n",
    "plt.title('3 first sessions')\n",
    "sns.despine()"
   ]
  },
  {
   "cell_type": "code",
   "execution_count": null,
   "metadata": {},
   "outputs": [],
   "source": [
    "df_temp = session_df.loc[session_df['session'] == 1]\n",
    "\n",
    "df_temp.loc[:, 'normalized_trials'] = 0.0\n",
    "for animal in df_temp.animal_id.unique():\n",
    "    df_temp.loc[df_temp['animal_id'] == animal, 'normalized_trials'] =   (df_temp.loc[df_temp['animal_id'] == animal, 'total_sites']\n",
    "                                                                                / df_temp.loc[df_temp['animal_id'] == animal, 'total_sites'].max())\n",
    "\n",
    "df_temp.loc[:,'round_normalized_trials'] = df_temp.loc[:,'normalized_trials'].round(2)\n",
    "\n",
    "session_df['normalized_trials'] = 0.0\n",
    "for animal in session_df.animal_id.unique():\n",
    "    session_df.loc[session_df['animal_id'] == animal, 'normalized_trials'] =   (session_df.loc[session_df['animal_id'] == animal, 'total_sites']\n",
    "                                                                                / session_df.loc[session_df['animal_id'] == animal, 'total_sites'].max())\n",
    "\n",
    "session_df['round_normalized_trials'] = session_df['normalized_trials'].round(2)\n",
    "\n",
    "# Create a figure and primary (left) axis\n",
    "black_palette = [\"steelblue\"] * len(session_df[\"animal_id\"].unique())\n",
    "\n",
    "fig = plt.subplots(figsize=(6, 3))\n",
    "sns.lineplot(x='round_normalized_trials', y='stopped_average', hue='animal_id', palette=black_palette, data=df_temp, alpha=0.2, legend=False, errorbar=None)\n",
    "sns.lineplot(x='round_normalized_trials', y='stopped_average', data=df_temp, color='steelblue', errorbar=None, linewidth=2)\n",
    "\n",
    "plt.xlabel('Normalized reward site number')\n",
    "plt.ylabel('(P|Stop)')\n",
    "plt.title('Session 1')\n",
    "plt.ylim(0,1.1)\n",
    "sns.despine()"
   ]
  },
  {
   "cell_type": "code",
   "execution_count": null,
   "metadata": {},
   "outputs": [],
   "source": [
    "df_temp = session_df.loc[session_df['session'] == 1]\n",
    "\n",
    "df_temp.loc[:, 'normalized_trials'] = 0.0\n",
    "for animal in df_temp.animal_id.unique():\n",
    "    df_temp.loc[df_temp['animal_id'] == animal, 'normalized_trials'] =   (df_temp.loc[df_temp['animal_id'] == animal, 'total_sites']\n",
    "                                                                                / df_temp.loc[df_temp['animal_id'] == animal, 'total_sites'].max())\n",
    "\n",
    "df_temp.loc[:,'round_normalized_trials'] = df_temp.loc[:,'normalized_trials'].round(2)\n",
    "\n",
    "session_df['normalized_trials'] = 0.0\n",
    "for animal in session_df.animal_id.unique():\n",
    "    session_df.loc[session_df['animal_id'] == animal, 'normalized_trials'] =   (session_df.loc[session_df['animal_id'] == animal, 'total_sites']\n",
    "                                                                                / session_df.loc[session_df['animal_id'] == animal, 'total_sites'].max())\n",
    "\n",
    "session_df['round_normalized_trials'] = session_df['normalized_trials'].round(2)\n",
    "\n",
    "# Create a figure and primary (left) axis\n",
    "# black_palette = [\"steelblue\"] * len(session_df[\"animal_id\"].unique())\n",
    "\n",
    "sns.set_palette(\"colorblind\")\n",
    "fig = plt.subplots(figsize=(6, 3))\n",
    "sns.lineplot(x='total_sites', y='stopped_average', hue='animal_id', data=df_temp, alpha=0.8, errorbar=None)\n",
    "# sns.lineplot(x='total_sites', y='stopped_average', data=df_temp, color='steelblue', errorbar=None, linewidth=2)\n",
    "\n",
    "plt.xlabel('Total reward sites')\n",
    "plt.ylabel('(P|Stop)')\n",
    "plt.title('Session 1')\n",
    "plt.ylim(0,1.1)\n",
    "sns.despine()"
   ]
  },
  {
   "cell_type": "code",
   "execution_count": null,
   "metadata": {},
   "outputs": [],
   "source": [
    "# Create a figure and primary (left) axis\n",
    "black_palette = [\"black\"] * len(session_df[\"animal_id\"].unique())\n",
    "\n",
    "fig = plt.subplots(figsize=(8, 3))\n",
    "sns.lineplot(x='normalized_trials', y='stopped_average', hue='session', data=session_df.loc[session_df['animal_id'] == 672103])\n",
    "\n",
    "plt.xlabel('Reward site number')\n",
    "plt.ylabel('(P|Stop)')\n",
    "plt.ylim(0,1)\n",
    "sns.despine()"
   ]
  }
 ],
 "metadata": {
  "kernelspec": {
   "display_name": ".venv",
   "language": "python",
   "name": "python3"
  },
  "language_info": {
   "codemirror_mode": {
    "name": "ipython",
    "version": 3
   },
   "file_extension": ".py",
   "mimetype": "text/x-python",
   "name": "python",
   "nbconvert_exporter": "python",
   "pygments_lexer": "ipython3",
   "version": "3.11.5"
  }
 },
 "nbformat": 4,
 "nbformat_minor": 2
}
