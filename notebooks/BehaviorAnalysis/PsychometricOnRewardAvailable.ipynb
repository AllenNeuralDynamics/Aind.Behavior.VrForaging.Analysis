{
 "cells": [
  {
   "cell_type": "code",
   "execution_count": null,
   "metadata": {},
   "outputs": [],
   "source": [
    "# Core\n",
    "import sys\n",
    "import pandas as pd\n",
    "import numpy as np\n",
    "from pathlib import Path\n",
    "\n",
    "## Plotting\n",
    "import matplotlib.pyplot as plt\n",
    "import matplotlib as mpl\n",
    "import seaborn as sns\n",
    "\n",
    "## Harp/Bonsai\n",
    "sys.path.append('../../src/')\n",
    "from bonsai import load_bonsai_config\n",
    "load_bonsai_config(r\"C:\\git\\AllenNeuralDynamics\\aind-vr-foraging\\Bonsai\")\n",
    "import harp\n",
    "import harp.processing\n",
    "import data_io\n",
    "\n",
    "#Global Viz settings\n",
    "sns.set_style('darkgrid') # darkgrid, white grid, dark, white and ticks\n",
    "plt.rc('axes', titlesize=18)     # fontsize of the axes title\n",
    "plt.rc('axes', labelsize=14)    # fontsize of the x and y labels\n",
    "plt.rc('xtick', labelsize=13)    # fontsize of the tick labels\n",
    "plt.rc('ytick', labelsize=13)    # fontsize of the tick labels\n",
    "plt.rc('legend', fontsize=13)    # legend fontsize\n",
    "plt.rc('font', size=13)          # controls default text sizes\n",
    "\n",
    "mpl.rcParams['pdf.fonttype'] = 42\n",
    "mpl.rcParams['ps.fonttype'] = 42\n",
    "mpl.rcParams['font.family'] = 'Arial'\n",
    "\n",
    "default_img_size = (15, 8)"
   ]
  },
  {
   "cell_type": "code",
   "execution_count": null,
   "metadata": {},
   "outputs": [],
   "source": [
    "session_path = Path(r\"Z:\\scratch\\vr-foraging\\672107\\20231006T124918\")\n",
    "session_path = Path(r\"Z:\\scratch\\vr-foraging\\672106\\20231006T113138\")\n",
    "session_path = Path(r\"Z:\\scratch\\vr-foraging\\672103\\20231006T112707\")\n",
    "\n",
    "# Harp Devices:\n",
    "HarpBehavior = harp.HarpDevice(\"Behavior\")\n",
    "harp_behavior_data = data_io.HarpSource(device=HarpBehavior, path=session_path / \"Behavior\", name=\"behavior\", autoload=False)\n",
    "\n",
    "# Software Events\n",
    "software_events = data_io.SoftwareEventSource(path=session_path / \"SoftwareEvents\", name=\"software_events\")"
   ]
  },
  {
   "cell_type": "code",
   "execution_count": null,
   "metadata": {},
   "outputs": [],
   "source": [
    "## Find changes in reward available\n",
    "patches = software_events.streams.ActivePatch.data\n",
    "reward = software_events.streams.GiveReward.data\n",
    "reward_available = patches.iloc[0][\"data\"][\"patchRewardFunction\"][\"initialRewardAmount\"]\n",
    "\n",
    "reward_updates = pd.concat([patches, reward])\n",
    "reward_updates.sort_index(inplace=True)\n",
    "reward_updates[\"currentReward\"] = np.nan\n",
    "for event in reward_updates.iterrows():\n",
    "    if event[1][\"name\"] == 'GiveReward': #update reward\n",
    "        reward_available -= event[1][\"data\"]\n",
    "    elif event[1][\"name\"] == 'ActivePatch': #reset reward\n",
    "        reward_available = event[1][\"data\"][\"patchRewardFunction\"][\"initialRewardAmount\"]\n",
    "    else:\n",
    "        raise ValueError(\"Unknown event type\")\n",
    "    reward_updates.at[event[0], \"currentReward\"] = reward_available\n",
    "\n",
    "\n",
    "reward_updates"
   ]
  },
  {
   "cell_type": "code",
   "execution_count": null,
   "metadata": {},
   "outputs": [],
   "source": [
    "# Find responses to Reward site\n",
    "activeSite = software_events.streams.ActiveSite.data\n",
    "choiceFeedback = software_events.streams.ChoiceFeedback.data\n",
    "rewardSites = activeSite[activeSite[\"data\"].apply(lambda x : x['label']) == 'Reward']\n",
    "rewardSites[\"active_patch\"] = -1\n",
    "rewardSites[\"patch_label\"] = ''\n",
    "\n",
    "rewardSites[\"visit_number\"] = -1\n",
    "rewardSites[\"has_choice\"] = False\n",
    "\n",
    "current_patch_idx = -1\n",
    "visit_number = 0\n",
    "for idx,event in enumerate(rewardSites.iterrows()):\n",
    "    arg_min, val_min = harp.processing.find_closest(event[0], patches.index.values, mode=\"below_zero\")\n",
    "    if not(np.isnan(arg_min)):\n",
    "        rewardSites.loc[event[0], \"active_patch\"] = arg_min\n",
    "    if current_patch_idx != arg_min:\n",
    "        current_patch_idx = arg_min\n",
    "        visit_number = 0\n",
    "    else:\n",
    "        visit_number += 1\n",
    "    rewardSites.loc[event[0], \"visit_number\"] = visit_number\n",
    "\n",
    "    if idx < len(rewardSites) -1:\n",
    "        choice = choiceFeedback.loc[(choiceFeedback.index >= rewardSites.index[idx]) & (choiceFeedback.index < rewardSites.index[idx+1])]\n",
    "    else:\n",
    "        choice = choiceFeedback.loc[(choiceFeedback.index >= rewardSites.index[idx])]\n",
    "    rewardSites.loc[event[0], \"has_choice\"] = len(choice) > 0"
   ]
  },
  {
   "cell_type": "code",
   "execution_count": null,
   "metadata": {},
   "outputs": [],
   "source": [
    "rewardSites[\"patch_label\"] = rewardSites[\"active_patch\"].apply(lambda x : patches.iloc[x][\"data\"][\"label\"])\n",
    "rewardSites"
   ]
  },
  {
   "cell_type": "code",
   "execution_count": null,
   "metadata": {},
   "outputs": [],
   "source": [
    "session_duration = rewardSites.index[-1] - rewardSites.index[0]\n",
    "threshold = rewardSites.index[0] + session_duration * 1\n",
    "for patch_type, patch_type_df in rewardSites[rewardSites.index < threshold].groupby(\"patch_label\"):\n",
    "    plt.figure()\n",
    "    plt.title(patch_type)\n",
    "    choice_probability = np.zeros(len(patch_type_df[\"visit_number\"].unique()))\n",
    "    for visit_number, visit_number_df in patch_type_df.groupby(\"visit_number\"):\n",
    "        choice_probability[visit_number] = visit_number_df[\"has_choice\"].sum() / len(visit_number_df)\n",
    "    plt.plot(np.arange(0, choice_probability.shape[0]), choice_probability)\n",
    "    plt.vlines(2, 0, 1, colors='r', linestyles='dashed')\n",
    "    plt.xlabel(\"visit_number\")\n",
    "    plt.ylabel(\"choice_probability\")"
   ]
  },
  {
   "cell_type": "code",
   "execution_count": null,
   "metadata": {},
   "outputs": [],
   "source": []
  },
  {
   "cell_type": "code",
   "execution_count": null,
   "metadata": {},
   "outputs": [],
   "source": []
  }
 ],
 "metadata": {
  "kernelspec": {
   "display_name": ".venv",
   "language": "python",
   "name": "python3"
  },
  "language_info": {
   "codemirror_mode": {
    "name": "ipython",
    "version": 3
   },
   "file_extension": ".py",
   "mimetype": "text/x-python",
   "name": "python",
   "nbconvert_exporter": "python",
   "pygments_lexer": "ipython3",
   "version": "3.11.5"
  }
 },
 "nbformat": 4,
 "nbformat_minor": 2
}
