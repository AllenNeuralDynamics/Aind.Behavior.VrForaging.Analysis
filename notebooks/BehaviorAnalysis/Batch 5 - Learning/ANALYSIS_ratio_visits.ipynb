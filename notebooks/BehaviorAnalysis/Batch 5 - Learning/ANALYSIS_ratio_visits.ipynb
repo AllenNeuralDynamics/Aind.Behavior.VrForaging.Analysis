{
 "cells": [
  {
   "cell_type": "code",
   "execution_count": null,
   "id": "b02db19a",
   "metadata": {},
   "outputs": [],
   "source": [
    "\n",
    "# IPython magig  tools\n",
    "%load_ext autoreload\n",
    "%autoreload 2\n",
    "\n",
    "from aind_vr_foraging_analysis.utils.parsing import data_access\n",
    "\n",
    "# Plotting libraries\n",
    "import matplotlib.pyplot as plt\n",
    "import seaborn as sns\n",
    "import pandas as pd\n",
    "import numpy as np\n",
    "from matplotlib.backends.backend_pdf import PdfPages\n",
    "\n",
    "sns.set_context('talk')\n",
    "\n",
    "import warnings\n",
    "pd.options.mode.chained_assignment = None  # Ignore SettingWithCopyWarning\n",
    "warnings.simplefilter(action='ignore', category=FutureWarning)\n",
    "warnings.simplefilter(\"ignore\", UserWarning)\n",
    "warnings.filterwarnings(\"ignore\", category=RuntimeWarning)\n",
    "\n",
    "color1='#d95f02'\n",
    "color2='#1b9e77'\n",
    "color3='#7570b3'\n",
    "color4='yellow'\n",
    "odor_list_color = [color1, color2, color3, color4]\n",
    "\n",
    "pdf_path = r'Z:\\scratch\\vr-foraging\\sessions'\n",
    "results_path = r'C:\\Users\\tiffany.ona\\OneDrive - Allen Institute\\Documents\\VR foraging\\experiments\\batch 5 - learning\\results'\n",
    "\n",
    "color_dict_label = {'InterSite': '#808080',\n",
    "    'InterPatch': '#b3b3b3', \n",
    "    'PatchZ': '#d95f02', 'PatchZB': '#d95f02', \n",
    "    'PatchB': '#d95f02','PatchA': '#7570b3', \n",
    "    'PatchC': '#1b9e77',\n",
    "    'Alpha-pinene': '#1b9e77', \n",
    "    'Methyl Butyrate': '#7570b3', \n",
    "    'Amyl Acetate': '#d95f02', \n",
    "    'Fenchone': '#7570b3', \n",
    "     'S': color1,\n",
    "    'D': color2,\n",
    "    'N': color3,   \n",
    "    }\n",
    "\n",
    "label_dict = {**{\n",
    "\"InterSite\": '#808080',\n",
    "\"InterPatch\": '#b3b3b3'}, \n",
    "            **color_dict_label}\n",
    "import os\n"
   ]
  },
  {
   "cell_type": "code",
   "execution_count": null,
   "id": "8649f054",
   "metadata": {},
   "outputs": [],
   "source": [
    "def grid_mouse_y_variable_x_session(df, variable: str = 'fraction_visited'):\n",
    "    session_ns = sorted(df.mouse.unique())\n",
    "    n_sessions = len(session_ns)\n",
    "\n",
    "    # Determine subplot grid size\n",
    "    n_cols = 3\n",
    "    n_rows = int(np.ceil(n_sessions / n_cols))\n",
    "\n",
    "    # Create figure\n",
    "    fig, axes = plt.subplots(n_rows, n_cols, figsize=(5 * n_cols, 5 * n_rows), squeeze=False, sharey=True)\n",
    "\n",
    "    for idx, sn in enumerate(session_ns):\n",
    "        row = idx // n_cols\n",
    "        col = idx % n_cols\n",
    "        ax = axes[row, col]\n",
    "\n",
    "        df_sn = df[(df.mouse == sn)]\n",
    "\n",
    "        # InterSite\n",
    "        sns.lineplot(data=df_sn, x='session', y=variable, hue='s_patch_label', marker='o', palette=color_dict_label, ax=ax, legend=False, lw=2, alpha=0.5)\n",
    "        ax.set_title(f\"{sn}\")\n",
    "        ax.set_xlabel(\"Session\")\n",
    "        ax.set_xticklabels(ax.get_xticklabels(), rotation=45, ha='right')\n",
    "        # if idx == 0:\n",
    "        #     handles, labels = ax.get_legend_handles_labels()\n",
    "            \n",
    "    # plt.legend(handles, labels, loc='upper center', ncol=len(labels), bbox_to_anchor=(0.5, 1.02))\n",
    "    # Remove unused axes if grid is larger than number of sessions\n",
    "    for j in range(len(session_ns), n_rows * n_cols):\n",
    "        fig.delaxes(axes[j // n_cols][j % n_cols])\n",
    "    sns.despine()\n",
    "    plt.tight_layout()\n",
    "    plt.subplots_adjust(top=0.93)\n",
    "    plt.show()\n",
    "    # fig.savefig(os.path.join(foraging_figures, f'{mouse}_grid_session_speed_epochs.pdf'), dpi=300, bbox_inches='tight')\n",
    "\n"
   ]
  },
  {
   "cell_type": "code",
   "execution_count": null,
   "id": "e4b2521b",
   "metadata": {},
   "outputs": [],
   "source": [
    "# Function to assign codes\n",
    "def get_condition_code(text):\n",
    "    if 'delayed' in text:\n",
    "        return 'D'\n",
    "    elif 'single' in text:\n",
    "        return 'S'\n",
    "    elif 'no_reward' in text or 'noreward' in text:\n",
    "        return 'N'\n",
    "    else:\n",
    "        return None"
   ]
  },
  {
   "cell_type": "code",
   "execution_count": null,
   "id": "630e5b36",
   "metadata": {},
   "outputs": [],
   "source": [
    "trainer_dict = {'754574': 'Katrina',\n",
    "                '754579': 'Huy',\n",
    "                '789914': 'Katrina', \n",
    "                '789915': 'Katrina', \n",
    "                '789923': 'Katrina', \n",
    "                '789917' : 'Katrina', \n",
    "                '789909': 'Huy',\n",
    "                '789910': 'Huy',\n",
    "                '789907': 'Olivia',\n",
    "                '789903': 'Olivia',\n",
    "                '789924': 'Olivia',\n",
    "                '789925': 'Olivia',\n",
    "                '789926': 'Olivia',\n",
    "}      \n",
    "mouse_list = trainer_dict.keys()"
   ]
  },
  {
   "cell_type": "code",
   "execution_count": null,
   "id": "b94cf6c6",
   "metadata": {},
   "outputs": [],
   "source": [
    "date_string = \"2025-5-12\"\n",
    "\n",
    "sum_df = pd.DataFrame()\n",
    "summary_df = pd.DataFrame()\n",
    "for mouse in mouse_list:\n",
    "    session_paths = data_access.find_sessions_relative_to_date(\n",
    "        mouse=mouse,\n",
    "        date_string=date_string,\n",
    "        when='on_or_after'\n",
    "    )\n",
    "    session_n = 0\n",
    "    for session_path in session_paths:\n",
    "        print(mouse, session_path)\n",
    "        try:\n",
    "            all_epochs, stream_data, data = data_access.load_session(\n",
    "                session_path\n",
    "            )\n",
    "        except:\n",
    "            print(f\"Error loading {session_path.name}\")\n",
    "            continue\n",
    "        all_epochs['mouse'] = mouse\n",
    "        all_epochs['session'] = session_path.name[7:17]\n",
    "        all_epochs['session_n'] = session_n\n",
    "        \n",
    "        last_engaged_patch = all_epochs['patch_number'][all_epochs['skipped_count'] >= 5].min()\n",
    "        if pd.isna(last_engaged_patch):\n",
    "            last_engaged_patch = all_epochs['patch_number'].max()\n",
    "        all_epochs['engaged'] = np.where(all_epochs['patch_number'] <= last_engaged_patch, 1, 0)\n",
    "\n",
    "        # Compute total and visited patches in a single step\n",
    "        patch_total = all_epochs.groupby('patch_label')['patch_number'].nunique()\n",
    "\n",
    "        visited_filter = (all_epochs.site_number == 0) & (all_epochs.is_choice == 1)\n",
    "        patch_visited = all_epochs.loc[visited_filter].groupby('patch_label')['patch_number'].nunique()\n",
    "\n",
    "        # Combine into one dataframe\n",
    "        patch_df = pd.DataFrame({\n",
    "            'patch_number': patch_total,\n",
    "            'visited': patch_visited\n",
    "        }).fillna(0)  # Fill NaNs for labels that were never visited\n",
    "\n",
    "        patch_df['fraction_visited'] = patch_df['visited'] / patch_df['patch_number']\n",
    "        patch_df['mouse'] = mouse\n",
    "        patch_df['session'] = session_path.name[7:17]\n",
    "        patch_df['session_n'] = session_n\n",
    "        session_n += 1\n",
    "        \n",
    "        try:\n",
    "            all_epochs['block'] = all_epochs['patch_label'].str.extract(r'set(\\d+)').astype(int)\n",
    "        except ValueError: \n",
    "            all_epochs['block'] = 0\n",
    "\n",
    "        # Apply function\n",
    "        all_epochs['s_patch_label'] = all_epochs['patch_label'].apply(get_condition_code)\n",
    "\n",
    "        sum_df = pd.concat([patch_df.reset_index(), sum_df])\n",
    "        summary_df = pd.concat([all_epochs, summary_df])\n"
   ]
  },
  {
   "cell_type": "code",
   "execution_count": null,
   "id": "b0646f14",
   "metadata": {},
   "outputs": [],
   "source": [
    "summary_df = summary_df.loc[summary_df.engaged == 1]\n",
    "summary_df.sort_values(by=['mouse', 'session'], inplace=True)"
   ]
  },
  {
   "cell_type": "markdown",
   "id": "620bf54d",
   "metadata": {},
   "source": [
    "##### **Number of stops across time**"
   ]
  },
  {
   "cell_type": "code",
   "execution_count": null,
   "id": "5932e9eb",
   "metadata": {},
   "outputs": [],
   "source": [
    "fig, ax = plt.subplots(figsize=(10, 5))\n",
    "plot_df = summary_df.loc[~summary_df['mouse'].isin(['754574', '754579'])].groupby(['mouse', 'session']).agg({'is_choice': 'sum', 'reward_amount': 'max'}).reset_index()\n",
    "sns.boxplot(data=plot_df, x='session', y='is_choice', hue='reward_amount', dodge=False)\n",
    "plt.legend(title='Mouse', bbox_to_anchor=(1.05, 1), loc='upper left')\n",
    "plt.xticks(rotation=45, ha='right')\n",
    "sns.despine()"
   ]
  },
  {
   "cell_type": "markdown",
   "id": "2034e98f",
   "metadata": {},
   "source": [
    "##### **Number of patches across time**"
   ]
  },
  {
   "cell_type": "code",
   "execution_count": null,
   "id": "dbaa925c",
   "metadata": {},
   "outputs": [],
   "source": [
    "fig, ax = plt.subplots(figsize=(10, 5))\n",
    "\n",
    "plot_df = summary_df.loc[~summary_df['mouse'].isin(['754574', '754579'])] .groupby(['mouse', 'session']).agg({'is_choice': 'sum', 'reward_amount': 'max', 'patch_number':'nunique'}).reset_index()\n",
    "sns.boxplot(data=plot_df, x='session', y='patch_number', hue='reward_amount', dodge=False)\n",
    "plt.legend(title='Mouse', bbox_to_anchor=(1.05, 1), loc='upper left')\n",
    "plt.xticks(rotation=45, ha='right')\n",
    "sns.despine()"
   ]
  },
  {
   "cell_type": "code",
   "execution_count": null,
   "id": "fa39b5f3",
   "metadata": {},
   "outputs": [],
   "source": [
    "fig, ax = plt.subplots(figsize=(10, 5))\n",
    "summary_df['collected'] = summary_df['reward_amount'] * summary_df['is_reward']\n",
    "plot_df = summary_df.loc[~summary_df['mouse'].isin(['754574', '754579'])] .groupby(['mouse', 'session']).agg({'collected': 'sum', 'reward_amount': 'max'}).reset_index()\n",
    "sns.boxplot(data=plot_df, x='session', y='collected', hue='reward_amount', dodge=False)\n",
    "plt.legend(title='Mouse', bbox_to_anchor=(1.05, 1), loc='upper left')\n",
    "plt.xticks(rotation=45, ha='right')\n",
    "sns.despine()"
   ]
  },
  {
   "cell_type": "code",
   "execution_count": null,
   "id": "646d0121",
   "metadata": {},
   "outputs": [],
   "source": [
    "df = summary_df.groupby(['mouse', 'session', 'session_n', 's_patch_label','patch_number']).agg({'site_number': 'max'}).reset_index()\n",
    "fig, ax = plt.subplots(figsize=(10, 5))\n",
    "sns.barplot(x='s_patch_label', y='site_number', hue='session', data=df, palette='Set2')\n",
    "plt.legend(bbox_to_anchor=(1.05, 1), loc='upper left', ncol=2)\n",
    "sns.despine()\n",
    "fig.savefig(os.path.join(results_path, f'average_site_number.pdf'), dpi=300, bbox_inches='tight')"
   ]
  },
  {
   "cell_type": "code",
   "execution_count": null,
   "id": "0d6c9bbd",
   "metadata": {},
   "outputs": [],
   "source": [
    "fig, ax = plt.subplots(figsize=(7, 5))\n",
    "\n",
    "sns.lineplot(data = df, x='session', y='site_number', hue='s_patch_label', palette='Set2', marker='o')\n",
    "plt.xticks(rotation=45, ha='right')\n",
    "plt.legend(bbox_to_anchor=(1.05, 1), loc='upper left')\n",
    "plt.vlines(x=9.5, ymin=0, ymax=3.5, color='k', linestyle='--')\n",
    "sns.despine()\n",
    "fig.savefig(os.path.join(results_path, f'mouse_average_site_number.pdf'), dpi=300, bbox_inches='tight')"
   ]
  },
  {
   "cell_type": "code",
   "execution_count": null,
   "id": "701143dc",
   "metadata": {},
   "outputs": [],
   "source": [
    "grid_mouse_y_variable_x_session(summary_df, variable='site_number')"
   ]
  },
  {
   "cell_type": "code",
   "execution_count": null,
   "id": "856aff9f",
   "metadata": {},
   "outputs": [],
   "source": [
    "fig, ax = plt.subplots(figsize=(10, 5))\n",
    "\n",
    "df = summary_df.loc[summary_df.site_number > 0].groupby(['mouse', 'session', 's_patch_label','patch_number']).agg({'consecutive_failures': 'max'}).reset_index()\n",
    "sns.barplot(x='s_patch_label', y='consecutive_failures', hue='session', data=df, palette='Set2')\n",
    "plt.legend(bbox_to_anchor=(1.05, 1), loc='upper left')\n",
    "sns.despine()\n",
    "fig.savefig(os.path.join(results_path, f'consecutive_failures.pdf'), dpi=300, bbox_inches='tight')"
   ]
  },
  {
   "cell_type": "code",
   "execution_count": null,
   "id": "a930b742",
   "metadata": {},
   "outputs": [],
   "source": [
    "fig, ax = plt.subplots(figsize=(7, 5))\n",
    "\n",
    "sns.lineplot(data = df, x='session', y='consecutive_failures', hue='s_patch_label', palette='Set2', marker='o')\n",
    "plt.xticks(rotation=45, ha='right')\n",
    "plt.legend(bbox_to_anchor=(1.05, 1), loc='upper left')\n",
    "plt.vlines(x=9.5, ymin=0, ymax=2.5, color='k', linestyle='--')\n",
    "sns.despine()\n",
    "fig.savefig(os.path.join(results_path, f'mouse_consecutive_failures.pdf'), dpi=300, bbox_inches='tight')"
   ]
  },
  {
   "cell_type": "code",
   "execution_count": null,
   "id": "4e182c24",
   "metadata": {},
   "outputs": [],
   "source": [
    "df = summary_df.groupby(['mouse', 'session', 'session_n', 's_patch_label','patch_number']).agg({'site_number': 'max'}).reset_index()\n",
    "\n",
    "for mouse in df['mouse'].unique():\n",
    "    mouse_df = df[df['mouse'] == mouse]\n",
    "    session_ns = mouse_df['session_n'].unique()\n",
    "\n",
    "    n_sessions = len(session_ns)\n",
    "    n_cols = 5  # Adjust number of columns\n",
    "    n_rows = int(np.ceil(n_sessions / n_cols))\n",
    "\n",
    "    fig, axes = plt.subplots(n_rows, n_cols, figsize=(3*n_cols, 4*n_rows), squeeze=False, sharey=True)\n",
    "\n",
    "    for idx, session_n in enumerate(session_ns):\n",
    "        row = idx // n_cols\n",
    "        col = idx % n_cols\n",
    "        ax = axes[row, col]\n",
    "\n",
    "        sns.barplot(data = df.loc[df.session_n == session_n], x='s_patch_label', y='site_number', palette='Set2', ax=ax)\n",
    "        ax.set_xlabel('')\n",
    "        sns.despine(ax=ax)\n",
    "        ax.set_title(f\"{session_n}\")\n",
    "    plt.suptitle(f\"{mouse}\")\n",
    "    plt.tight_layout()\n",
    "    \n",
    "    # Turn off empty axes\n",
    "    for idx in range(mouse_df['session_n'].nunique(), n_rows * n_cols):\n",
    "        row = idx // n_cols\n",
    "        col = idx % n_cols\n",
    "        axes[row, col].axis('off')\n",
    "        \n",
    "    pdf_path = os.path.join(results_path, f'{mouse}_site_number.pdf')"
   ]
  },
  {
   "cell_type": "code",
   "execution_count": null,
   "id": "ef75c8d0",
   "metadata": {},
   "outputs": [],
   "source": [
    "summary_df = summary_df.loc[~summary_df['patch_label'].isin(['PatchZA','PatchZB', 'PatchZ'])]\n",
    "df = summary_df.groupby(['mouse', 'session', 'patch_label', 's_patch_label','patch_number']).is_choice.sum().reset_index()\n",
    "for mouse in df.mouse.unique():\n",
    "    fig, axes = plt.subplots(1, 1, figsize=(14, 5))\n",
    "    ax = axes\n",
    "    sns.barplot(data=df.loc[df.mouse == mouse], x='session', y='is_choice', hue='s_patch_label', palette=color_dict_label,ax=ax)\n",
    "    ax.set_xticklabels(ax.get_xticklabels(), rotation=45)\n",
    "    plt.title(f\"Mouse {mouse}\")\n",
    "    sns.despine()\n",
    "    plt.legend(title='Odor', loc='upper right', bbox_to_anchor=(1.2, 1))\n",
    "    plt.show()"
   ]
  },
  {
   "cell_type": "code",
   "execution_count": null,
   "id": "8622e4d8",
   "metadata": {},
   "outputs": [],
   "source": [
    "fig, ax = plt.subplots(figsize=(10, 5))\n",
    "sum_df.sort_values(by=['session'], inplace=True)\n",
    "df = sum_df.groupby(['mouse', 'session', 's_patch_label']).agg({'fraction_visited': 'mean'}).reset_index()\n",
    "sns.barplot(x='s_patch_label', y='fraction_visited', hue='session', data=df, palette='Set2')\n",
    "plt.legend(bbox_to_anchor=(1.05, 1), loc='upper left')\n",
    "sns.despine()\n",
    "fig.savefig(os.path.join(results_path, f'fraction_visited_bars.pdf'), dpi=300, bbox_inches='tight')"
   ]
  },
  {
   "cell_type": "code",
   "execution_count": null,
   "id": "a53b72d9",
   "metadata": {},
   "outputs": [],
   "source": [
    "fig, ax = plt.subplots(figsize=(7, 5))\n",
    "sns.lineplot(data = sum_df, x='session', y='fraction_visited', hue='s_patch_label', palette=color_dict_label, marker='o')\n",
    "plt.legend(bbox_to_anchor=(1.05, 1), loc='upper left')\n",
    "plt.xticks(rotation=45, ha='right')\n",
    "plt.yticks(np.arange(0, 1.1, 0.5))\n",
    "sns.despine()\n",
    "fig.savefig(os.path.join(results_path, f'fraction_visited.pdf'), dpi=300, bbox_inches='tight')"
   ]
  },
  {
   "cell_type": "code",
   "execution_count": null,
   "id": "f5270efe",
   "metadata": {},
   "outputs": [],
   "source": [
    "grid_mouse_y_variable_x_session(sum_df, variable= 'fraction_visited')"
   ]
  },
  {
   "cell_type": "code",
   "execution_count": null,
   "id": "f91f5724",
   "metadata": {},
   "outputs": [],
   "source": [
    "summary_df = summary_df.loc[summary_df.session >= '2025-05-01']"
   ]
  },
  {
   "cell_type": "code",
   "execution_count": null,
   "id": "91b9dcc7",
   "metadata": {},
   "outputs": [],
   "source": [
    "fig, ax = plt.subplots(figsize=(5, 5))\n",
    "plot_df = summary_df.groupby(['mouse', 'session', 's_patch_label', 'patch_number']).agg({'consecutive_failures': 'max'}).reset_index()\n",
    "plot_df = plot_df.groupby(['mouse',  's_patch_label']).agg({'consecutive_failures': 'mean'}).reset_index()\n",
    "sns.boxplot(data=plot_df, x='s_patch_label', y='consecutive_failures', palette=color_dict_label, zorder=10, order=['S', 'D', 'N'], width=0.5, fliersize=0)\n",
    "sns.stripplot(data=plot_df, x='s_patch_label', y='consecutive_failures', color='black', order=['S', 'D', 'N'], zorder=11, jitter=True)\n",
    "plt.ylim(0, 2)\n",
    "plt.xlabel('Patch Type')\n",
    "plt.ylabel('Consecutive Failures')\n",
    "plt.yticks(np.arange(0, 2.1, 0.5))\n",
    "sns.despine()"
   ]
  },
  {
   "cell_type": "code",
   "execution_count": null,
   "id": "c7c3ef22",
   "metadata": {},
   "outputs": [],
   "source": [
    "\n",
    "fig, ax = plt.subplots(figsize=(5, 5))\n",
    "plot_df = summary_df.groupby(['mouse', 'session', 's_patch_label', 'patch_number']).agg({'site_number': 'max'}).reset_index()\n",
    "plot_df = plot_df.groupby(['mouse',  's_patch_label']).agg({'site_number': 'mean'}).reset_index()\n",
    "sns.boxplot(data=plot_df, x='s_patch_label', y='site_number', palette=color_dict_label, zorder=10, order=['S', 'D', 'N'], width=0.5, fliersize=0)\n",
    "sns.stripplot(data=plot_df, x='s_patch_label', y='site_number', color='black', zorder=11, order=['S', 'D', 'N'], jitter=True)\n",
    "plt.ylim(0, 7)\n",
    "plt.xlabel('Patch Type')\n",
    "plt.ylabel('Total stops')\n",
    "sns.despine()"
   ]
  },
  {
   "cell_type": "code",
   "execution_count": null,
   "id": "d831cca1",
   "metadata": {},
   "outputs": [],
   "source": [
    "patch_df = summary_df.groupby(['mouse','s_patch_label']).agg({'patch_number': 'nunique'}).reset_index()\n",
    "final_df = pd.merge(summary_df, patch_df, on=['mouse','s_patch_label'], how='left', suffixes=('', '_attempted'))\n",
    "final_df = final_df.groupby(['mouse', 'site_number', 's_patch_label']).agg({'patch_number': 'nunique','patch_number_attempted': 'mean'}).reset_index()\n",
    "final_df['fraction_visited'] = final_df['patch_number'] / final_df['patch_number_attempted']\n",
    "\n",
    "# Remove rows where site_number is 0 so everything is looking at stops\n",
    "new_df = final_df.loc[final_df.site_number != 0]"
   ]
  },
  {
   "cell_type": "code",
   "execution_count": null,
   "id": "8e96fe50",
   "metadata": {},
   "outputs": [],
   "source": [
    "fig, ax= plt.subplots(1, 1, figsize=(4, 4), sharey=True)\n",
    "\n",
    "sns.lineplot(data=new_df, x='site_number', y='fraction_visited', \n",
    "                hue='s_patch_label', ci='sd', ax=ax, legend=False, palette=color_dict_label, marker='o')\n",
    "\n",
    "ax.set_xlim(0, 10.5)\n",
    "ax.set_title(f'All mice (N=12)')\n",
    "ax.set_xlabel('Stops')\n",
    "ax.set_ylabel('Fraction visited')\n",
    "ax.set_xticks(np.arange(1, 11, 3))\n",
    "ax.set_yticks(np.arange(0, 1.1, 0.5))\n",
    "sns.despine()\n",
    "plt.tight_layout()\n",
    "fig.savefig(os.path.join(results_path, f'fraction_visited_vs_stops_all_mice.pdf'), dpi=300, bbox_inches='tight')"
   ]
  },
  {
   "cell_type": "code",
   "execution_count": null,
   "id": "818b93f8",
   "metadata": {},
   "outputs": [],
   "source": [
    "fig, axes = plt.subplots(5, 3, figsize=(12, 20))\n",
    "for ax, mouse in zip(axes.flatten(), new_df.mouse.unique()):\n",
    "    sns.lineplot(\n",
    "        data=new_df.loc[(new_df.mouse == mouse)],\n",
    "        x='site_number',\n",
    "        y='fraction_visited',\n",
    "        hue='s_patch_label',\n",
    "        ax=ax,\n",
    "        legend=False,\n",
    "        palette=color_dict_label,\n",
    "        marker='o'\n",
    "    )\n",
    "\n",
    "    ax.set_xlim(0, 10)\n",
    "    ax.set_title(f'Mouse {mouse}')\n",
    "    ax.set_xlabel('Odor site number')\n",
    "    ax.set_ylabel('Fraction visited')\n",
    "    ax.set_xticks(np.arange(1, 11, 3))\n",
    "    ax.set_yticks(np.arange(0, 1.1, 0.5))\n",
    "    sns.despine()\n",
    "\n",
    "\n",
    "plt.tight_layout()\n",
    "fig.savefig(os.path.join(results_path, f'fraction_visited_by_mouse.pdf'), dpi=300, bbox_inches='tight')"
   ]
  }
 ],
 "metadata": {
  "kernelspec": {
   "display_name": ".venv",
   "language": "python",
   "name": "python3"
  },
  "language_info": {
   "codemirror_mode": {
    "name": "ipython",
    "version": 3
   },
   "file_extension": ".py",
   "mimetype": "text/x-python",
   "name": "python",
   "nbconvert_exporter": "python",
   "pygments_lexer": "ipython3",
   "version": "3.12.7"
  }
 },
 "nbformat": 4,
 "nbformat_minor": 5
}
