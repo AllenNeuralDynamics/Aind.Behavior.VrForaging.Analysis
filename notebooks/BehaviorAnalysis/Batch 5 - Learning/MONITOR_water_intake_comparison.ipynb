{
 "cells": [
  {
   "cell_type": "code",
   "execution_count": null,
   "id": "3f523183",
   "metadata": {},
   "outputs": [],
   "source": [
    "# IPython magig  tools\n",
    "%load_ext autoreload\n",
    "%autoreload 2\n",
    "\n",
    "from aind_vr_foraging_analysis.utils.parsing import data_access\n",
    "import aind_vr_foraging_analysis.data_io as data_io\n",
    "import os\n",
    "import seaborn as sns\n",
    "\n",
    "# Plotting libraries\n",
    "import pandas as pd\n",
    "import warnings\n",
    "pd.options.mode.chained_assignment = None  # Ignore SettingWithCopyWarning\n",
    "warnings.simplefilter(action='ignore', category=FutureWarning)\n",
    "warnings.simplefilter(\"ignore\", UserWarning)\n",
    "warnings.filterwarnings(\"ignore\", category=RuntimeWarning)\n",
    "import matplotlib.pyplot as plt\n",
    "\n",
    "foraging_figures = r'C:\\Users\\tiffany.ona\\OneDrive - Allen Institute\\Documents'"
   ]
  },
  {
   "cell_type": "code",
   "execution_count": null,
   "id": "836a4e60",
   "metadata": {},
   "outputs": [],
   "source": [
    "date_string = \"2024-4-1\"\n",
    "mouse_list = ['754570','754579','754567','754580','754559','754560','754577',\n",
    "              '754566','754571','754572','754573','754574','754575', \n",
    "              '754582','745302','745305','745301',\n",
    "              \n",
    "              \"715866\", \"713578\", \"707349\", \"716455\", \n",
    "              \"716458\",\"715865\",\"715869\",\"713545\",\"715867\",\n",
    "              \"715870\",\"694569\", \n",
    "              \n",
    "              '754574', '789914', '789915', '789923', '789917', \n",
    "               '789913', '789909', '789910', '789911', '789921', \n",
    "               '789918', '789919', '789907', '789903', '789925', \n",
    "               '789924', '789926', '789908']\n",
    "\n",
    "experiment_list = { 1: 'pilot',\n",
    "                    2 : 'volume_manipulation',\n",
    "                   3: 'global_reward_rate_patches', \n",
    "                   4: 'global_reward_rate_distance_friction',\n",
    "                   5 : 'learning_reversals'}"
   ]
  },
  {
   "cell_type": "code",
   "execution_count": null,
   "id": "20518bd0",
   "metadata": {},
   "outputs": [],
   "source": [
    "results = []\n",
    "\n",
    "for mouse in mouse_list:\n",
    "    print(f\"Loading {mouse}...\")\n",
    "\n",
    "    session_paths = data_access.find_sessions_relative_to_date(\n",
    "        mouse=mouse,\n",
    "        date_string=date_string,\n",
    "        when='on_or_after',\n",
    "    )\n",
    "\n",
    "    # Determine batch based on mouse number\n",
    "    mouse_int = int(mouse)\n",
    "    if mouse == 754574 and date_string >= \"2025-4-1\":\n",
    "        batch = 5\n",
    "    elif mouse_int > 760000:\n",
    "        batch = 5\n",
    "    elif mouse_int > 740000:\n",
    "        batch = 4\n",
    "    elif mouse_int > 700000:\n",
    "        batch = 3\n",
    "    elif mouse_int > 690000:\n",
    "        batch = 2\n",
    "    else:\n",
    "        batch = 1\n",
    "    session_n = 0\n",
    "    for session_path in session_paths:\n",
    "        try:\n",
    "            all_epochs, stream_data, data = data_access.load_session(session_path)\n",
    "            reward_sum = all_epochs.loc[all_epochs['is_reward'] == 1, 'reward_amount'].sum()\n",
    "\n",
    "            results.append({\n",
    "                'water': reward_sum,\n",
    "                'length': all_epochs['length'].sum(),\n",
    "                'mouse': mouse,\n",
    "                'batch': batch,\n",
    "                'session_n': session_n\n",
    "            })\n",
    "            session_n+=1\n",
    "\n",
    "        except Exception as e:\n",
    "            print(f\"Error loading {session_path}: {e}\")\n",
    "            continue\n",
    "\n",
    "# Final DataFrame\n",
    "cum_df = pd.DataFrame(results)\n"
   ]
  },
  {
   "cell_type": "code",
   "execution_count": null,
   "id": "377def83",
   "metadata": {},
   "outputs": [],
   "source": [
    "cum_df = pd.DataFrame(results)"
   ]
  },
  {
   "cell_type": "code",
   "execution_count": null,
   "id": "485ba83e",
   "metadata": {},
   "outputs": [],
   "source": [
    "test_df = cum_df.groupby(['mouse', 'session_n', 'batch']).length.sum().reset_index()"
   ]
  },
  {
   "cell_type": "code",
   "execution_count": null,
   "id": "f45785ee",
   "metadata": {},
   "outputs": [],
   "source": [
    "sns.lineplot(data=test_df, x='session_n', y='length', hue='batch',  marker='o', lw=2)\n",
    "plt.legend(bbox_to_anchor=(1.05, 1), loc='upper left', ncol = 3)"
   ]
  },
  {
   "cell_type": "code",
   "execution_count": null,
   "id": "2171ae8d",
   "metadata": {},
   "outputs": [],
   "source": [
    "cum_df.to_csv(os.path.join(foraging_figures, f\"water_{date_string}.csv\"), index=False)"
   ]
  },
  {
   "cell_type": "code",
   "execution_count": null,
   "id": "26777f13",
   "metadata": {},
   "outputs": [],
   "source": [
    "sns.lineplot(data=cum_df.loc[cum_df.batch!= 2], x='session_n', y='water', hue='batch', palette='Set1')\n",
    "sns.despine()"
   ]
  },
  {
   "cell_type": "code",
   "execution_count": null,
   "id": "3d4f318e",
   "metadata": {},
   "outputs": [],
   "source": [
    "sns.lineplot(data=cum_df.loc[cum_df.batch== 5], x='session_n', y='water', hue='mouse', palette='Set1')\n",
    "plt.legend(bbox_to_anchor=(1.05, 1), loc='upper left')  \n",
    "sns.despine()"
   ]
  }
 ],
 "metadata": {
  "kernelspec": {
   "display_name": ".venv",
   "language": "python",
   "name": "python3"
  },
  "language_info": {
   "codemirror_mode": {
    "name": "ipython",
    "version": 3
   },
   "file_extension": ".py",
   "mimetype": "text/x-python",
   "name": "python",
   "nbconvert_exporter": "python",
   "pygments_lexer": "ipython3",
   "version": "3.12.7"
  }
 },
 "nbformat": 4,
 "nbformat_minor": 5
}
