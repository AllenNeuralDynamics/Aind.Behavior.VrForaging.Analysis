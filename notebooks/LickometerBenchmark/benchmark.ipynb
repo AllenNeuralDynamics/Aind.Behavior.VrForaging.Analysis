{
 "cells": [
  {
   "cell_type": "code",
   "execution_count": null,
   "metadata": {},
   "outputs": [],
   "source": [
    "import numpy as np\n",
    "import matplotlib.pyplot as plt\n",
    "import pandas as pd\n",
    "from pathlib import Path\n",
    "import glob\n",
    "import seaborn as sns\n",
    "sns.set_context('talk')"
   ]
  },
  {
   "cell_type": "code",
   "execution_count": null,
   "metadata": {},
   "outputs": [],
   "source": [
    "path = Path(r\"Z:\\scratch\\vr-foraging\\scratchpad\\data_lickometer\\Test3\")\n",
    "\n",
    "camera_lick_path = glob.glob(str(path / '*cameraaverage*'))[0]\n",
    "camera_metadata_path = glob.glob(str(path / '*camerametadata*'))[0]\n",
    "frame_timestamp_path = glob.glob(str(path / '*frametimestamp*'))[0]\n",
    "lickometer_events_path = glob.glob(str(path / '*lickometer*'))[0]\n",
    "behavior_events_path = glob.glob(str(path / '*ttllick*'))[0]"
   ]
  },
  {
   "cell_type": "code",
   "execution_count": null,
   "metadata": {},
   "outputs": [],
   "source": [
    "camera_lick = np.loadtxt(camera_lick_path,\n",
    "                 delimiter=\",\")[:,0]\n",
    "threshold = 8\n",
    "crosses = (camera_lick < threshold).astype(int)\n",
    "lick_onset = np.where(np.diff(crosses) == 1)[0]\n",
    "\n",
    "frame_time = np.loadtxt(frame_timestamp_path)[1:]\n",
    "\n",
    "behavior_lick_time = np.loadtxt(behavior_events_path)\n",
    "\n",
    "\n",
    "win_size = 0.3\n",
    "win_start = 3826.1\n",
    "plt.figure(figsize=(12,5))\n",
    "plt.plot(frame_time, camera_lick)\n",
    "plt.scatter(behavior_lick_time, np.ones(len(behavior_lick_time))*threshold, c='g', s=20)\n",
    "plt.xlabel(\"Time\")\n",
    "plt.ylabel(\"Pixel Intensity\")\n",
    "plt.xlim((win_start, win_start+win_size))\n",
    "plt.grid()\n",
    "\n"
   ]
  },
  {
   "cell_type": "code",
   "execution_count": null,
   "metadata": {},
   "outputs": [],
   "source": [
    "lickometer_events = pd.read_csv(lickometer_events_path, header=None, skiprows=0, names=[\"state\", \"time\"])\n",
    "\n",
    "\n",
    "plt.figure()\n",
    "plt.hist(lickometer_events[\"time\"].values -  behavior_lick_time)\n",
    "plt.xlabel(\"Time Difference (s)\")\n",
    "plt.ylabel(\"Count\")\n",
    "\n",
    "np.mean(lickometer_events[\"time\"].values -  behavior_lick_time)"
   ]
  },
  {
   "cell_type": "code",
   "execution_count": null,
   "metadata": {},
   "outputs": [],
   "source": []
  }
 ],
 "metadata": {
  "kernelspec": {
   "display_name": ".venv",
   "language": "python",
   "name": "python3"
  },
  "language_info": {
   "codemirror_mode": {
    "name": "ipython",
    "version": 3
   },
   "file_extension": ".py",
   "mimetype": "text/x-python",
   "name": "python",
   "nbconvert_exporter": "python",
   "pygments_lexer": "ipython3",
   "version": "3.11.5"
  }
 },
 "nbformat": 4,
 "nbformat_minor": 2
}
