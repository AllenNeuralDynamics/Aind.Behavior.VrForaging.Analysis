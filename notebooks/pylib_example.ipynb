{
 "cells": [
  {
   "cell_type": "code",
   "execution_count": null,
   "metadata": {},
   "outputs": [],
   "source": [
    "import sys\n",
    "import pandas as pd\n",
    "import numpy as np\n",
    "import matplotlib.pyplot as plt\n",
    "\n",
    "sys.path.append('../src/')\n",
    "from bonsai import load_bonsai_config\n",
    "load_bonsai_config(r\"C:\\git\\AllenNeuralDynamics\\aind-vr-foraging\\Bonsai\")\n",
    "import harp\n",
    "import data_io\n"
   ]
  },
  {
   "cell_type": "code",
   "execution_count": null,
   "metadata": {},
   "outputs": [],
   "source": [
    "from pathlib import Path\n",
    "import glob\n",
    "p = Path(r\"Z:\\scratch\\vr-foraging\\672107\\20230928T134616\\SoftwareEvents\")\n",
    "sf = data_io.SoftwareEventSource(p)\n",
    "sf.streams.ActiveSite.json_normalize()\n"
   ]
  },
  {
   "cell_type": "code",
   "execution_count": null,
   "metadata": {},
   "outputs": [],
   "source": [
    "HarpBehavior = harp.HarpDevice(\"Behavior\")"
   ]
  },
  {
   "cell_type": "code",
   "execution_count": null,
   "metadata": {},
   "outputs": [],
   "source": [
    "root = r\"Z:\\scratch\\vr-foraging\\672107\\20230929T111709\\Behavior\"\n",
    "behaviordata = data_io.HarpSource(HarpBehavior, Path(root), autoload=False)\n"
   ]
  },
  {
   "cell_type": "code",
   "execution_count": null,
   "metadata": {},
   "outputs": [],
   "source": [
    "behaviordata.populate_streams(autoload=True)\n"
   ]
  },
  {
   "cell_type": "code",
   "execution_count": null,
   "metadata": {},
   "outputs": [],
   "source": [
    "behaviordata.streams.Register__Camera0Frame.data"
   ]
  },
  {
   "cell_type": "code",
   "execution_count": null,
   "metadata": {},
   "outputs": [],
   "source": [
    "behaviordata.streams.Register__Camera0Frame.data\n",
    "HarpBehavior.module.DigitalInputs.DIPort0\n",
    "#Implement unpack_enum_flag"
   ]
  },
  {
   "cell_type": "code",
   "execution_count": null,
   "metadata": {},
   "outputs": [],
   "source": [
    "behaviordata.streams.Register__DigitalInputState.data"
   ]
  },
  {
   "cell_type": "code",
   "execution_count": null,
   "metadata": {},
   "outputs": [],
   "source": [
    "\n",
    "payloads = HarpBehavior.file_to_payloads(filename=behaviordata.streams.Register__DigitalInputState.path)\n",
    "\n",
    "print(payloads[0].Seconds)\n",
    "print(payloads[0].Value)\n",
    "print(payloads[0].Value.HasFlag(HarpBehavior.module.DigitalInputs.DIPort0))\n",
    "\n",
    "table = HarpBehavior.file_to_dataframe(filename=behaviordata.streams.Register__DigitalInputState.path)\n",
    "table"
   ]
  },
  {
   "cell_type": "code",
   "execution_count": null,
   "metadata": {},
   "outputs": [],
   "source": [
    "harp.read_harp_bin(behaviordata.streams.Register__AnalogData.path)"
   ]
  },
  {
   "cell_type": "code",
   "execution_count": null,
   "metadata": {},
   "outputs": [],
   "source": []
  }
 ],
 "metadata": {
  "kernelspec": {
   "display_name": "Python 3",
   "language": "python",
   "name": "python3"
  },
  "language_info": {
   "codemirror_mode": {
    "name": "ipython",
    "version": 3
   },
   "file_extension": ".py",
   "mimetype": "text/x-python",
   "name": "python",
   "nbconvert_exporter": "python",
   "pygments_lexer": "ipython3",
   "version": "3.11.5"
  },
  "orig_nbformat": 4
 },
 "nbformat": 4,
 "nbformat_minor": 2
}
