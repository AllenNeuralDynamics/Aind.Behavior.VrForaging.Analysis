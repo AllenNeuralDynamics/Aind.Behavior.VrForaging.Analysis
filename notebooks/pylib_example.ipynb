{
 "cells": [
  {
   "cell_type": "code",
   "execution_count": 5,
   "metadata": {},
   "outputs": [],
   "source": [
    "import sys\n",
    "import pandas as pd\n",
    "import numpy as np\n",
    "import matplotlib.pyplot as plt\n",
    "\n",
    "sys.path.append('../src/')\n",
    "from harp.bonsai import load_bonsai_config\n",
    "load_bonsai_config(r\"C:\\git\\AllenNeuralDynamics\\aind-vr-foraging\\Bonsai\")\n",
    "from harp.io import read_harp_bin, load_harp_messages_from_bin"
   ]
  },
  {
   "cell_type": "code",
   "execution_count": 95,
   "metadata": {},
   "outputs": [],
   "source": [
    "import clr\n",
    "clr.AddReference(\"Bonsai.Harp\")\n",
    "clr.AddReference(\"Harp.Behavior\")\n",
    "import System as SystemCs\n",
    "import Bonsai.Harp as harpcore\n",
    "import Harp.Behavior as harpbehavior"
   ]
  },
  {
   "cell_type": "code",
   "execution_count": 134,
   "metadata": {},
   "outputs": [],
   "source": [
    "def get_payload_method(register: int):\n",
    "    _type = harpbehavior.Device.RegisterMap[register]\n",
    "    GetPayloadMethod = _type.GetMethod(\"GetTimestampedPayload\")\n",
    "    l = lambda msg : GetPayloadMethod.Invoke(None, [harpcore.HarpMessage(msg)])\n",
    "    return l\n",
    "\n",
    "def bytes_to_harp_message(row):\n",
    "    return lambda x : harpcore.HarpMessage(row.tobytes())\n",
    "\n",
    "def array_to_harp_messages(data: np.array) -> np.array:\n",
    "    return np.apply_along_axis(bytes_to_harp_message, axis=1, arr=data)\n",
    "\n",
    "def array_to_payloads(data: np.array, address = None) -> np.array:\n",
    "    if address is None:\n",
    "        address = data[0].Address\n",
    "    return data.apply(get_payload_method(address), axis=1)\n",
    "\n",
    "def file_to_payloads(filename: str, address = None) -> np.array:\n",
    "    data = load_harp_messages_from_bin(filename)\n",
    "    arr = array_to_harp_messages(data)\n",
    "    return arr\n"
   ]
  },
  {
   "cell_type": "code",
   "execution_count": 135,
   "metadata": {},
   "outputs": [
    {
     "ename": "TypeError",
     "evalue": "_bytes_to_harp_message() takes 0 positional arguments but 1 was given",
     "output_type": "error",
     "traceback": [
      "\u001b[1;31m---------------------------------------------------------------------------\u001b[0m",
      "\u001b[1;31mTypeError\u001b[0m                                 Traceback (most recent call last)",
      "\u001b[1;32mc:\\git\\AllenNeuralDynamics\\aind-vr-foraging-analysis\\notebooks\\pylib_example.ipynb Cell 4\u001b[0m line \u001b[0;36m6\n\u001b[0;32m      <a href='vscode-notebook-cell:/c%3A/git/AllenNeuralDynamics/aind-vr-foraging-analysis/notebooks/pylib_example.ipynb#W2sZmlsZQ%3D%3D?line=3'>4</a>\u001b[0m filepath \u001b[39m=\u001b[39m \u001b[39mf\u001b[39m\u001b[39m\"\u001b[39m\u001b[39m{\u001b[39;00mroot\u001b[39m}\u001b[39;00m\u001b[39m//\u001b[39m\u001b[39m{\u001b[39;00mdevice\u001b[39m}\u001b[39;00m\u001b[39m//register__\u001b[39m\u001b[39m{\u001b[39;00mregister\u001b[39m}\u001b[39;00m\u001b[39m.bin\u001b[39m\u001b[39m\"\u001b[39m\n\u001b[0;32m      <a href='vscode-notebook-cell:/c%3A/git/AllenNeuralDynamics/aind-vr-foraging-analysis/notebooks/pylib_example.ipynb#W2sZmlsZQ%3D%3D?line=4'>5</a>\u001b[0m data \u001b[39m=\u001b[39m read_harp_bin(filepath)\n\u001b[1;32m----> <a href='vscode-notebook-cell:/c%3A/git/AllenNeuralDynamics/aind-vr-foraging-analysis/notebooks/pylib_example.ipynb#W2sZmlsZQ%3D%3D?line=5'>6</a>\u001b[0m a \u001b[39m=\u001b[39m file_to_payloads(filepath)\n\u001b[0;32m      <a href='vscode-notebook-cell:/c%3A/git/AllenNeuralDynamics/aind-vr-foraging-analysis/notebooks/pylib_example.ipynb#W2sZmlsZQ%3D%3D?line=6'>7</a>\u001b[0m a\n",
      "\u001b[1;32mc:\\git\\AllenNeuralDynamics\\aind-vr-foraging-analysis\\notebooks\\pylib_example.ipynb Cell 4\u001b[0m line \u001b[0;36m2\n\u001b[0;32m     <a href='vscode-notebook-cell:/c%3A/git/AllenNeuralDynamics/aind-vr-foraging-analysis/notebooks/pylib_example.ipynb#W2sZmlsZQ%3D%3D?line=21'>22</a>\u001b[0m \u001b[39mdef\u001b[39;00m \u001b[39mfile_to_payloads\u001b[39m(filename: \u001b[39mstr\u001b[39m, address \u001b[39m=\u001b[39m \u001b[39mNone\u001b[39;00m) \u001b[39m-\u001b[39m\u001b[39m>\u001b[39m np\u001b[39m.\u001b[39marray:\n\u001b[0;32m     <a href='vscode-notebook-cell:/c%3A/git/AllenNeuralDynamics/aind-vr-foraging-analysis/notebooks/pylib_example.ipynb#W2sZmlsZQ%3D%3D?line=22'>23</a>\u001b[0m     data \u001b[39m=\u001b[39m load_harp_messages_from_bin(filename)\n\u001b[1;32m---> <a href='vscode-notebook-cell:/c%3A/git/AllenNeuralDynamics/aind-vr-foraging-analysis/notebooks/pylib_example.ipynb#W2sZmlsZQ%3D%3D?line=23'>24</a>\u001b[0m     arr \u001b[39m=\u001b[39m array_to_harp_messages(data)\n\u001b[0;32m     <a href='vscode-notebook-cell:/c%3A/git/AllenNeuralDynamics/aind-vr-foraging-analysis/notebooks/pylib_example.ipynb#W2sZmlsZQ%3D%3D?line=24'>25</a>\u001b[0m     \u001b[39mreturn\u001b[39;00m arr\n",
      "\u001b[1;32mc:\\git\\AllenNeuralDynamics\\aind-vr-foraging-analysis\\notebooks\\pylib_example.ipynb Cell 4\u001b[0m line \u001b[0;36m1\n\u001b[0;32m     <a href='vscode-notebook-cell:/c%3A/git/AllenNeuralDynamics/aind-vr-foraging-analysis/notebooks/pylib_example.ipynb#W2sZmlsZQ%3D%3D?line=13'>14</a>\u001b[0m \u001b[39mdef\u001b[39;00m \u001b[39marray_to_harp_messages\u001b[39m(data: np\u001b[39m.\u001b[39marray) \u001b[39m-\u001b[39m\u001b[39m>\u001b[39m np\u001b[39m.\u001b[39marray:\n\u001b[1;32m---> <a href='vscode-notebook-cell:/c%3A/git/AllenNeuralDynamics/aind-vr-foraging-analysis/notebooks/pylib_example.ipynb#W2sZmlsZQ%3D%3D?line=14'>15</a>\u001b[0m     \u001b[39mreturn\u001b[39;00m np\u001b[39m.\u001b[39;49mapply_along_axis(bytes_to_harp_message, axis\u001b[39m=\u001b[39;49m\u001b[39m1\u001b[39;49m, arr\u001b[39m=\u001b[39;49mdata)\n",
      "File \u001b[1;32mc:\\git\\AllenNeuralDynamics\\aind-vr-foraging-analysis\\.venv\\Lib\\site-packages\\numpy\\lib\\shape_base.py:379\u001b[0m, in \u001b[0;36mapply_along_axis\u001b[1;34m(func1d, axis, arr, *args, **kwargs)\u001b[0m\n\u001b[0;32m    375\u001b[0m \u001b[39mexcept\u001b[39;00m \u001b[39mStopIteration\u001b[39;00m:\n\u001b[0;32m    376\u001b[0m     \u001b[39mraise\u001b[39;00m \u001b[39mValueError\u001b[39;00m(\n\u001b[0;32m    377\u001b[0m         \u001b[39m'\u001b[39m\u001b[39mCannot apply_along_axis when any iteration dimensions are 0\u001b[39m\u001b[39m'\u001b[39m\n\u001b[0;32m    378\u001b[0m     ) \u001b[39mfrom\u001b[39;00m \u001b[39mNone\u001b[39;00m\n\u001b[1;32m--> 379\u001b[0m res \u001b[39m=\u001b[39m asanyarray(func1d(inarr_view[ind0], \u001b[39m*\u001b[39;49margs, \u001b[39m*\u001b[39;49m\u001b[39m*\u001b[39;49mkwargs))\n\u001b[0;32m    381\u001b[0m \u001b[39m# build a buffer for storing evaluations of func1d.\u001b[39;00m\n\u001b[0;32m    382\u001b[0m \u001b[39m# remove the requested axis, and add the new ones on the end.\u001b[39;00m\n\u001b[0;32m    383\u001b[0m \u001b[39m# laid out so that each write is contiguous.\u001b[39;00m\n\u001b[0;32m    384\u001b[0m \u001b[39m# for a tuple index inds, buff[inds] = func1d(inarr_view[inds])\u001b[39;00m\n\u001b[0;32m    385\u001b[0m buff \u001b[39m=\u001b[39m zeros(inarr_view\u001b[39m.\u001b[39mshape[:\u001b[39m-\u001b[39m\u001b[39m1\u001b[39m] \u001b[39m+\u001b[39m res\u001b[39m.\u001b[39mshape, res\u001b[39m.\u001b[39mdtype)\n",
      "\u001b[1;32mc:\\git\\AllenNeuralDynamics\\aind-vr-foraging-analysis\\notebooks\\pylib_example.ipynb Cell 4\u001b[0m line \u001b[0;36m1\n\u001b[0;32m     <a href='vscode-notebook-cell:/c%3A/git/AllenNeuralDynamics/aind-vr-foraging-analysis/notebooks/pylib_example.ipynb#W2sZmlsZQ%3D%3D?line=9'>10</a>\u001b[0m \u001b[39mdef\u001b[39;00m \u001b[39mbytes_to_harp_message\u001b[39m(row):\n\u001b[1;32m---> <a href='vscode-notebook-cell:/c%3A/git/AllenNeuralDynamics/aind-vr-foraging-analysis/notebooks/pylib_example.ipynb#W2sZmlsZQ%3D%3D?line=10'>11</a>\u001b[0m     \u001b[39mreturn\u001b[39;00m _bytes_to_harp_message(row)\n",
      "\u001b[1;31mTypeError\u001b[0m: _bytes_to_harp_message() takes 0 positional arguments but 1 was given"
     ]
    }
   ],
   "source": [
    "root = r\"Z:\\scratch\\vr-foraging\\672107\\20230920T125148\"\n",
    "device = \"behavior\"\n",
    "register = 32\n",
    "filepath = f\"{root}//{device}//register__{register}.bin\"\n",
    "data = read_harp_bin(filepath)\n",
    "a = file_to_payloads(filepath)\n",
    "a"
   ]
  },
  {
   "cell_type": "code",
   "execution_count": 121,
   "metadata": {},
   "outputs": [
    {
     "name": "stdout",
     "output_type": "stream",
     "text": [
      "97732.489632\n",
      "DIPort0, DIPort2\n",
      "True\n"
     ]
    }
   ],
   "source": [
    "root = r\"Z:\\scratch\\vr-foraging\\672107\\20230920T125148\"\n",
    "device = \"behavior\"\n",
    "register = 32\n",
    "filepath = f\"{root}//{device}//register__{register}.bin\"\n",
    "data = read_harp_bin(filepath)\n",
    "\n",
    "msg = load_harp_messages_from_bin(filepath)\n",
    "onemessage = msg[1].data.tobytes()\n",
    "GetPayloadMethod = get_payload_method(register)\n",
    "payload = GetPayloadMethod(onemessage)\n",
    "print(payload.Seconds)\n",
    "print(payload.Value)\n",
    "print(payload.Value.HasFlag(harpbehavior.DigitalInputs.DIPort0))\n"
   ]
  },
  {
   "cell_type": "code",
   "execution_count": 123,
   "metadata": {},
   "outputs": [
    {
     "name": "stdout",
     "output_type": "stream",
     "text": [
      "97725.061984\n",
      "-5\n"
     ]
    }
   ],
   "source": [
    "register = 44\n",
    "filepath = f\"{root}//{device}//register__{register}.bin\"\n",
    "data = read_harp_bin(filepath)\n",
    "\n",
    "msg = load_harp_messages_from_bin(filepath)\n",
    "onemessage = msg[1].data.tobytes()\n",
    "GetPayloadMethod = get_payload_method(register)\n",
    "payload = GetPayloadMethod(onemessage)\n",
    "print(payload.Seconds)\n",
    "print(payload.Value.Encoder)\n"
   ]
  },
  {
   "cell_type": "code",
   "execution_count": null,
   "metadata": {},
   "outputs": [],
   "source": []
  }
 ],
 "metadata": {
  "kernelspec": {
   "display_name": "Python 3",
   "language": "python",
   "name": "python3"
  },
  "language_info": {
   "codemirror_mode": {
    "name": "ipython",
    "version": 3
   },
   "file_extension": ".py",
   "mimetype": "text/x-python",
   "name": "python",
   "nbconvert_exporter": "python",
   "pygments_lexer": "ipython3",
   "version": "3.11.5"
  },
  "orig_nbformat": 4
 },
 "nbformat": 4,
 "nbformat_minor": 2
}
