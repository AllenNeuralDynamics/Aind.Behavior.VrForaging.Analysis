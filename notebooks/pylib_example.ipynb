{
 "cells": [
  {
   "cell_type": "code",
   "execution_count": 8,
   "metadata": {},
   "outputs": [],
   "source": [
    "import sys\n",
    "import pandas as pd\n",
    "import numpy as np\n",
    "import matplotlib.pyplot as plt\n",
    "\n",
    "sys.path.append('../src/')\n",
    "from harp.bonsai import load_bonsai_config\n",
    "load_bonsai_config(r\"C:\\git\\AllenNeuralDynamics\\aind-vr-foraging\\Bonsai\")\n",
    "from harp.io import read_harp_bin"
   ]
  },
  {
   "cell_type": "code",
   "execution_count": 17,
   "metadata": {},
   "outputs": [],
   "source": [
    "import clr\n",
    "clr.AddReference(\"Bonsai.Harp\")\n",
    "clr.AddReference(\"Harp.Behavior\")\n",
    "from System import Enum\n",
    "import Bonsai.Harp as harpcore\n",
    "import Harp.Behavior as harpbehavior"
   ]
  },
  {
   "cell_type": "code",
   "execution_count": null,
   "metadata": {},
   "outputs": [],
   "source": [
    "def create_parse_reg(register: object) -> Callable:\n",
    "    method = (register.GetMethod(\"GetPayload\"))\n",
    "    ret_type = method.ReturnType\n",
    "    return lambda x: Enum.ToObject(ret_type, x)"
   ]
  },
  {
   "cell_type": "code",
   "execution_count": 19,
   "metadata": {},
   "outputs": [],
   "source": [
    "root = r\"Z:\\scratch\\vr-foraging\\672107\\20230920T125148\"\n",
    "device = \"behavior\"\n",
    "register = 32\n",
    "filepath = f\"{root}//{device}//register__{register}.bin\"\n",
    "data = read_harp_bin(filepath)"
   ]
  },
  {
   "cell_type": "code",
   "execution_count": 21,
   "metadata": {},
   "outputs": [
    {
     "name": "stderr",
     "output_type": "stream",
     "text": [
      "C:\\Users\\bruno.cruz\\AppData\\Local\\Temp\\ipykernel_5964\\1568558505.py:1: FutureWarning: DataFrame.applymap has been deprecated. Use DataFrame.map instead.\n",
      "  new_df = data.applymap(create_parse_reg(harpbehavior.Device.RegisterMap[register]))\n"
     ]
    },
    {
     "data": {
      "text/html": [
       "<div>\n",
       "<style scoped>\n",
       "    .dataframe tbody tr th:only-of-type {\n",
       "        vertical-align: middle;\n",
       "    }\n",
       "\n",
       "    .dataframe tbody tr th {\n",
       "        vertical-align: top;\n",
       "    }\n",
       "\n",
       "    .dataframe thead th {\n",
       "        text-align: right;\n",
       "    }\n",
       "</style>\n",
       "<table border=\"1\" class=\"dataframe\">\n",
       "  <thead>\n",
       "    <tr style=\"text-align: right;\">\n",
       "      <th></th>\n",
       "      <th>Value</th>\n",
       "    </tr>\n",
       "    <tr>\n",
       "      <th>Seconds</th>\n",
       "      <th></th>\n",
       "    </tr>\n",
       "  </thead>\n",
       "  <tbody>\n",
       "    <tr>\n",
       "      <th>97727.047488</th>\n",
       "      <td>DIPort2</td>\n",
       "    </tr>\n",
       "    <tr>\n",
       "      <th>97732.489632</th>\n",
       "      <td>DIPort0, DIPort2</td>\n",
       "    </tr>\n",
       "    <tr>\n",
       "      <th>97732.558368</th>\n",
       "      <td>DIPort2</td>\n",
       "    </tr>\n",
       "    <tr>\n",
       "      <th>97732.724480</th>\n",
       "      <td>DIPort0, DIPort2</td>\n",
       "    </tr>\n",
       "    <tr>\n",
       "      <th>97732.776000</th>\n",
       "      <td>DIPort2</td>\n",
       "    </tr>\n",
       "    <tr>\n",
       "      <th>...</th>\n",
       "      <td>...</td>\n",
       "    </tr>\n",
       "    <tr>\n",
       "      <th>99415.783616</th>\n",
       "      <td>DIPort2</td>\n",
       "    </tr>\n",
       "    <tr>\n",
       "      <th>99416.184512</th>\n",
       "      <td>DIPort0, DIPort2</td>\n",
       "    </tr>\n",
       "    <tr>\n",
       "      <th>99416.186272</th>\n",
       "      <td>DIPort2</td>\n",
       "    </tr>\n",
       "    <tr>\n",
       "      <th>99416.188512</th>\n",
       "      <td>DIPort0, DIPort2</td>\n",
       "    </tr>\n",
       "    <tr>\n",
       "      <th>99416.189248</th>\n",
       "      <td>DIPort2</td>\n",
       "    </tr>\n",
       "  </tbody>\n",
       "</table>\n",
       "<p>7953 rows × 1 columns</p>\n",
       "</div>"
      ],
      "text/plain": [
       "                         Value\n",
       "Seconds                       \n",
       "97727.047488           DIPort2\n",
       "97732.489632  DIPort0, DIPort2\n",
       "97732.558368           DIPort2\n",
       "97732.724480  DIPort0, DIPort2\n",
       "97732.776000           DIPort2\n",
       "...                        ...\n",
       "99415.783616           DIPort2\n",
       "99416.184512  DIPort0, DIPort2\n",
       "99416.186272           DIPort2\n",
       "99416.188512  DIPort0, DIPort2\n",
       "99416.189248           DIPort2\n",
       "\n",
       "[7953 rows x 1 columns]"
      ]
     },
     "execution_count": 21,
     "metadata": {},
     "output_type": "execute_result"
    }
   ],
   "source": [
    "new_df = data.applymap(create_parse_reg(harpbehavior.Device.RegisterMap[register]))\n",
    "new_df"
   ]
  },
  {
   "cell_type": "code",
   "execution_count": null,
   "metadata": {},
   "outputs": [],
   "source": []
  }
 ],
 "metadata": {
  "kernelspec": {
   "display_name": "Python 3",
   "language": "python",
   "name": "python3"
  },
  "language_info": {
   "codemirror_mode": {
    "name": "ipython",
    "version": 3
   },
   "file_extension": ".py",
   "mimetype": "text/x-python",
   "name": "python",
   "nbconvert_exporter": "python",
   "pygments_lexer": "ipython3",
   "version": "3.11.5"
  },
  "orig_nbformat": 4
 },
 "nbformat": 4,
 "nbformat_minor": 2
}
