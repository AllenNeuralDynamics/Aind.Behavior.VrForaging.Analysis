{
 "cells": [
  {
   "cell_type": "code",
   "execution_count": 1,
   "metadata": {},
   "outputs": [],
   "source": [
    "import sys\n",
    "import pandas as pd\n",
    "import numpy as np\n",
    "import matplotlib.pyplot as plt\n",
    "\n",
    "sys.path.append('../src/')\n",
    "from bonsai import load_bonsai_config\n",
    "load_bonsai_config(r\"C:\\git\\AllenNeuralDynamics\\aind-vr-foraging\\Bonsai\")\n",
    "import harp\n"
   ]
  },
  {
   "cell_type": "code",
   "execution_count": 2,
   "metadata": {},
   "outputs": [],
   "source": [
    "HarpBehavior = harp.Device(\"Behavior\")"
   ]
  },
  {
   "cell_type": "code",
   "execution_count": 3,
   "metadata": {},
   "outputs": [],
   "source": [
    "root = r\"Z:\\scratch\\vr-foraging\\672107\\20230920T125148\"\n",
    "device = \"behavior\"\n",
    "register = 32\n",
    "filepath = f\"{root}//{device}//register__{register}.bin\"\n"
   ]
  },
  {
   "cell_type": "code",
   "execution_count": 7,
   "metadata": {},
   "outputs": [
    {
     "name": "stdout",
     "output_type": "stream",
     "text": [
      "97727.047488\n",
      "DIPort2\n"
     ]
    },
    {
     "ename": "AttributeError",
     "evalue": "'Device' object has no attribute 'DigitalInputs'",
     "output_type": "error",
     "traceback": [
      "\u001b[1;31m---------------------------------------------------------------------------\u001b[0m",
      "\u001b[1;31mAttributeError\u001b[0m                            Traceback (most recent call last)",
      "\u001b[1;32mc:\\git\\AllenNeuralDynamics\\aind-vr-foraging-analysis\\notebooks\\pylib_example.ipynb Cell 4\u001b[0m line \u001b[0;36m5\n\u001b[0;32m      <a href='vscode-notebook-cell:/c%3A/git/AllenNeuralDynamics/aind-vr-foraging-analysis/notebooks/pylib_example.ipynb#W4sZmlsZQ%3D%3D?line=2'>3</a>\u001b[0m \u001b[39mprint\u001b[39m(payloads[\u001b[39m0\u001b[39m]\u001b[39m.\u001b[39mSeconds)\n\u001b[0;32m      <a href='vscode-notebook-cell:/c%3A/git/AllenNeuralDynamics/aind-vr-foraging-analysis/notebooks/pylib_example.ipynb#W4sZmlsZQ%3D%3D?line=3'>4</a>\u001b[0m \u001b[39mprint\u001b[39m(payloads[\u001b[39m0\u001b[39m]\u001b[39m.\u001b[39mValue)\n\u001b[1;32m----> <a href='vscode-notebook-cell:/c%3A/git/AllenNeuralDynamics/aind-vr-foraging-analysis/notebooks/pylib_example.ipynb#W4sZmlsZQ%3D%3D?line=4'>5</a>\u001b[0m \u001b[39mprint\u001b[39m(payloads[\u001b[39m0\u001b[39m]\u001b[39m.\u001b[39mValue\u001b[39m.\u001b[39mHasFlag(HarpBehavior\u001b[39m.\u001b[39;49mDigitalInputs\u001b[39m.\u001b[39mDIPort0))\n",
      "\u001b[1;31mAttributeError\u001b[0m: 'Device' object has no attribute 'DigitalInputs'"
     ]
    }
   ],
   "source": [
    "\n",
    "payloads = HarpBehavior.file_to_payloads(filename=filepath)\n",
    "\n",
    "print(payloads[0].Seconds)\n",
    "print(payloads[0].Value)\n",
    "print(payloads[0].Value.HasFlag(HarpBehavior.module.DigitalInputs.DIPort0))\n"
   ]
  },
  {
   "cell_type": "code",
   "execution_count": null,
   "metadata": {},
   "outputs": [
    {
     "name": "stdout",
     "output_type": "stream",
     "text": [
      "97725.060992\n",
      "-5\n"
     ]
    }
   ],
   "source": [
    "\n",
    "register = 44\n",
    "filepath = f\"{root}//{device}//register__{register}.bin\"\n",
    "payloads = HarpBehavior.file_to_payloads(filename=filepath)\n",
    "\n",
    "print(payloads[0].Seconds)\n",
    "print(payloads[0].Value.Encoder)\n"
   ]
  },
  {
   "cell_type": "code",
   "execution_count": null,
   "metadata": {},
   "outputs": [
    {
     "data": {
      "text/html": [
       "<div>\n",
       "<style scoped>\n",
       "    .dataframe tbody tr th:only-of-type {\n",
       "        vertical-align: middle;\n",
       "    }\n",
       "\n",
       "    .dataframe tbody tr th {\n",
       "        vertical-align: top;\n",
       "    }\n",
       "\n",
       "    .dataframe thead th {\n",
       "        text-align: right;\n",
       "    }\n",
       "</style>\n",
       "<table border=\"1\" class=\"dataframe\">\n",
       "  <thead>\n",
       "    <tr style=\"text-align: right;\">\n",
       "      <th></th>\n",
       "      <th>0</th>\n",
       "      <th>1</th>\n",
       "      <th>2</th>\n",
       "    </tr>\n",
       "    <tr>\n",
       "      <th>Seconds</th>\n",
       "      <th></th>\n",
       "      <th></th>\n",
       "      <th></th>\n",
       "    </tr>\n",
       "  </thead>\n",
       "  <tbody>\n",
       "    <tr>\n",
       "      <th>97725.060992</th>\n",
       "      <td>2</td>\n",
       "      <td>-5</td>\n",
       "      <td>898</td>\n",
       "    </tr>\n",
       "    <tr>\n",
       "      <th>97725.061984</th>\n",
       "      <td>2</td>\n",
       "      <td>-5</td>\n",
       "      <td>896</td>\n",
       "    </tr>\n",
       "    <tr>\n",
       "      <th>97725.062976</th>\n",
       "      <td>4</td>\n",
       "      <td>-5</td>\n",
       "      <td>898</td>\n",
       "    </tr>\n",
       "    <tr>\n",
       "      <th>97725.064000</th>\n",
       "      <td>3</td>\n",
       "      <td>-5</td>\n",
       "      <td>896</td>\n",
       "    </tr>\n",
       "    <tr>\n",
       "      <th>97725.064992</th>\n",
       "      <td>1</td>\n",
       "      <td>-5</td>\n",
       "      <td>895</td>\n",
       "    </tr>\n",
       "    <tr>\n",
       "      <th>...</th>\n",
       "      <td>...</td>\n",
       "      <td>...</td>\n",
       "      <td>...</td>\n",
       "    </tr>\n",
       "    <tr>\n",
       "      <th>99417.280992</th>\n",
       "      <td>1</td>\n",
       "      <td>-2</td>\n",
       "      <td>902</td>\n",
       "    </tr>\n",
       "    <tr>\n",
       "      <th>99417.281984</th>\n",
       "      <td>4</td>\n",
       "      <td>-1</td>\n",
       "      <td>901</td>\n",
       "    </tr>\n",
       "    <tr>\n",
       "      <th>99417.282976</th>\n",
       "      <td>2</td>\n",
       "      <td>-2</td>\n",
       "      <td>901</td>\n",
       "    </tr>\n",
       "    <tr>\n",
       "      <th>99417.284000</th>\n",
       "      <td>2</td>\n",
       "      <td>-1</td>\n",
       "      <td>899</td>\n",
       "    </tr>\n",
       "    <tr>\n",
       "      <th>99417.284992</th>\n",
       "      <td>2</td>\n",
       "      <td>-2</td>\n",
       "      <td>898</td>\n",
       "    </tr>\n",
       "  </tbody>\n",
       "</table>\n",
       "<p>1692226 rows × 3 columns</p>\n",
       "</div>"
      ],
      "text/plain": [
       "              0  1    2\n",
       "Seconds                \n",
       "97725.060992  2 -5  898\n",
       "97725.061984  2 -5  896\n",
       "97725.062976  4 -5  898\n",
       "97725.064000  3 -5  896\n",
       "97725.064992  1 -5  895\n",
       "...          .. ..  ...\n",
       "99417.280992  1 -2  902\n",
       "99417.281984  4 -1  901\n",
       "99417.282976  2 -2  901\n",
       "99417.284000  2 -1  899\n",
       "99417.284992  2 -2  898\n",
       "\n",
       "[1692226 rows x 3 columns]"
      ]
     },
     "execution_count": 20,
     "metadata": {},
     "output_type": "execute_result"
    }
   ],
   "source": [
    "harp.read_harp_bin(filepath)"
   ]
  },
  {
   "cell_type": "code",
   "execution_count": null,
   "metadata": {},
   "outputs": [],
   "source": []
  }
 ],
 "metadata": {
  "kernelspec": {
   "display_name": "Python 3",
   "language": "python",
   "name": "python3"
  },
  "language_info": {
   "codemirror_mode": {
    "name": "ipython",
    "version": 3
   },
   "file_extension": ".py",
   "mimetype": "text/x-python",
   "name": "python",
   "nbconvert_exporter": "python",
   "pygments_lexer": "ipython3",
   "version": "3.11.5"
  },
  "orig_nbformat": 4
 },
 "nbformat": 4,
 "nbformat_minor": 2
}
