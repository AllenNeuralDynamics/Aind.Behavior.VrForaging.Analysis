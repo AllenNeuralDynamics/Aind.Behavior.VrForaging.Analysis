{
 "cells": [
  {
   "cell_type": "code",
   "execution_count": 67,
   "metadata": {},
   "outputs": [
    {
     "name": "stdout",
     "output_type": "stream",
     "text": [
      "The autoreload extension is already loaded. To reload it, use:\n",
      "  %reload_ext autoreload\n"
     ]
    }
   ],
   "source": [
    "# IPython magig  tools\n",
    "%load_ext autoreload\n",
    "%autoreload 2\n",
    "\n",
    "from os import PathLike\n",
    "from pathlib import Path\n",
    "from pydantic import Field\n",
    "\n",
    "from aind_behavior_curriculum import (\n",
    "    Metrics,\n",
    ")\n",
    "\n",
    "from aind_vr_foraging_analysis.utils import parse\n",
    "\n",
    "import pandas as pd\n",
    "import numpy as np"
   ]
  },
  {
   "cell_type": "code",
   "execution_count": 27,
   "metadata": {},
   "outputs": [],
   "source": [
    "session_path = r'Z:\\scratch\\vr-foraging\\data\\716455\\20240413T111724'"
   ]
  },
  {
   "cell_type": "code",
   "execution_count": 93,
   "metadata": {},
   "outputs": [],
   "source": [
    "class MetricsVrForaging:\n",
    "    def __init__(self, session_path: PathLike):\n",
    "        self.session_path = Path(session_path)\n",
    "        self.data = parse.load_session_data(self.session_path)\n",
    "        self.reward_sites, self.active_site, self.config = parse.parse_dataframe(self.data)\n",
    "        self.df = self.retrieve_metrics()\n",
    "\n",
    "    def retrieve_metrics(self) -> pd.DataFrame:\n",
    "        reward_sites = self.reward_sites\n",
    "        active_site = self.active_site\n",
    "        data = self.data\n",
    "\n",
    "        df = pd.DataFrame()\n",
    "        # Summary of different relevants aspects -------------------------------------------------\n",
    "\n",
    "        unrewarded_stops = reward_sites.loc[reward_sites.reward_delivered==0]['reward_amount'].count()\n",
    "        rewarded_stops = reward_sites.loc[reward_sites.reward_delivered==1]['reward_amount'].count()\n",
    "        water_collected = reward_sites.loc[(reward_sites['reward_delivered']==1)]['reward_amount'].sum()\n",
    "        total_stops = reward_sites.loc[(reward_sites['has_choice']==True)]['reward_amount'].count()\n",
    "\n",
    "        print('Total sites: ' ,len(reward_sites), ' | ', 'Total rewarded stops: ',rewarded_stops, '(',  np.round((rewarded_stops/total_stops)*100,2),'%) | ', \n",
    "            'Total unrewarded stops: ',unrewarded_stops,'(',  np.round((unrewarded_stops/total_stops)*100,2),'%) | ','Water consumed: ', water_collected, 'ul')\n",
    "\n",
    "        print('Total travelled m: ', np.round(active_site.start_position.max()/100,2), ', current position (cm): ', data['operation_control'].streams.CurrentPosition.data.max()[0]\n",
    "        )\n",
    "\n",
    "        for odor_label in reward_sites.odor_label.unique():\n",
    "            values = reward_sites.loc[(reward_sites['odor_label']==odor_label)&(reward_sites['reward_delivered']==1)]['reward_amount'].sum()\n",
    "            print(f'{odor_label} {values} ul')\n",
    "            \n",
    "        df.at[0,'odor_sites_travelled'] = int(len(reward_sites))\n",
    "        df.at[0,'distance_m'] = data['operation_control'].streams.CurrentPosition.data.max()[0]/100\n",
    "        df.at[0,'water_collected_ul'] = water_collected\n",
    "        df.at[0,'rewarded_stops'] = int(rewarded_stops)\n",
    "        df.at[0,'total_stops'] = int(total_stops)\n",
    "        df.at[0,'session_duration_min'] = (reward_sites.index[-1] - reward_sites.index[0])/60\n",
    "        df.at[0, 'total_patches_visited'] = reward_sites.loc[reward_sites['visit_number'] >= 1].active_patch.nunique()\n",
    "        \n",
    "        # Initialize a pointer for the data values\n",
    "        data_pointer = 0\n",
    "\n",
    "        # Save the updater values\n",
    "        stop_duration = data['updater_events'].streams.UpdaterStopDurationOffset.data['data']\n",
    "        stop_duration.reset_index(drop=True, inplace=True)\n",
    "        delay = data['updater_events'].streams.UpdaterRewardDelayOffset.data['data']\n",
    "        delay.reset_index(drop=True, inplace=True)\n",
    "        velocity_threshold = data['updater_events'].streams.UpdaterStopVelocityThreshold.data['data']\n",
    "        velocity_threshold.reset_index(drop=True, inplace=True)\n",
    "        \n",
    "        # Create a new column in reward_sites to store the updated values\n",
    "        reward_sites['delay_s'] = None\n",
    "        reward_sites['velocity_threshold_cms'] = None\n",
    "        reward_sites['stop_duration_s'] = None\n",
    "\n",
    "        try:\n",
    "            # Iterate through each row of reward_sites\n",
    "            for index, row in reward_sites.iterrows():\n",
    "                if row['reward_delivered'] == 1:\n",
    "                    # Copy the next available value from data and move the pointer\n",
    "                    reward_sites.at[index, 'delay_s'] = delay[data_pointer]\n",
    "                    reward_sites.at[index, 'velocity_threshold_cms'] = velocity_threshold[data_pointer]\n",
    "                    reward_sites.at[index, 'stop_duration_s'] = stop_duration[data_pointer]\n",
    "                    data_pointer += 1\n",
    "                else:\n",
    "                    # Copy the same value without moving the pointer\n",
    "                    reward_sites.at[index, 'delay_s'] = delay[data_pointer]\n",
    "                    reward_sites.at[index, 'velocity_threshold_cms'] = velocity_threshold[data_pointer]\n",
    "                    reward_sites.at[index, 'stop_duration_s'] = stop_duration[data_pointer]\n",
    "        except KeyError:\n",
    "                reward_sites.at[index, 'delay_s'] = max(delay)\n",
    "                reward_sites.at[index, 'velocity_threshold_cms'] = max(velocity_threshold)\n",
    "                reward_sites.at[index, 'stop_duration_s'] = max(stop_duration)\n",
    "\n",
    "        # Summary of the training metrics\n",
    "        reward_sites['odor_sites'] = np.arange(1, len(reward_sites)+1)\n",
    "        df.at[0,'start_delay'] = reward_sites['delay_s'].min()\n",
    "        df.at[0,'end_delay'] = reward_sites['delay_s'].max()\n",
    "        df.at[0, 'sites_to_max_delay'] = reward_sites[reward_sites['delay_s'] == reward_sites['delay_s'].max()].iloc[0]['odor_sites']\n",
    "        df.at[0,'start_stop_duration'] = reward_sites['stop_duration_s'].min()\n",
    "        df.at[0,'end_stop_duration'] = reward_sites['stop_duration_s'].max()\n",
    "        df.at[0, 'sites_to_max_stop_duration'] = reward_sites[reward_sites['stop_duration_s'] == reward_sites['stop_duration_s'].max()].iloc[0]['odor_sites']\n",
    "        df.at[0, 'rewarded_sites_in_max_stop'] = int(reward_sites[(reward_sites['stop_duration_s'] == reward_sites['stop_duration_s'].max())&(reward_sites.has_choice == 1)]['odor_sites'].nunique())\n",
    "\n",
    "        df.at[0,'start_velocity_threshold'] = reward_sites['velocity_threshold_cms'].min()\n",
    "        df.at[0,'end_velocity_threshold'] = reward_sites['velocity_threshold_cms'].max()\n",
    "        df.at[0, 'sites_to_min_velocity'] = reward_sites[reward_sites['velocity_threshold_cms'] == reward_sites['velocity_threshold_cms'].min()].iloc[0]['odor_sites']\n",
    "            \n",
    "        return df\n",
    "\n",
    "    def get_metrics(self):\n",
    "        return self.df"
   ]
  },
  {
   "cell_type": "code",
   "execution_count": 80,
   "metadata": {},
   "outputs": [],
   "source": [
    "class ExampleMetrics(Metrics):\n",
    "    \"\"\"\n",
    "  Parameters\n",
    "    ----------\n",
    "    Pending\n",
    "    \"\"\"\n",
    "    odor_sites: float = Field(default=0)\n",
    "    # rewarded_sites: int = Field(default=0)\n",
    "    rewarded_sites_max: float = Field(default=0)\n",
    "    visited_patches: float = Field(default=0)\n",
    "    water: float = Field(default=0)"
   ]
  },
  {
   "cell_type": "code",
   "execution_count": 97,
   "metadata": {},
   "outputs": [],
   "source": [
    "metrics = ExampleMetrics(odor_sites=df.odor_sites_travelled, rewarded_sites_max=df.rewarded_sites_in_max_stop, visited_patches=df.total_patches_visited)"
   ]
  }
 ],
 "metadata": {
  "kernelspec": {
   "display_name": ".venv",
   "language": "python",
   "name": "python3"
  },
  "language_info": {
   "codemirror_mode": {
    "name": "ipython",
    "version": 3
   },
   "file_extension": ".py",
   "mimetype": "text/x-python",
   "name": "python",
   "nbconvert_exporter": "python",
   "pygments_lexer": "ipython3",
   "version": "3.11.9"
  }
 },
 "nbformat": 4,
 "nbformat_minor": 2
}
