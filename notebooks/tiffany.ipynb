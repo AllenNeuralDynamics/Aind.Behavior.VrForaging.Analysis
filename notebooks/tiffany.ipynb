{
 "cells": [
  {
   "cell_type": "code",
   "execution_count": 130,
   "metadata": {},
   "outputs": [],
   "source": [
    "import sys\n",
    "import pandas as pd\n",
    "import numpy as np\n",
    "import pandas as pd\n",
    "import numpy as np\n",
    "import seaborn as sns\n",
    "import matplotlib.pyplot as plt\n",
    "import scipy\n",
    "from pathlib import Path\n",
    "\n",
    "sys.path.append('../src/')\n",
    "from bonsai import load_bonsai_config\n",
    "load_bonsai_config(r\"C:\\Users\\tiffany.ona\\OneDrive - Allen Institute\\Documents\\VR foraging\\aind-vr-foraging\\Bonsai\")\n",
    "import harp\n",
    "import harp.processing as hp\n",
    "from harp import SoftwareEventCollection\n",
    "\n",
    "sns.set_style(\"whitegrid\")"
   ]
  },
  {
   "cell_type": "code",
   "execution_count": 123,
   "metadata": {},
   "outputs": [],
   "source": [
    "# Main path for all the data\n",
    "path = r\"Z:\\vr-foraging\\672107\\20230925T114601\""
   ]
  },
  {
   "cell_type": "code",
   "execution_count": null,
   "metadata": {},
   "outputs": [],
   "source": [
    "# REcover data streams from the AnalogInput and Behavior board. Good for discrete data. \n",
    "HarpBehavior = harp.Device(\"Behavior\")\n",
    "AnalogInput = harp.Device(\"AnalogInput\")\n",
    "\n",
    "## Paths to the data:\n",
    "root = Path(path)\n",
    "fname_formatter = lambda reg : f\"Register__{reg}.bin\"\n",
    "# Harp.Behavior data:\n",
    "harp_behavior_root = root / \"Behavior\"\n",
    "\n",
    "# Harp.AnalogInput data:\n",
    "harp_analog_root = root /  \"Analog\"\n",
    "\n",
    "# SoftwareEvents data:\n",
    "SoftwareEvents_root = root /  \"SoftwareEvents\""
   ]
  },
  {
   "cell_type": "code",
   "execution_count": null,
   "metadata": {},
   "outputs": [],
   "source": [
    "# Load the Analog input data. \n",
    "encoder  = harp.read_harp_bin(harp_behavior_root / fname_formatter(\"AnalogData\"))\n",
    "perimeter = 15*np.pi\n",
    "resolution = perimeter / -8192\n",
    "encoder['velocity'] = (encoder[1] * resolution)*1000"
   ]
  },
  {
   "cell_type": "code",
   "execution_count": null,
   "metadata": {},
   "outputs": [],
   "source": [
    "##Load digital output data\n",
    "digital_output_onset = HarpBehavior.file_to_dataframe(harp_behavior_root / fname_formatter(\"OutputSet\"))\n",
    "digital_output_offset = HarpBehavior.file_to_dataframe(harp_behavior_root / fname_formatter(\"OutputClear\"))\n",
    "\n",
    "digital_outputs = HarpBehavior.module.DigitalOutputs\n",
    "\n",
    "water_state = digital_output_onset.loc[digital_output_onset[\"Value\"] == digital_outputs.SupplyPort0]\n",
    "odor1_state = hp.distinct_until_changed_state(digital_output_onset, digital_output_offset, digital_outputs.SupplyPort1)\n",
    "odor2_state = hp.distinct_until_changed_state(digital_output_onset, digital_output_offset, digital_outputs.SupplyPort2)\n"
   ]
  },
  {
   "cell_type": "code",
   "execution_count": 124,
   "metadata": {},
   "outputs": [
    {
     "ename": "FileNotFoundError",
     "evalue": "[Errno 2] No such file or directory: 'Z:\\\\vr-foraging\\\\672107\\\\20230925T114601\\\\SoftwareEvents\\\\ActiveSite.json'",
     "output_type": "error",
     "traceback": [
      "\u001b[1;31m---------------------------------------------------------------------------\u001b[0m",
      "\u001b[1;31mFileNotFoundError\u001b[0m                         Traceback (most recent call last)",
      "\u001b[1;32mc:\\Users\\tiffany.ona\\OneDrive - Allen Institute\\Documents\\VR foraging\\aind-vr-foraging-analysis\\notebooks\\tiffany.ipynb Cell 3\u001b[0m line \u001b[0;36m2\n\u001b[0;32m      <a href='vscode-notebook-cell:/c%3A/Users/tiffany.ona/OneDrive%20-%20Allen%20Institute/Documents/VR%20foraging/aind-vr-foraging-analysis/notebooks/tiffany.ipynb#X41sZmlsZQ%3D%3D?line=0'>1</a>\u001b[0m softwareEvents \u001b[39m=\u001b[39m path \u001b[39m+\u001b[39m \u001b[39m\"\u001b[39m\u001b[39m\\\u001b[39m\u001b[39mSoftwareEvents\u001b[39m\u001b[39m\\\u001b[39m\u001b[39mActiveSite.json\u001b[39m\u001b[39m\"\u001b[39m\n\u001b[1;32m----> <a href='vscode-notebook-cell:/c%3A/Users/tiffany.ona/OneDrive%20-%20Allen%20Institute/Documents/VR%20foraging/aind-vr-foraging-analysis/notebooks/tiffany.ipynb#X41sZmlsZQ%3D%3D?line=1'>2</a>\u001b[0m ActiveSite \u001b[39m=\u001b[39m SoftwareEventCollection\u001b[39m.\u001b[39;49mfrom_json_file(softwareEvents)\n",
      "File \u001b[1;32mc:\\Users\\tiffany.ona\\OneDrive - Allen Institute\\Documents\\VR foraging\\aind-vr-foraging-analysis\\notebooks\\../src\\harp\\__init__.py:198\u001b[0m, in \u001b[0;36mSoftwareEventCollection.from_json_file\u001b[1;34m(self, filename)\u001b[0m\n\u001b[0;32m    196\u001b[0m \u001b[39m@classmethod\u001b[39m\n\u001b[0;32m    197\u001b[0m \u001b[39mdef\u001b[39;00m \u001b[39mfrom_json_file\u001b[39m(\u001b[39mself\u001b[39m, filename: \u001b[39mstr\u001b[39m):\n\u001b[1;32m--> 198\u001b[0m     \u001b[39mwith\u001b[39;00m \u001b[39mopen\u001b[39;49m(filename, \u001b[39m\"\u001b[39;49m\u001b[39mr\u001b[39;49m\u001b[39m\"\u001b[39;49m) \u001b[39mas\u001b[39;00m f:\n\u001b[0;32m    199\u001b[0m         \u001b[39mreturn\u001b[39;00m SoftwareEventCollection(\n\u001b[0;32m    200\u001b[0m             [SoftwareEvent(event) \u001b[39mfor\u001b[39;00m event \u001b[39min\u001b[39;00m f\u001b[39m.\u001b[39mreadlines()]\n\u001b[0;32m    201\u001b[0m             )\n",
      "\u001b[1;31mFileNotFoundError\u001b[0m: [Errno 2] No such file or directory: 'Z:\\\\vr-foraging\\\\672107\\\\20230925T114601\\\\SoftwareEvents\\\\ActiveSite.json'"
     ]
    }
   ],
   "source": [
    "# Recover software events for sites\n",
    "softwareEvents = path + \"\\SoftwareEvents\\ActiveSite.json\"\n",
    "ActiveSite = SoftwareEventCollection.from_json_file(softwareEvents)"
   ]
  },
  {
   "cell_type": "code",
   "execution_count": 128,
   "metadata": {},
   "outputs": [],
   "source": [
    "values_list = []\n",
    "start_position = []\n",
    "\n",
    "# Loop through the DataFrame and access the dictionary values for label and start position. \n",
    "for index, row in ActiveSite.table.iterrows():\n",
    "    cell_value = row['data']\n",
    "    values_list.append(cell_value['label'])\n",
    "    start_position.append(cell_value['startPosition'])\n",
    "\n",
    "df = pd.DataFrame(values_list, columns = ['label'])\n",
    "df['Seconds'] = ActiveSite.table['Seconds'] \n",
    "df['startPosition'] = start_position\n"
   ]
  },
  {
   "cell_type": "markdown",
   "metadata": {},
   "source": [
    "### Old way of plotting the data"
   ]
  },
  {
   "cell_type": "code",
   "execution_count": 119,
   "metadata": {},
   "outputs": [],
   "source": [
    "path = r\"Z:\\vr-foraging\\672107\\20230920T125148\\Behavior\\Register__\""
   ]
  },
  {
   "cell_type": "code",
   "execution_count": 118,
   "metadata": {},
   "outputs": [
    {
     "ename": "FileNotFoundError",
     "evalue": "[Errno 2] No such file or directory: 'Z:\\\\vr-foraging\\\\672107\\\\20230920T125148\\\\Behavior\\\\Register__44.bin'",
     "output_type": "error",
     "traceback": [
      "\u001b[1;31m---------------------------------------------------------------------------\u001b[0m",
      "\u001b[1;31mFileNotFoundError\u001b[0m                         Traceback (most recent call last)",
      "\u001b[1;32mc:\\Users\\tiffany.ona\\OneDrive - Allen Institute\\Documents\\VR foraging\\aind-vr-foraging-analysis\\notebooks\\tiffany.ipynb Cell 5\u001b[0m line \u001b[0;36m1\n\u001b[1;32m----> <a href='vscode-notebook-cell:/c%3A/Users/tiffany.ona/OneDrive%20-%20Allen%20Institute/Documents/VR%20foraging/aind-vr-foraging-analysis/notebooks/tiffany.ipynb#W3sZmlsZQ%3D%3D?line=0'>1</a>\u001b[0m df  \u001b[39m=\u001b[39m harp\u001b[39m.\u001b[39;49mread_harp_bin(path\u001b[39m+\u001b[39;49m\u001b[39mstr\u001b[39;49m(\u001b[39m44\u001b[39;49m)\u001b[39m+\u001b[39;49m\u001b[39m\"\u001b[39;49m\u001b[39m.bin\u001b[39;49m\u001b[39m\"\u001b[39;49m)\n\u001b[0;32m      <a href='vscode-notebook-cell:/c%3A/Users/tiffany.ona/OneDrive%20-%20Allen%20Institute/Documents/VR%20foraging/aind-vr-foraging-analysis/notebooks/tiffany.ipynb#W3sZmlsZQ%3D%3D?line=1'>2</a>\u001b[0m perimeter \u001b[39m=\u001b[39m \u001b[39m15\u001b[39m\u001b[39m*\u001b[39mnp\u001b[39m.\u001b[39mpi\n\u001b[0;32m      <a href='vscode-notebook-cell:/c%3A/Users/tiffany.ona/OneDrive%20-%20Allen%20Institute/Documents/VR%20foraging/aind-vr-foraging-analysis/notebooks/tiffany.ipynb#W3sZmlsZQ%3D%3D?line=2'>3</a>\u001b[0m resolution \u001b[39m=\u001b[39m perimeter \u001b[39m/\u001b[39m \u001b[39m-\u001b[39m\u001b[39m8192\u001b[39m\n",
      "File \u001b[1;32mc:\\Users\\tiffany.ona\\OneDrive - Allen Institute\\Documents\\VR foraging\\aind-vr-foraging-analysis\\notebooks\\../src\\harp\\__init__.py:23\u001b[0m, in \u001b[0;36mread_harp_bin\u001b[1;34m(file)\u001b[0m\n\u001b[0;32m     21\u001b[0m \u001b[39mdef\u001b[39;00m \u001b[39mread_harp_bin\u001b[39m(file):\n\u001b[1;32m---> 23\u001b[0m     data \u001b[39m=\u001b[39m np\u001b[39m.\u001b[39;49mfromfile(file, dtype\u001b[39m=\u001b[39;49mnp\u001b[39m.\u001b[39;49muint8)\n\u001b[0;32m     25\u001b[0m     \u001b[39mif\u001b[39;00m \u001b[39mlen\u001b[39m(data) \u001b[39m==\u001b[39m \u001b[39m0\u001b[39m:\n\u001b[0;32m     26\u001b[0m         \u001b[39mreturn\u001b[39;00m \u001b[39mNone\u001b[39;00m\n",
      "\u001b[1;31mFileNotFoundError\u001b[0m: [Errno 2] No such file or directory: 'Z:\\\\vr-foraging\\\\672107\\\\20230920T125148\\\\Behavior\\\\Register__44.bin'"
     ]
    }
   ],
   "source": [
    "\n",
    "df  = harp.read_harp_bin(path+str(44)+\".bin\")\n",
    "perimeter = 15*np.pi\n",
    "resolution = perimeter / -8192\n",
    "df['velocity'] = (df[1] * resolution)*1000"
   ]
  },
  {
   "cell_type": "code",
   "execution_count": 17,
   "metadata": {},
   "outputs": [],
   "source": [
    "odor_df  = harp.read_harp_bin(path+str(34)+\".bin\")\n"
   ]
  },
  {
   "cell_type": "code",
   "execution_count": 18,
   "metadata": {},
   "outputs": [],
   "source": [
    "water_on = harp.read_harp_bin(path+str(34)+\".bin\")\n",
    "water_on = water_on.loc[water_on['Value'] & 0x08 > 0] * 0 + 1\n",
    "water_off = harp.read_harp_bin(path+str(35)+\".bin\")\n",
    "water_off = water_off.loc[water_off['Value'] & 0x08 > 0] * 0\n",
    "water = pd.concat([water_on, water_off], join='outer', sort=True)\n"
   ]
  },
  {
   "cell_type": "code",
   "execution_count": 19,
   "metadata": {},
   "outputs": [],
   "source": [
    "odor1_on = harp.read_harp_bin(path+str(34)+\".bin\")\n",
    "odor1_on = odor1_on.loc[odor1_on['Value'] & 16 > 0] * 0 + 1\n",
    "odor1_off = harp.read_harp_bin(path+str(35)+\".bin\")\n",
    "odor1_off = odor1_off.loc[odor1_off['Value'] & 16 > 0] * 0\n",
    "odor1 = pd.concat([odor1_on, odor1_off], join='outer').sort_index()\n",
    "odor1 = odor1.loc[odor1.Value.diff() != 0]"
   ]
  },
  {
   "cell_type": "code",
   "execution_count": null,
   "metadata": {},
   "outputs": [],
   "source": [
    "# // calculate running window for velocity in df\n",
    "def running_average(numbers, window_size):\n",
    "    if window_size <= 0:\n",
    "        raise ValueError(\"Window size must be greater than 0\")\n",
    "    \n",
    "    running_averages = []\n",
    "    window_sum = 0\n",
    "    \n",
    "    for i, num in enumerate(numbers):\n",
    "        window_sum += num\n",
    "        \n",
    "        if i >= window_size - 1:\n",
    "            average = window_sum / window_size\n",
    "            running_averages.append(average)\n",
    "            window_sum -= numbers[i - window_size + 1]\n",
    "    \n",
    "    return running_averages"
   ]
  },
  {
   "cell_type": "code",
   "execution_count": 20,
   "metadata": {},
   "outputs": [],
   "source": [
    "#------------------------------------------------\n",
    "# Create a FIR filter and apply it to signal.\n",
    "#------------------------------------------------\n",
    "# The Nyquist rate of the signal.\n",
    "from scipy.signal import lfilter, firwin\n",
    "nyq_rate = 1000 / 2.\n",
    "\n",
    "# The cutoff frequency of the filter: 6KHz\n",
    "cutoff_hz = 5.0\n",
    "\n",
    "# Length of the filter (number of coefficients, i.e. the filter order + 1)\n",
    "numtaps = 61\n",
    "\n",
    "# Use firwin to create a lowpass FIR filter\n",
    "fir_coeff = firwin(numtaps, cutoff_hz/nyq_rate)\n",
    "\n",
    "# Use lfilter to filter the signal with the FIR filter\n",
    "df[\"filtered_velocity\"] = lfilter(fir_coeff, 1.0, df[\"velocity\"].values)\n",
    "\n"
   ]
  },
  {
   "cell_type": "code",
   "execution_count": 131,
   "metadata": {},
   "outputs": [
    {
     "ename": "KeyError",
     "evalue": "'filtered_velocity'",
     "output_type": "error",
     "traceback": [
      "\u001b[1;31m---------------------------------------------------------------------------\u001b[0m",
      "\u001b[1;31mKeyError\u001b[0m                                  Traceback (most recent call last)",
      "File \u001b[1;32mc:\\Users\\tiffany.ona\\OneDrive - Allen Institute\\Documents\\VR foraging\\aind-vr-foraging-analysis\\.venv\\Lib\\site-packages\\pandas\\core\\indexes\\base.py:3790\u001b[0m, in \u001b[0;36mIndex.get_loc\u001b[1;34m(self, key)\u001b[0m\n\u001b[0;32m   3789\u001b[0m \u001b[39mtry\u001b[39;00m:\n\u001b[1;32m-> 3790\u001b[0m     \u001b[39mreturn\u001b[39;00m \u001b[39mself\u001b[39;49m\u001b[39m.\u001b[39;49m_engine\u001b[39m.\u001b[39;49mget_loc(casted_key)\n\u001b[0;32m   3791\u001b[0m \u001b[39mexcept\u001b[39;00m \u001b[39mKeyError\u001b[39;00m \u001b[39mas\u001b[39;00m err:\n",
      "File \u001b[1;32mindex.pyx:152\u001b[0m, in \u001b[0;36mpandas._libs.index.IndexEngine.get_loc\u001b[1;34m()\u001b[0m\n",
      "File \u001b[1;32mindex.pyx:181\u001b[0m, in \u001b[0;36mpandas._libs.index.IndexEngine.get_loc\u001b[1;34m()\u001b[0m\n",
      "File \u001b[1;32mpandas\\_libs\\hashtable_class_helper.pxi:7080\u001b[0m, in \u001b[0;36mpandas._libs.hashtable.PyObjectHashTable.get_item\u001b[1;34m()\u001b[0m\n",
      "File \u001b[1;32mpandas\\_libs\\hashtable_class_helper.pxi:7088\u001b[0m, in \u001b[0;36mpandas._libs.hashtable.PyObjectHashTable.get_item\u001b[1;34m()\u001b[0m\n",
      "\u001b[1;31mKeyError\u001b[0m: 'filtered_velocity'",
      "\nThe above exception was the direct cause of the following exception:\n",
      "\u001b[1;31mKeyError\u001b[0m                                  Traceback (most recent call last)",
      "\u001b[1;32mc:\\Users\\tiffany.ona\\OneDrive - Allen Institute\\Documents\\VR foraging\\aind-vr-foraging-analysis\\notebooks\\tiffany.ipynb Cell 16\u001b[0m line \u001b[0;36m1\n\u001b[0;32m      <a href='vscode-notebook-cell:/c%3A/Users/tiffany.ona/OneDrive%20-%20Allen%20Institute/Documents/VR%20foraging/aind-vr-foraging-analysis/notebooks/tiffany.ipynb#X13sZmlsZQ%3D%3D?line=8'>9</a>\u001b[0m plt\u001b[39m.\u001b[39mplot(water\u001b[39m.\u001b[39mindex,  np\u001b[39m.\u001b[39mrepeat(\u001b[39m40\u001b[39m, \u001b[39mlen\u001b[39m(water)),  marker\u001b[39m=\u001b[39m\u001b[39m'\u001b[39m\u001b[39mo\u001b[39m\u001b[39m'\u001b[39m, linestyle\u001b[39m=\u001b[39m\u001b[39m'\u001b[39m\u001b[39mnone\u001b[39m\u001b[39m'\u001b[39m, markersize\u001b[39m=\u001b[39m\u001b[39m2\u001b[39m, color\u001b[39m=\u001b[39m\u001b[39m'\u001b[39m\u001b[39mblue\u001b[39m\u001b[39m'\u001b[39m)\n\u001b[0;32m     <a href='vscode-notebook-cell:/c%3A/Users/tiffany.ona/OneDrive%20-%20Allen%20Institute/Documents/VR%20foraging/aind-vr-foraging-analysis/notebooks/tiffany.ipynb#X13sZmlsZQ%3D%3D?line=9'>10</a>\u001b[0m plt\u001b[39m.\u001b[39mvlines(water\u001b[39m.\u001b[39mindex, ymin\u001b[39m=\u001b[39m\u001b[39m-\u001b[39m\u001b[39m2\u001b[39m, ymax\u001b[39m=\u001b[39m\u001b[39m40\u001b[39m, color\u001b[39m=\u001b[39m\u001b[39m'\u001b[39m\u001b[39mblue\u001b[39m\u001b[39m'\u001b[39m, linewidth\u001b[39m=\u001b[39m\u001b[39m1\u001b[39m)\n\u001b[1;32m---> <a href='vscode-notebook-cell:/c%3A/Users/tiffany.ona/OneDrive%20-%20Allen%20Institute/Documents/VR%20foraging/aind-vr-foraging-analysis/notebooks/tiffany.ipynb#X13sZmlsZQ%3D%3D?line=11'>12</a>\u001b[0m plt\u001b[39m.\u001b[39mplot(df\u001b[39m.\u001b[39mindex\u001b[39m.\u001b[39mvalues, df[\u001b[39m\"\u001b[39;49m\u001b[39mfiltered_velocity\u001b[39;49m\u001b[39m\"\u001b[39;49m], color\u001b[39m=\u001b[39m\u001b[39m'\u001b[39m\u001b[39mblack\u001b[39m\u001b[39m'\u001b[39m)\n\u001b[0;32m     <a href='vscode-notebook-cell:/c%3A/Users/tiffany.ona/OneDrive%20-%20Allen%20Institute/Documents/VR%20foraging/aind-vr-foraging-analysis/notebooks/tiffany.ipynb#X13sZmlsZQ%3D%3D?line=12'>13</a>\u001b[0m plt\u001b[39m.\u001b[39mxlim(\u001b[39m98963\u001b[39m, \u001b[39m98995\u001b[39m)\n\u001b[0;32m     <a href='vscode-notebook-cell:/c%3A/Users/tiffany.ona/OneDrive%20-%20Allen%20Institute/Documents/VR%20foraging/aind-vr-foraging-analysis/notebooks/tiffany.ipynb#X13sZmlsZQ%3D%3D?line=13'>14</a>\u001b[0m plt\u001b[39m.\u001b[39mxlabel(\u001b[39m'\u001b[39m\u001b[39mTime (s)\u001b[39m\u001b[39m'\u001b[39m)\n",
      "File \u001b[1;32mc:\\Users\\tiffany.ona\\OneDrive - Allen Institute\\Documents\\VR foraging\\aind-vr-foraging-analysis\\.venv\\Lib\\site-packages\\pandas\\core\\frame.py:3896\u001b[0m, in \u001b[0;36mDataFrame.__getitem__\u001b[1;34m(self, key)\u001b[0m\n\u001b[0;32m   3894\u001b[0m \u001b[39mif\u001b[39;00m \u001b[39mself\u001b[39m\u001b[39m.\u001b[39mcolumns\u001b[39m.\u001b[39mnlevels \u001b[39m>\u001b[39m \u001b[39m1\u001b[39m:\n\u001b[0;32m   3895\u001b[0m     \u001b[39mreturn\u001b[39;00m \u001b[39mself\u001b[39m\u001b[39m.\u001b[39m_getitem_multilevel(key)\n\u001b[1;32m-> 3896\u001b[0m indexer \u001b[39m=\u001b[39m \u001b[39mself\u001b[39;49m\u001b[39m.\u001b[39;49mcolumns\u001b[39m.\u001b[39;49mget_loc(key)\n\u001b[0;32m   3897\u001b[0m \u001b[39mif\u001b[39;00m is_integer(indexer):\n\u001b[0;32m   3898\u001b[0m     indexer \u001b[39m=\u001b[39m [indexer]\n",
      "File \u001b[1;32mc:\\Users\\tiffany.ona\\OneDrive - Allen Institute\\Documents\\VR foraging\\aind-vr-foraging-analysis\\.venv\\Lib\\site-packages\\pandas\\core\\indexes\\base.py:3797\u001b[0m, in \u001b[0;36mIndex.get_loc\u001b[1;34m(self, key)\u001b[0m\n\u001b[0;32m   3792\u001b[0m     \u001b[39mif\u001b[39;00m \u001b[39misinstance\u001b[39m(casted_key, \u001b[39mslice\u001b[39m) \u001b[39mor\u001b[39;00m (\n\u001b[0;32m   3793\u001b[0m         \u001b[39misinstance\u001b[39m(casted_key, abc\u001b[39m.\u001b[39mIterable)\n\u001b[0;32m   3794\u001b[0m         \u001b[39mand\u001b[39;00m \u001b[39many\u001b[39m(\u001b[39misinstance\u001b[39m(x, \u001b[39mslice\u001b[39m) \u001b[39mfor\u001b[39;00m x \u001b[39min\u001b[39;00m casted_key)\n\u001b[0;32m   3795\u001b[0m     ):\n\u001b[0;32m   3796\u001b[0m         \u001b[39mraise\u001b[39;00m InvalidIndexError(key)\n\u001b[1;32m-> 3797\u001b[0m     \u001b[39mraise\u001b[39;00m \u001b[39mKeyError\u001b[39;00m(key) \u001b[39mfrom\u001b[39;00m \u001b[39merr\u001b[39;00m\n\u001b[0;32m   3798\u001b[0m \u001b[39mexcept\u001b[39;00m \u001b[39mTypeError\u001b[39;00m:\n\u001b[0;32m   3799\u001b[0m     \u001b[39m# If we have a listlike key, _check_indexing_error will raise\u001b[39;00m\n\u001b[0;32m   3800\u001b[0m     \u001b[39m#  InvalidIndexError. Otherwise we fall through and re-raise\u001b[39;00m\n\u001b[0;32m   3801\u001b[0m     \u001b[39m#  the TypeError.\u001b[39;00m\n\u001b[0;32m   3802\u001b[0m     \u001b[39mself\u001b[39m\u001b[39m.\u001b[39m_check_indexing_error(key)\n",
      "\u001b[1;31mKeyError\u001b[0m: 'filtered_velocity'"
     ]
    },
    {
     "data": {
      "image/png": "[encoded data removed]",
      "text/plain": [
       "<Figure size 1000x500 with 1 Axes>"
      ]
     },
     "metadata": {},
     "output_type": "display_data"
    }
   ],
   "source": [
    "\n",
    "plt.figure(figsize=(10, 5))\n",
    "\n",
    "# plt.plot(odor1.loc[odor1.Value == 1].index,  np.repeat(40, len(odor1.loc[odor1.Value == 1])),  marker='x', linestyle='none', markersize=5, color='crimson')\n",
    "# plt.vlines(odor1.loc[odor1.Value == 1].index, ymin=-2, ymax=40, color='crimson', linewidth=1)\n",
    "\n",
    "# plt.plot(odor1.loc[odor1.Value == 0].index,  np.repeat(40, len(odor1.loc[odor1.Value == 0])),  marker='x', linestyle='none', markersize=5, color='pink')\n",
    "# plt.vlines(odor1.loc[odor1.Value == 0].index, ymin=-2, ymax=40, color='pink', linewidth=1)\n",
    "\n",
    "plt.plot(water.index,  np.repeat(40, len(water)),  marker='o', linestyle='none', markersize=2, color='blue')\n",
    "plt.vlines(water.index, ymin=-2, ymax=40, color='blue', linewidth=1)\n",
    "\n",
    "plt.plot(df.index.values, df[\"filtered_velocity\"], color='black')\n",
    "plt.xlim(98963, 98995)\n",
    "plt.xlabel('Time (s)')\n",
    "plt.ylabel('Velocity (cm/s)')\n",
    "\n",
    "# Shade the background\n",
    "plt.axvspan(98963.7, 98950.7, alpha=0.2, color='grey', label='Shaded Area')\n",
    "plt.axvspan(98966.7, 98971.5, alpha=0.2, color='grey', label='Shaded Area')\n",
    "plt.axvspan(98972.7, 98977.5, alpha=0.2, color='grey', label='Shaded Area')\n",
    "plt.axvspan(98979.2, 98984.0, alpha=0.2, color='grey', label='Shaded Area')\n",
    "plt.axvspan(98985.3, 98990.4, alpha=0.2, color='grey', label='Shaded Area')\n",
    "plt.axvspan(98991.8, 98995.4, alpha=0.2, color='grey', label='Shaded Area')\n",
    "\n",
    "\n",
    "sns.despine()\n",
    "# Define custom tick positions and labels for the x-axis\n",
    "custom_xticks = [98963, 98967, 98972, 98977, 98982, 98987, 98992, 98997]\n",
    "custom_xtick_labels = [0, 5, 10, 15, 20,25,30,35]\n",
    "# Set custom ticks and labels for the x-axis\n",
    "plt.xticks(custom_xticks, custom_xtick_labels)\n",
    "plt.ylim(-3,41)\n",
    "plt.savefig('672107.png', dpi=300, bbox_inches='tight')"
   ]
  },
  {
   "cell_type": "code",
   "execution_count": null,
   "metadata": {},
   "outputs": [],
   "source": [
    "import json\n",
    "\n",
    "# //load json file\n",
    "with open(r'D:\\672107\\20230920T125148\\config.json') as f:\n",
    "  data = json.load(f)"
   ]
  },
  {
   "cell_type": "code",
   "execution_count": null,
   "metadata": {},
   "outputs": [],
   "source": [
    "path"
   ]
  },
  {
   "cell_type": "code",
   "execution_count": null,
   "metadata": {},
   "outputs": [],
   "source": [
    "import json\n",
    "\n",
    "# //load json file\n",
    "with open(r'Z:\\vr-foraging\\672107\\20230925T114601\\SoftwareEvents\\ChoiceFeedback.json') as f:\n",
    "  data = json.load(f)"
   ]
  },
  {
   "cell_type": "code",
   "execution_count": null,
   "metadata": {},
   "outputs": [],
   "source": [
    "df['time_intervals']= df.index.diff()\n",
    "df.fillna(0.001, inplace=True)\n",
    "df"
   ]
  },
  {
   "cell_type": "code",
   "execution_count": null,
   "metadata": {},
   "outputs": [],
   "source": [
    "def calculate_distance(speeds, time_intervals):\n",
    "    if len(speeds) != len(time_intervals):\n",
    "        raise ValueError(\"Length of speeds and time_intervals must be the same\")\n",
    "\n",
    "    distance = 0.0\n",
    "\n",
    "    for i in range(len(speeds)):\n",
    "        delta_t = time_intervals[i]\n",
    "        v = speeds[i]\n",
    "        distance += v * delta_t\n",
    "\n",
    "    return distance\n",
    "\n",
    "# Example usage:\n",
    "speeds = df[\"velocity\"].values  # Instantaneous speeds in m/s\n",
    "time_intervals = df['time_intervals'].values  # Time intervals in seconds\n",
    "\n",
    "total_distance = calculate_distance(speeds, time_intervals)\n",
    "print(f\"Total distance traveled: {total_distance} meters\")\n"
   ]
  },
  {
   "cell_type": "code",
   "execution_count": null,
   "metadata": {},
   "outputs": [],
   "source": [
    "\n",
    "def calculate_instantaneous_positions(speeds, time_intervals):\n",
    "    if len(speeds) != len(time_intervals):\n",
    "        raise ValueError(\"Length of speeds and time_intervals must be the same\")\n",
    "\n",
    "    positions = [0.0]  # Initialize with an initial position of 0\n",
    "    for i in range(len(speeds)):\n",
    "        delta_t = time_intervals[i]\n",
    "        v = speeds[i]\n",
    "        position = positions[-1] + v * delta_t\n",
    "        positions.append(position)\n",
    "    \n",
    "    return positions[1:]\n",
    "\n",
    "# Example usage:\n",
    "speeds = df[\"velocity\"].values  # Instantaneous speeds in m/s\n",
    "time_intervals = df['time_intervals'].values  # Time intervals in seconds\n",
    "\n",
    "instantaneous_positions = calculate_instantaneous_positions(speeds, time_intervals)\n",
    "print(\"Instantaneous positions (meters):\", instantaneous_positions)\n",
    "df['instantaneous_positions'] = instantaneous_positions"
   ]
  },
  {
   "cell_type": "code",
   "execution_count": null,
   "metadata": {},
   "outputs": [],
   "source": [
    "pd.concat([odor1,df]).sort_index()"
   ]
  },
  {
   "cell_type": "code",
   "execution_count": null,
   "metadata": {},
   "outputs": [],
   "source": [
    "plt.plot(df['instantaneous_positions'], df['filtered_velocity'], color='black')\n",
    "\n",
    "plt.plot(odor1.loc[odor1.Value == 1].index,  np.repeat(40, len(odor1.loc[odor1.Value == 1])),  marker='x', linestyle='none', markersize=5, color='crimson')\n",
    "plt.vlines(odor1.loc[odor1.Value == 1].index, ymin=-10, ymax=40, color='crimson', linewidth=1)\n",
    "\n",
    "plt.plot(odor1.loc[odor1.Value == 0].index,  np.repeat(40, len(odor1.loc[odor1.Value == 0])),  marker='x', linestyle='none', markersize=5, color='pink')\n",
    "plt.vlines(odor1.loc[odor1.Value == 0].index, ymin=-10, ymax=40, color='pink', linewidth=1)\n",
    "\n",
    "plt.plot(water.index,  np.repeat(40, len(water)),  marker='o', linestyle='none', markersize=2, color='blue')\n",
    "plt.vlines(water.index, ymin=-10, ymax=40, color='blue', linewidth=1)\n",
    "\n",
    "plt.xlim(1500, 1700)\n",
    "sns.despine()\n",
    "plt.xlabel(\"Distance(cm)\")\n",
    "plt.ylabel(\"Spped(cm/s)\")"
   ]
  },
  {
   "cell_type": "code",
   "execution_count": null,
   "metadata": {},
   "outputs": [],
   "source": []
  }
 ],
 "metadata": {
  "kernelspec": {
   "display_name": ".venv",
   "language": "python",
   "name": "python3"
  },
  "language_info": {
   "codemirror_mode": {
    "name": "ipython",
    "version": 3
   },
   "file_extension": ".py",
   "mimetype": "text/x-python",
   "name": "python",
   "nbconvert_exporter": "python",
   "pygments_lexer": "ipython3",
   "version": "3.11.5"
  },
  "orig_nbformat": 4
 },
 "nbformat": 4,
 "nbformat_minor": 2
}
