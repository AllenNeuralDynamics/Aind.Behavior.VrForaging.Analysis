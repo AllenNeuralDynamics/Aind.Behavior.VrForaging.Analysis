{
 "cells": [
  {
   "cell_type": "code",
   "execution_count": 1,
   "metadata": {},
   "outputs": [],
   "source": [
    "import sys\n",
    "sys.path.append('../src/')\n",
    "\n",
    "import os\n",
    "from typing import Dict\n",
    "from os import PathLike\n",
    "from pathlib import Path\n",
    "\n",
    "import data_io\n",
    "\n",
    "from utils import breathing_signal as lib\n",
    "from utils import analysis_utils as analysis\n",
    "from utils import processing\n",
    "from utils import plotting_utils as plotting\n",
    "\n",
    "# Plotting libraries\n",
    "import matplotlib.pyplot as plt\n",
    "import matplotlib.patches as mpatches\n",
    "from matplotlib.backends.backend_pdf import PdfPages\n",
    "from tkinter import font\n",
    "from matplotlib.gridspec import GridSpec\n",
    "\n",
    "from matplotlib.ticker import FuncFormatter, MaxNLocator, FixedLocator\n",
    "import seaborn as sns\n",
    "import pandas as pd\n",
    "import numpy as np\n",
    "import datetime\n",
    "import math \n",
    "\n",
    "def format_func(value, tick_number):\n",
    "    return f\"{value:.0f}\"\n",
    "\n",
    "from typing import Literal, Tuple\n",
    "\n",
    "sns.set_context('talk')\n",
    "\n",
    "import warnings\n",
    "pd.options.mode.chained_assignment = None  # Ignore SettingWithCopyWarning\n",
    "warnings.simplefilter(action='ignore', category=FutureWarning)\n",
    "warnings.simplefilter(\"ignore\", UserWarning)\n",
    "warnings.filterwarnings(\"ignore\", category=RuntimeWarning)"
   ]
  },
  {
   "cell_type": "code",
   "execution_count": null,
   "metadata": {},
   "outputs": [],
   "source": [
    "color1='#d95f02'\n",
    "color2='#1b9e77'\n",
    "color3='#7570b3'\n",
    "\n",
    "foraging_figures = r'C:\\Users\\tiffany.ona\\OneDrive - Allen Institute\\Documents\\Meeting presentations\\Foraging meeting\\20240506\\figures'"
   ]
  },
  {
   "cell_type": "markdown",
   "metadata": {},
   "source": [
    "# *Intent*\n",
    "\n",
    "This code is used to calculate the curves for different parameters in behavior: reward statistics, interpatch and intersite distribution, Markov outcome"
   ]
  },
  {
   "cell_type": "markdown",
   "metadata": {},
   "source": [
    "# Reward contingencies"
   ]
  },
  {
   "cell_type": "markdown",
   "metadata": {},
   "source": [
    "## Fix number experiment (batch 1)"
   ]
  },
  {
   "cell_type": "markdown",
   "metadata": {},
   "source": [
    "### Number of reward in fix number experiment (batch 1)"
   ]
  },
  {
   "cell_type": "code",
   "execution_count": null,
   "metadata": {},
   "outputs": [],
   "source": [
    "fig, ax = plt.subplots(1, 1, figsize=(5,5))\n",
    "x = np.linspace(0, 10, 10)  # Generate 100 points between 0 and 5\n",
    "y = np.append(np.repeat(5, 3), np.repeat(0, 7))\n",
    "\n",
    "plt.plot(x, y, color=color1, marker='o')\n",
    "\n",
    "x = np.linspace(0, 10, 10)  # Generate 100 points between 0 and 5\n",
    "y = np.repeat(0, 10)\n",
    "\n",
    "plt.plot(x, y, color=color2, marker='o')\n",
    "plt.xlabel('Rewards collected')\n",
    "plt.ylabel('Volume per reward (ul)')\n",
    "# # plt.hlines(0.6, 10, 0.6, color='k', linestyle='--')\n",
    "# plt.ylim(-0.1,1)\n",
    "# plt.xlim(-0.5,10.5)\n",
    "plt.locator_params(axis='x', nbins=4)\n",
    "\n",
    "sns.despine()\n",
    "plt.tight_layout()\n",
    "fig.savefig(foraging_figures+'\\count_volume.svg', dpi=300)"
   ]
  },
  {
   "cell_type": "markdown",
   "metadata": {},
   "source": [
    "### Number of available reward volume"
   ]
  },
  {
   "cell_type": "code",
   "execution_count": null,
   "metadata": {},
   "outputs": [],
   "source": [
    "fig, ax = plt.subplots(1, 1, figsize=(5,5))\n",
    "x = np.linspace(0, 10, 10)  # Generate 100 points between 0 and 5\n",
    "y = np.repeat(3, 3)\n",
    "y = np.append([15,10,5], np.repeat(0, 7))\n",
    "\n",
    "plt.plot(x, y, color=color1, marker='o')\n",
    "\n",
    "x = np.linspace(0, 10, 10)  # Generate 100 points between 0 and 5\n",
    "y = np.repeat(0, 10)\n",
    "\n",
    "plt.plot(x, y, color=color2, marker='o')\n",
    "plt.xlabel('Rewards collected')\n",
    "plt.ylabel('Total volume left (ul)')\n",
    "# # plt.hlines(0.6, 10, 0.6, color='k', linestyle='--')\n",
    "# plt.ylim(-0.1,1)\n",
    "# plt.xlim(-0.5,10.5)\n",
    "plt.locator_params(axis='x', nbins=4)\n",
    "plt.locator_params(axis='y', nbins=4)\n",
    "\n",
    "sns.despine()\n",
    "plt.tight_layout()\n",
    "fig.savefig(foraging_figures+'\\count_volume.svg', dpi=300)"
   ]
  },
  {
   "cell_type": "markdown",
   "metadata": {},
   "source": [
    "### Prob(reward) changes"
   ]
  },
  {
   "cell_type": "code",
   "execution_count": null,
   "metadata": {},
   "outputs": [],
   "source": [
    "fig, ax = plt.subplots(1, 1, figsize=(5,5))\n",
    "x = np.linspace(0, 10, 10)  # Generate 100 points between 0 and 5\n",
    "y = np.append(np.repeat(1, 3), np.repeat(0, 7))\n",
    "\n",
    "plt.plot(x, y, color=color1, marker='o')\n",
    "\n",
    "x = np.linspace(0, 10, 10)  # Generate 100 points between 0 and 5\n",
    "y = np.repeat(0, 10)\n",
    "\n",
    "plt.plot(x, y, color=color2, marker='o')\n",
    "plt.xlabel('Rewards collected')\n",
    "plt.ylabel('P(reward)')\n",
    "# # plt.hlines(0.6, 10, 0.6, color='k', linestyle='--')\n",
    "plt.ylim(-0.05,1.1)\n",
    "# plt.xlim(-0.5,10.5)\n",
    "plt.locator_params(axis='x', nbins=4)\n",
    "\n",
    "sns.despine()\n",
    "plt.tight_layout()\n",
    "fig.savefig(foraging_figures+'\\count_prob.svg', dpi=300)"
   ]
  },
  {
   "cell_type": "markdown",
   "metadata": {},
   "source": [
    "## Volume count (batch 2)"
   ]
  },
  {
   "cell_type": "markdown",
   "metadata": {},
   "source": [
    "### Amount of water"
   ]
  },
  {
   "cell_type": "code",
   "execution_count": null,
   "metadata": {},
   "outputs": [],
   "source": [
    "fig, ax = plt.subplots(1, 1, figsize=(5,5))\n",
    "x = np.linspace(0, 10, 10)  # Generate 100 points between 0 and 5\n",
    "y = [7,7,7,0,0,0,0,0,0,0]\n",
    "\n",
    "plt.plot(x, y, color=color1, marker='o')\n",
    "\n",
    "x = np.linspace(0, 10, 10)  # Generate 100 points between 0 and 5\n",
    "y = [3,3,3,3,3,3,3,0,0,0]\n",
    "\n",
    "plt.plot(x, y, color=color2, marker='o')\n",
    "\n",
    "y = np.repeat(0, 10)\n",
    "plt.plot(x, y, color=color3, marker='o')\n",
    "plt.xlabel('Rewards collected')\n",
    "plt.ylabel('Volume per stop (ul)')\n",
    "# # plt.hlines(0.6, 10, 0.6, color='k', linestyle='--')\n",
    "# plt.ylim(-0.1,1)\n",
    "# plt.xlim(-0.5,10.5)\n",
    "plt.locator_params(axis='x', nbins=4)\n",
    "\n",
    "sns.despine()\n",
    "plt.tight_layout()\n",
    "fig.savefig(foraging_figures+'\\intercept_experiment_volume.svg', dpi=300)"
   ]
  },
  {
   "cell_type": "markdown",
   "metadata": {},
   "source": [
    "### Reward available"
   ]
  },
  {
   "cell_type": "code",
   "execution_count": null,
   "metadata": {},
   "outputs": [],
   "source": [
    "fig, ax = plt.subplots(1, 1, figsize=(5,5))\n",
    "x = np.linspace(0, 10, 10)  # Generate 100 points between 0 and 5\n",
    "y = [21,14,7,0,0,0,0,0,0,0]\n",
    "\n",
    "plt.plot(x, y, color=color1, marker='o')\n",
    "\n",
    "x = np.linspace(0, 10, 10)  # Generate 100 points between 0 and 5\n",
    "y = [21,18,15,12,9,6,3,0,0,0]\n",
    "\n",
    "plt.plot(x, y, color=color2, marker='o')\n",
    "\n",
    "y= np.repeat(0, 10)\n",
    "plt.plot(x, y, color=color3, marker='o')\n",
    "plt.xlabel('Rewards collected')\n",
    "plt.ylabel('Total reward available (ul)')\n",
    "# # plt.hlines(0.6, 10, 0.6, color='k', linestyle='--')\n",
    "# plt.ylim(-0.1,1)\n",
    "# plt.xlim(-0.5,10.5)\n",
    "plt.locator_params(axis='x', nbins=4)\n",
    "\n",
    "sns.despine()\n",
    "plt.tight_layout()\n",
    "fig.savefig(foraging_figures+'\\_available_reward.svg', dpi=300)"
   ]
  },
  {
   "cell_type": "markdown",
   "metadata": {},
   "source": [
    "### P(reward)"
   ]
  },
  {
   "cell_type": "code",
   "execution_count": null,
   "metadata": {},
   "outputs": [],
   "source": [
    "fig, ax = plt.subplots(1, 1, figsize=(5,5))\n",
    "x = np.linspace(0, 10, 10)  # Generate 100 points between 0 and 5\n",
    "y = [0.9,0.9,0.9,0,0,0,0,0,0,0]\n",
    "\n",
    "plt.plot(x, y, color=color1, marker='o')\n",
    "\n",
    "x = np.linspace(0, 10, 10)  # Generate 100 points between 0 and 5\n",
    "y = [0.9,0.9,0.9,0.9,0.9,0.9,0.9,0,0,0]\n",
    "\n",
    "plt.plot(x, y, color=color2, marker='o')\n",
    "\n",
    "y= np.repeat(0, 10)\n",
    "plt.plot(x, y, color=color3, marker='o')\n",
    "plt.xlabel('Rewards collected')\n",
    "plt.ylabel('P(reward)')\n",
    "# # plt.hlines(0.6, 10, 0.6, color='k', linestyle='--')\n",
    "plt.ylim(-0.05,1)\n",
    "# plt.xlim(-0.5,10.5)\n",
    "plt.locator_params(axis='x', nbins=4)\n",
    "\n",
    "sns.despine()\n",
    "plt.tight_layout()\n",
    "fig.savefig(foraging_figures+'\\preward_reward.svg', dpi=300)"
   ]
  },
  {
   "cell_type": "markdown",
   "metadata": {},
   "source": [
    "### Average amount of water per stop"
   ]
  },
  {
   "cell_type": "code",
   "execution_count": null,
   "metadata": {},
   "outputs": [],
   "source": [
    "fig, ax = plt.subplots(1, 1, figsize=(5,5))\n",
    "x = np.linspace(0, 10, 10)  # Generate 100 points between 0 and 5\n",
    "y = [7*0.9, 7*0.9, 7*0.9, (6.3+6.3+6.3)/4, (6.3+6.3+6.3)/5, (6.3+6.3+6.3)/6, (6.3+6.3+6.3)/7, (6.3+6.3+6.3)/8, (6.3+6.3+6.3)/9, (6.3+6.3+6.3)/10]\n",
    "\n",
    "plt.plot(x, y, color=color1, marker='o')\n",
    "\n",
    "y = [3*0.9, 3*0.9, 3*0.9, (3*0.9+3*0.9+3*0.9)/4, (3*0.9+3*0.9+3*0.9)/5, (3*0.9+3*0.9+3*0.9)/6, (3*0.9+3*0.9+3*0.9)/7, (3*0.9+3*0.9+3*0.9)/8, (3*0.9+3*0.9+3*0.9)/9, (3*0.9+3*0.9+3*0.9)/10]\n",
    "plt.plot(x, y, color=color2, marker='o')\n",
    "\n",
    "y = np.repeat(0, 10)\n",
    "plt.plot(x, y, color=color3, marker='o')\n",
    "\n",
    "plt.xlabel('Rewards collected')\n",
    "plt.ylabel('Average reward per stop')\n",
    "# # plt.hlines(0.6, 10, 0.6, color='k', linestyle='--')\n",
    "# plt.ylim(-0.1,1)\n",
    "# plt.xlim(-0.5,10.5)\n",
    "plt.locator_params(axis='x', nbins=4)\n",
    "sns.despine()\n",
    "plt.tight_layout()\n",
    "\n",
    "fig.savefig(foraging_figures+'\\_average_stop_reward.svg', dpi=300)"
   ]
  },
  {
   "cell_type": "markdown",
   "metadata": {},
   "source": [
    "## Volume decrease (batch 2b)"
   ]
  },
  {
   "cell_type": "code",
   "execution_count": null,
   "metadata": {},
   "outputs": [],
   "source": [
    "fig, ax = plt.subplots(1, 1, figsize=(5,5))\n",
    "x = np.linspace(0, 10, 10)  # Generate 100 points between 0 and 5\n",
    "a = 7\n",
    "b = math.e  # Amplitude\n",
    "# c = 0.1284\n",
    "c = 0.1782\n",
    "d = 0\n",
    "\n",
    "# Generate x values\n",
    "y = a * pow(b, -c * x) + d\n",
    "plt.plot(x, y, color=color1, marker='o')\n",
    "plt.text(1, 6.8, f'a = {a}', color=color1)\n",
    "\n",
    "a = 3\n",
    "y = a * pow(b, -c * x) + d\n",
    "plt.plot(x, y, color=color2, marker='o')\n",
    "plt.xlabel('Rewards collected')\n",
    "plt.ylabel('Wolume (ul)')\n",
    "# # plt.hlines(0.6, 10, 0.6, color='k', linestyle='--')\n",
    "# plt.ylim(-0.1,1)\n",
    "# plt.xlim(-0.5,10.5)\n",
    "plt.text(1.5, 2.75, f'a = {a}', color=color2)\n",
    "plt.locator_params(axis='x', nbins=4)\n",
    "\n",
    "\n",
    "a = 0\n",
    "y = a * pow(b, -c * x) + d\n",
    "plt.plot(x, y, color=color3, marker='o')\n",
    "plt.xlabel('Rewards collected')\n",
    "plt.ylabel('Wolume (ul)')\n",
    "# # plt.hlines(0.6, 10, 0.6, color='k', linestyle='--')\n",
    "# plt.ylim(-0.1,1)\n",
    "# plt.xlim(-0.5,10.5)\n",
    "plt.text(2, 0.25, f'a = {a}', color=color3)\n",
    "plt.locator_params(axis='x', nbins=4)\n",
    "\n",
    "sns.despine()\n",
    "plt.tight_layout()\n",
    "fig.savefig(foraging_figures+'\\intercept_experiment_volume_decrease.svg', dpi=300)"
   ]
  },
  {
   "cell_type": "markdown",
   "metadata": {},
   "source": [
    "## P(reward) experiment (batch 3)"
   ]
  },
  {
   "cell_type": "code",
   "execution_count": null,
   "metadata": {},
   "outputs": [],
   "source": [
    "fig, ax = plt.subplots(1, 1, figsize=(5,5))\n",
    "x = np.linspace(0, 10, 10)  # Generate 100 points between 0 and 5\n",
    "a = 0.6\n",
    "# c = 0.1284\n",
    "c = 0.1782\n",
    "d = 0\n",
    "\n",
    "# Generate x values\n",
    "y = a * pow(b, -c * x) + d\n",
    "plt.plot(x, y, color=color2, marker='o')\n",
    "plt.text(0.25, 0.25, f'a = {a}', color=color2)\n",
    "\n",
    "a = 0.9\n",
    "y = a * pow(b, -c * x) + d\n",
    "plt.plot(x, y, color=color1, marker='o')\n",
    "plt.text(2, 0.75, f'a = {a}', color=color1)\n",
    "\n",
    "a = 0.0\n",
    "y = a * pow(b, -c * x) + d\n",
    "plt.plot(x, y, color=color3, marker='o')\n",
    "plt.text(3, 0.05, f'a = {a}', color=color3)\n",
    "\n",
    "plt.xlabel('Rewards collected')\n",
    "plt.ylabel('p(reward)')\n",
    "# plt.hlines(0.6, 10, 0.6, color='k', linestyle='--')\n",
    "plt.ylim(-0.1,1)\n",
    "plt.xlim(-0.5,10.5)\n",
    "\n",
    "plt.locator_params(axis='x', nbins=4)\n",
    "\n",
    "sns.despine()\n",
    "plt.tight_layout()\n",
    "fig.savefig(foraging_figures+'\\intercept_experiment_P_reward.svg', dpi=300)"
   ]
  },
  {
   "cell_type": "code",
   "execution_count": null,
   "metadata": {},
   "outputs": [],
   "source": [
    "fig, ax = plt.subplots(1, 1, figsize=(4,4))\n",
    "# Generate x values\n",
    "x = np.linspace(0, 10, 10)  # Generate 100 points between 0 and 5\n",
    "b = 0.354189\n",
    "\n",
    "# Define parameters for the exponential function\n",
    "a = 0.9  # Amplitude\n",
    "y = a * np.exp(-b * x)\n",
    "plt.plot(x+1, y, color=color1)\n",
    "plt.text(1.2, a, f'a = {a}', color=color1)\n",
    "\n",
    "a = 0.6  # Amplitude\n",
    "y = a * np.exp(-b * x)\n",
    "plt.plot(x+1, y, color=color2)\n",
    "plt.text(1, 0.05, f'a = {a}', color=color2)\n",
    "plt.xlabel('Rewards collected')\n",
    "plt.ylabel('P(reward)')\n",
    "plt.locator_params(axis='y', nbins=3)\n",
    "plt.ylim(0,1)\n",
    "plt.xlim(0.5,10)\n",
    "\n",
    "sns.despine()\n",
    "plt.tight_layout()\n",
    "fig.savefig(pdf_path+'\\intercept_experiment.svg', dpi=300)"
   ]
  },
  {
   "cell_type": "code",
   "execution_count": null,
   "metadata": {},
   "outputs": [],
   "source": [
    "fig, ax = plt.subplots(1, 1, figsize=(4,4))\n",
    "x = np.linspace(0, 10, 10)  # Generate 100 points between 0 and 5\n",
    "a = 0.9\n",
    "b = math.e  # Amplitude\n",
    "c = 0.17\n",
    "d = 0\n",
    "\n",
    "# Generate x values\n",
    "y = a * pow(b, -c * x) + d\n",
    "plt.plot(x, y, color=color2, linewidth=3)\n",
    "plt.text(0.05, 0.15, f'c = {c}', color=color1)\n",
    "\n",
    "c = 0.3\n",
    "y = a * pow(b, -c * x) + d\n",
    "plt.plot(x, y, color=color1, linewidth=3)\n",
    "plt.text(3, 0.6, f'c = {c}', color=color2)\n",
    "\n",
    "a = 0\n",
    "y = a * pow(b, -c * x) + d\n",
    "plt.plot(x, y, color=color3, linewidth=3)\n",
    "plt.text(3.5, 0.05, f'c = {a}', color=color3)\n",
    "\n",
    "plt.xlabel('Rewards collected')\n",
    "plt.ylabel('p(reward)')\n",
    "# plt.hlines(0.6, 10, 0.6, color='k', linestyle='--')\n",
    "plt.ylim(-0.1,1)\n",
    "plt.xlim(-0.5,10.5)\n",
    "\n",
    "plt.locator_params(axis='x', nbins=3)\n",
    "plt.locator_params(axis='y', nbins=3)\n",
    "\n",
    "sns.despine()\n",
    "plt.tight_layout()\n",
    "fig.savefig(foraging_figures+'\\\\rate_experiment_P_reward.svg', dpi=300)"
   ]
  },
  {
   "cell_type": "code",
   "execution_count": null,
   "metadata": {},
   "outputs": [],
   "source": [
    "fig, ax = plt.subplots(1, 1, figsize=(4,4))\n",
    "# Generate x values\n",
    "x = np.linspace(0, 10, 10)  # Generate 100 points between 0 and 5\n",
    "b = 0.354189\n",
    "\n",
    "# Define parameters for the exponential function\n",
    "a = 0.9  # Amplitude\n",
    "y = a * np.exp(-b * x)\n",
    "plt.plot(x+1, y, color=color1)\n",
    "plt.text(1.2, a, f'a = {a}', color=color1)\n",
    "\n",
    "a = 0.6  # Amplitude\n",
    "y = a * np.exp(-b * x)\n",
    "plt.plot(x+1, y, color=color2)\n",
    "plt.text(1, 0.05, f'a = {a}', color=color2)\n",
    "plt.xlabel('Rewards collected')\n",
    "plt.ylabel('P(reward)')\n",
    "plt.locator_params(axis='y', nbins=3)\n",
    "plt.ylim(0,1)\n",
    "plt.xlim(0.5,10)\n",
    "\n",
    "sns.despine()\n",
    "plt.tight_layout()\n",
    "fig.savefig(pdf_path+'\\intercept_experiment.svg', dpi=300)"
   ]
  },
  {
   "cell_type": "markdown",
   "metadata": {},
   "source": [
    "### First stage learning"
   ]
  },
  {
   "cell_type": "code",
   "execution_count": null,
   "metadata": {},
   "outputs": [],
   "source": [
    "fig, ax = plt.subplots(1, 1, figsize=(5,5))\n",
    "x = np.linspace(0, 20, 20)  # Generate 100 points between 0 and 5\n",
    "a = 0.9\n",
    "b = 2.718  # Amplitude\n",
    "c = 0.025\n",
    "d = 0\n",
    "# Generate x values\n",
    "y = a * pow(b, -c * x) + d\n",
    "plt.plot(x+1, y, color=color2, marker='o')\n",
    "\n",
    "# a = 0.6\n",
    "# b = 2.718  # Amplitude\n",
    "# d = 0\n",
    "# # Generate x values\n",
    "# y = a * pow(b, -c * x) + d\n",
    "# plt.plot(x+1, y, color=color1, marker='o')\n",
    "\n",
    "plt.xlabel('Rewards collected')\n",
    "plt.ylabel('P(reward)')\n",
    "plt.locator_params(axis='y', nbins=3)\n",
    "# # plt.hlines(3, 0, 21, color='k', linestyle='--')\n",
    "plt.ylim(0,1)\n",
    "plt.xlim(0.5,10)\n",
    "\n",
    "# # Prepare the observed data points\n",
    "# x_data = np.arange(1, 11)\n",
    "# y_data = np.array([0.9,0.8,0.7,0.6,0.5,0.4,0.3,0.2,0.1,0.0])\n",
    "\n",
    "# # Plot the observed data points and the fitted exponential curve\n",
    "# plt.scatter(x_data, y_data, label='Observed Data')\n",
    "\n",
    "sns.despine()\n",
    "plt.tight_layout()\n",
    "fig.savefig(pdf_path+'\\intercept_experiment_volume.svg', dpi=300)"
   ]
  },
  {
   "cell_type": "markdown",
   "metadata": {},
   "source": [
    "## Habitat"
   ]
  },
  {
   "cell_type": "code",
   "execution_count": null,
   "metadata": {},
   "outputs": [],
   "source": [
    "fig, ax = plt.subplots(1, 3, figsize=(10, 4), sharey=True, sharex=True)\n",
    "x = np.linspace(0, 20, 20)  # Generate 100 points between 0 and 5\n",
    "a = 0.9\n",
    "b = 2.718  # Amplitude\n",
    "c = 0.6\n",
    "d = 0\n",
    "# Generate x values\n",
    "y1 = a * pow(b, -c * x) + d\n",
    "ax[0].plot(x+1, y1, color=color2)\n",
    "\n",
    "a = 0.9\n",
    "b = 2.718  # Amplitude\n",
    "c = 0.25\n",
    "d = 0\n",
    "y2 = a * pow(b, -c * x) + d\n",
    "ax[0].plot(x+1, y2, linestyle=':',color=color2)\n",
    "\n",
    "a = 0.9\n",
    "b = 2.718  # Amplitude\n",
    "c= 0.25\n",
    "d = 0\n",
    "# Generate x values\n",
    "y3 = a * pow(b, -c * x) + d\n",
    "ax[1].plot(x+1, y3, linestyle=':',  color=color1)\n",
    "\n",
    "a = 0.5\n",
    "b = 2.718  # Amplitude\n",
    "c= 0.25\n",
    "d = 0\n",
    "y4 = a * pow(b, -c * x) + d\n",
    "ax[1].plot(x+1, y4, color=color1)\n",
    "\n",
    "ax[0].set_xlabel('Rewards collected')\n",
    "ax[1].set_xlabel('Rewards collected')\n",
    "ax[0].set_ylabel('P(reward)')\n",
    "ax[0].set_title('Habitat 1')\n",
    "ax[1].set_title('Habitat 2')\n",
    "\n",
    "ax[2].plot(x+1, (y1+y2)/2, color=color2)\n",
    "ax[2].plot(x+1, (y3+y4)/2, color=color1)\n",
    "ax[2].set_xlabel('Rewards collected')\n",
    "ax[2].set_title('Average')\n",
    "\n",
    "plt.locator_params(axis='y', nbins=3)\n",
    "plt.ylim(0,1)\n",
    "plt.xlim(0,10)\n",
    "\n",
    "sns.despine()\n",
    "plt.tight_layout()\n",
    "fig.savefig(pdf_path+'\\habitat_experiment.svg', dpi=300)"
   ]
  },
  {
   "cell_type": "markdown",
   "metadata": {},
   "source": [
    "# Intersites and Interpatch distances"
   ]
  },
  {
   "cell_type": "code",
   "execution_count": 23,
   "metadata": {},
   "outputs": [
    {
     "data": {
      "image/png": "[encoded data removed]",
      "text/plain": [
       "<Figure size 640x480 with 1 Axes>"
      ]
     },
     "metadata": {},
     "output_type": "display_data"
    }
   ],
   "source": [
    "# Generate x values\n",
    "x = np.linspace(0, 100, 100)\n",
    "\n",
    "A = 1  # Initial value or amplitude\n",
    "b = 0.05  # Rate of decay\n",
    "\n",
    "# Calculate y values for exponential decay curve\n",
    "y = A * np.exp(-b * x)\n",
    "\n",
    "# Plot the exponential curve\n",
    "plt.plot(x, y)\n",
    "plt.xlabel('x')\n",
    "plt.ylabel('y')\n",
    "plt.title('Intersite')\n",
    "plt.grid(True)\n",
    "plt.show()"
   ]
  },
  {
   "cell_type": "code",
   "execution_count": 62,
   "metadata": {},
   "outputs": [
    {
     "data": {
      "image/png": "[encoded data removed]",
      "text/plain": [
       "<Figure size 640x480 with 1 Axes>"
      ]
     },
     "metadata": {},
     "output_type": "display_data"
    }
   ],
   "source": [
    "# Generate x values\n",
    "x = np.linspace(0, 500, 100)\n",
    "\n",
    "b = 0.01  # Rate of decay\n",
    "\n",
    "# Calculate y values for exponential decay curve\n",
    "y = np.exp(-b * x)\n",
    "\n",
    "# Plot the exponential curve\n",
    "plt.plot(x, y)\n",
    "plt.xlabel('x')\n",
    "plt.ylabel('y')\n",
    "plt.title('Interpatch')\n",
    "plt.axvspan(0, 50, color='gray', alpha=0.5)\n",
    "plt.axvspan(400, 500, color='gray', alpha=0.5)\n",
    "plt.xlabel('Distance')\n",
    "# plt.grid(True)\n",
    "plt.show()"
   ]
  },
  {
   "cell_type": "code",
   "execution_count": 52,
   "metadata": {},
   "outputs": [
    {
     "data": {
      "image/png": "[encoded data removed]",
      "text/plain": [
       "<Figure size 1000x600 with 1 Axes>"
      ]
     },
     "metadata": {},
     "output_type": "display_data"
    }
   ],
   "source": [
    "def exponential_integral_incremental(start_time, end_time):\n",
    "    \"\"\"\n",
    "    Calculate the integral of exponential decay function incrementally starting from start_time.\n",
    "\n",
    "    Parameters:\n",
    "    - start_time: Start time of the interval.\n",
    "    - end_time: End time of the interval.\n",
    "\n",
    "    Returns:\n",
    "    - times: List of time points.\n",
    "    - integrals: List of integrals starting from each time point.\n",
    "    \"\"\"\n",
    "\n",
    "    # Define the decay rate\n",
    "    decay_rate = 0.01\n",
    "\n",
    "    # Initialize lists to store time points and integrals\n",
    "    times = []\n",
    "    integrals = []\n",
    "\n",
    "    # Iterate over time points\n",
    "    for t in range(start_time + 1, end_time):\n",
    "        # Calculate the integral from t to end_time\n",
    "        integral = -100 * (np.exp(-decay_rate * end_time) - np.exp(-decay_rate * t))\n",
    "\n",
    "        # Append the time point and integral to the respective lists\n",
    "        times.append(t)\n",
    "        integrals.append(integral)\n",
    "\n",
    "    return times, integrals\n",
    "\n",
    "# Example usage:\n",
    "start_time = 50\n",
    "end_time = 400\n",
    "times, integrals = exponential_integral_incremental(start_time, end_time)\n",
    "\n",
    "# Plotting\n",
    "plt.figure(figsize=(10, 6))\n",
    "plt.plot(times, integrals, marker='o', linestyle='-')\n",
    "plt.title('Integral of Exponential Decay Function Across Time')\n",
    "plt.xlabel('Time')\n",
    "plt.ylabel('Integral')\n",
    "plt.grid(True)\n",
    "plt.show()\n"
   ]
  },
  {
   "cell_type": "markdown",
   "metadata": {},
   "source": [
    "# Markov matrix for retrieving next patch"
   ]
  },
  {
   "cell_type": "code",
   "execution_count": 22,
   "metadata": {},
   "outputs": [
    {
     "name": "stdout",
     "output_type": "stream",
     "text": [
      "State 1:  52.52 , State 2:  39.73 , state 3:  7.75\n"
     ]
    }
   ],
   "source": [
    "def simulate_markov_chain(transition_matrix, initial_state, num_steps):\n",
    "    num_states = len(transition_matrix)\n",
    "    current_state = initial_state\n",
    "    state_counts = [0] * num_states\n",
    "    \n",
    "    for _ in range(num_steps):\n",
    "        # Increment the count for the current state\n",
    "        state_counts[current_state] += 1\n",
    "        \n",
    "        # Transition to the next state probabilistically\n",
    "        probabilities = transition_matrix[current_state]\n",
    "        next_state = np.random.choice(np.arange(num_states), p=probabilities)\n",
    "        current_state = next_state\n",
    "    \n",
    "    state_counts_percentage = [count / num_steps * 100 for count in state_counts]\n",
    "\n",
    "    return state_counts, np.round(state_counts_percentage,2)\n",
    "\n",
    "# Example transition matrix\n",
    "transition_matrix = np.array([[0.6, 0.35, 0.05],\n",
    "                              [0.45, 0.45, 0.1],\n",
    "                              [0.45, 0.45, 0.1]])\n",
    "\n",
    "# Number of transitions to simulate\n",
    "num_steps = 100\n",
    "\n",
    "state_one = []\n",
    "state_two = []\n",
    "state_three = []\n",
    "\n",
    "# Simulate the Markov chain\n",
    "i = 0\n",
    "while i <100:\n",
    "    # Initial state\n",
    "    initial_state = np.random.choice(np.arange(3))\n",
    "    state_counts, state_counts_percentage = simulate_markov_chain(transition_matrix, initial_state, num_steps)\n",
    "    # print(\"State counts after\", num_steps, \"transitions:\", state_counts, \" (\", state_counts_percentage, \")\", \", initial state:\", initial_state)\n",
    "    i+=1\n",
    "    state_one.append(state_counts_percentage[0])\n",
    "    state_two.append(state_counts_percentage[1])\n",
    "    state_three.append(state_counts_percentage[2])\n",
    "    \n",
    "print(\"State 1: \", np.mean(state_one), \", State 2: \", np.mean(state_two), \", state 3: \",  np.mean(state_three))"
   ]
  },
  {
   "cell_type": "markdown",
   "metadata": {},
   "source": [
    "# Goodness of fit changing patch size"
   ]
  }
 ],
 "metadata": {
  "kernelspec": {
   "display_name": ".venv",
   "language": "python",
   "name": "python3"
  },
  "language_info": {
   "codemirror_mode": {
    "name": "ipython",
    "version": 3
   },
   "file_extension": ".py",
   "mimetype": "text/x-python",
   "name": "python",
   "nbconvert_exporter": "python",
   "pygments_lexer": "ipython3",
   "version": "3.11.5"
  }
 },
 "nbformat": 4,
 "nbformat_minor": 2
}
